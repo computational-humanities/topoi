{
 "cells": [
  {
   "cell_type": "markdown",
   "metadata": {},
   "source": [
    "# Mittelalterliche astronomische Diagramm Datenbank\n",
    "\n",
    "Die Datenbank ist im  Datenformat JSON  in Repositorium der Edition Topoi publiziert.  Aus ihr wurde eine  flache Liste aller Diagramme  generiert, die über das Internet aus einem Git-Repositorium eingeladen wird.  Die Datenbank *diaattr.json* enthält als Forschungsdatenobjekt die Beschreibung der Diagramme mit Attributen, wie die Charakteristiken  der  Abbildungen und Manuskripte,  die Bibliothek des heutigen Halters  sowie die Stelle der Abbildung im Manuskript  sowie ihr Diagrammtyp.\n",
    "\n"
   ]
  },
  {
   "cell_type": "code",
   "execution_count": 60,
   "metadata": {
    "collapsed": false
   },
   "outputs": [],
   "source": [
    "import pandas as pd\n",
    "import medDiaJson as medDia\n",
    "import roman_date as roda"
   ]
  },
  {
   "cell_type": "code",
   "execution_count": 61,
   "metadata": {
    "collapsed": false
   },
   "outputs": [
    {
     "data": {
      "text/html": [
       "<div>\n",
       "<table border=\"1\" class=\"dataframe\">\n",
       "  <thead>\n",
       "    <tr style=\"text-align: right;\">\n",
       "      <th></th>\n",
       "      <th>altID</th>\n",
       "      <th>author</th>\n",
       "      <th>biblio</th>\n",
       "      <th>diaAttr</th>\n",
       "      <th>diaID</th>\n",
       "      <th>diaTyp</th>\n",
       "      <th>diaURL</th>\n",
       "      <th>foliopage</th>\n",
       "      <th>manID</th>\n",
       "      <th>manURL</th>\n",
       "      <th>textID</th>\n",
       "      <th>textURL</th>\n",
       "      <th>year</th>\n",
       "    </tr>\n",
       "  </thead>\n",
       "  <tbody>\n",
       "    <tr>\n",
       "      <th>0</th>\n",
       "      <td>Plin4</td>\n",
       "      <td>Plinius</td>\n",
       "      <td>Vaticano BAV, Ross. 247</td>\n",
       "      <td>[{'M2.12': 0, 'M2.14': 1, 'M2.11': 0, 'M2.5': ...</td>\n",
       "      <td>MAPD0668</td>\n",
       "      <td>2</td>\n",
       "      <td>Dl_1&amp;pn=396&amp;dw=1858&amp;dh=901&amp;ww=0.8926&amp;wh=0.6552...</td>\n",
       "      <td>200v</td>\n",
       "      <td>DL(1)</td>\n",
       "      <td>Dl_1&amp;pn=1</td>\n",
       "      <td>DL(1)_A</td>\n",
       "      <td></td>\n",
       "      <td>IX</td>\n",
       "    </tr>\n",
       "  </tbody>\n",
       "</table>\n",
       "</div>"
      ],
      "text/plain": [
       "   altID   author                   biblio  \\\n",
       "0  Plin4  Plinius  Vaticano BAV, Ross. 247   \n",
       "\n",
       "                                             diaAttr     diaID diaTyp  \\\n",
       "0  [{'M2.12': 0, 'M2.14': 1, 'M2.11': 0, 'M2.5': ...  MAPD0668      2   \n",
       "\n",
       "                                              diaURL foliopage  manID  \\\n",
       "0  Dl_1&pn=396&dw=1858&dh=901&ww=0.8926&wh=0.6552...      200v  DL(1)   \n",
       "\n",
       "      manURL   textID textURL year  \n",
       "0  Dl_1&pn=1  DL(1)_A           IX  "
      ]
     },
     "execution_count": 61,
     "metadata": {},
     "output_type": "execute_result"
    }
   ],
   "source": [
    "url = 'https://raw.githubusercontent.com/grasshoff/ComputationalHistoryScience/master/diaattr.json'\n",
    "diagrams = pd.read_json(url)\n",
    "diagrams.head(1)"
   ]
  },
  {
   "cell_type": "code",
   "execution_count": 62,
   "metadata": {
    "collapsed": false
   },
   "outputs": [
    {
     "data": {
      "text/plain": [
       "721"
      ]
     },
     "execution_count": 62,
     "metadata": {},
     "output_type": "execute_result"
    }
   ],
   "source": [
    "len(diagrams)"
   ]
  },
  {
   "cell_type": "code",
   "execution_count": 63,
   "metadata": {
    "collapsed": false
   },
   "outputs": [
    {
     "data": {
      "text/plain": [
       "Index(['altID', 'author', 'biblio', 'diaAttr', 'diaID', 'diaTyp', 'diaURL',\n",
       "       'foliopage', 'manID', 'manURL', 'textID', 'textURL', 'year'],\n",
       "      dtype='object')"
      ]
     },
     "execution_count": 63,
     "metadata": {},
     "output_type": "execute_result"
    }
   ],
   "source": [
    "diagrams.keys()"
   ]
  },
  {
   "cell_type": "markdown",
   "metadata": {
    "variables": {
     "len(diagrams)": "721"
    }
   },
   "source": [
    " Insgesamt enthält die noch nicht weiter reduzierte ungefilterte Datenmenge die Beschreibung von {{len(diagrams)}}  Diagrammen.  (Bemerkung: die in diesem Satz angegebene Zahl wurde wie zuvor in der Python Zelle berechnet.)  Die Keys  mit dem Zusatz „ID“  sind eindeutige Kennzeichen für die benannten Entitäten, in diesem Fall  ein Diagramm, dass den Namen *diaID* oder alternativ *altID*  trägt, sowie der Text *textID* aus einem Manuskripts *manID*, der immer eindeutig aus dem Werk eines Autors stammt und mit dem Kennzeichen *textID*  benannt ist.\n",
    " \n",
    " \\begin{tabular}{lc{12cm}}\n",
    " 'altID'&  alternative ID  des Diagramms\\\\\n",
    " 'author'&  antiker Autor des Werks\\\\\n",
    " 'biblio'&  die  Bezeichnung des Werks der Bibliothek, in dem sich heute befindet\\\\\n",
    " 'diaAttr'&  eine Liste mit Merkmalen des Diagramms, die manuell erstellt wurde\\\\\n",
    " 'diaID'& ID des  Diagramms\\\\\n",
    " 'diaTyp'&  Typ des Diagramms nach der Konvention des Projekts\\\\\n",
    " 'diaURL'&   Teil einer URL, mit der das Diagramm aus dem Repositorium der Edition Topoi aufgerufen werden kann.\\\\\n",
    " 'foliopage'&  Die Folioseite, auf der  sich das Diagramm  befindet\\\\\n",
    " 'manID'& ID  des Manuskripts, in dem der Text mit den Diagramm enthalten ist\\\\\n",
    " 'manURL'&  Teil einer URL für den Aufruf des Faksimile  des Manuskripts\\\\\n",
    " 'textID'&ID  des Textes eines Autors\\\\\n",
    " 'textURL'&  Teil einer URL für den Aufruf des Faksimile ist des Texts\\\\\n",
    " 'year& geschätzte Zeit für die Abschrift \\\\\n",
    " \\end{tabular}"
   ]
  },
  {
   "cell_type": "markdown",
   "metadata": {},
   "source": [
    "# Dataframes"
   ]
  },
  {
   "cell_type": "markdown",
   "metadata": {},
   "source": [
    "## Erweiterung der Felder: 'centuries'\n",
    "\n",
    " im ersten Schritt erweitern wir den Datensatz um eine neue Spalte 'century', für die das Jahrhundert aus der Angabe des Jahres berechnet wird. Die Datierung der Manuskripte wurde oft aufgrund der paleographischen Eigenheiten der Schrift in ein Jahrhundert datiert, oft ist es auch für ein bestimmtes Skriptorium oder gar Schreiber zu datieren gewesen und damit zeitlich enger einzugrenzen gewesen, in wenigen Ausnahmen konnte ein genaues Jahr für die Abfassung einer Abschrift gegeben werden. In der neuen Spalte werden diese Angaben vergleichbar auf das ganze Jahrhundert reduziert."
   ]
  },
  {
   "cell_type": "code",
   "execution_count": 64,
   "metadata": {
    "collapsed": false
   },
   "outputs": [],
   "source": [
    "diagrams['century']=diagrams['year'].apply(lambda r: roda.from_roman(r))"
   ]
  },
  {
   "cell_type": "code",
   "execution_count": 65,
   "metadata": {
    "collapsed": false
   },
   "outputs": [
    {
     "data": {
      "text/html": [
       "<div>\n",
       "<table border=\"1\" class=\"dataframe\">\n",
       "  <thead>\n",
       "    <tr style=\"text-align: right;\">\n",
       "      <th></th>\n",
       "      <th>altID</th>\n",
       "      <th>author</th>\n",
       "      <th>biblio</th>\n",
       "      <th>diaAttr</th>\n",
       "      <th>diaID</th>\n",
       "      <th>diaTyp</th>\n",
       "      <th>diaURL</th>\n",
       "      <th>foliopage</th>\n",
       "      <th>manID</th>\n",
       "      <th>manURL</th>\n",
       "      <th>textID</th>\n",
       "      <th>textURL</th>\n",
       "      <th>year</th>\n",
       "      <th>century</th>\n",
       "    </tr>\n",
       "  </thead>\n",
       "  <tbody>\n",
       "    <tr>\n",
       "      <th>0</th>\n",
       "      <td>Plin4</td>\n",
       "      <td>Plinius</td>\n",
       "      <td>Vaticano BAV, Ross. 247</td>\n",
       "      <td>[{'M2.12': 0, 'M2.14': 1, 'M2.11': 0, 'M2.5': ...</td>\n",
       "      <td>MAPD0668</td>\n",
       "      <td>2</td>\n",
       "      <td>Dl_1&amp;pn=396&amp;dw=1858&amp;dh=901&amp;ww=0.8926&amp;wh=0.6552...</td>\n",
       "      <td>200v</td>\n",
       "      <td>DL(1)</td>\n",
       "      <td>Dl_1&amp;pn=1</td>\n",
       "      <td>DL(1)_A</td>\n",
       "      <td></td>\n",
       "      <td>IX</td>\n",
       "      <td>9</td>\n",
       "    </tr>\n",
       "  </tbody>\n",
       "</table>\n",
       "</div>"
      ],
      "text/plain": [
       "   altID   author                   biblio  \\\n",
       "0  Plin4  Plinius  Vaticano BAV, Ross. 247   \n",
       "\n",
       "                                             diaAttr     diaID diaTyp  \\\n",
       "0  [{'M2.12': 0, 'M2.14': 1, 'M2.11': 0, 'M2.5': ...  MAPD0668      2   \n",
       "\n",
       "                                              diaURL foliopage  manID  \\\n",
       "0  Dl_1&pn=396&dw=1858&dh=901&ww=0.8926&wh=0.6552...      200v  DL(1)   \n",
       "\n",
       "      manURL   textID textURL year  century  \n",
       "0  Dl_1&pn=1  DL(1)_A           IX        9  "
      ]
     },
     "execution_count": 65,
     "metadata": {},
     "output_type": "execute_result"
    }
   ],
   "source": [
    "diagrams.head(1)"
   ]
  },
  {
   "cell_type": "markdown",
   "metadata": {},
   "source": [
    "## Auswahl\n",
    "\n",
    "Mit der Funktion reducedData(dataframe, keyValueList,debug=False)  lassen sich die Zeilen des Datensatzes auch solche reduzieren, deren Key  den String als Wert enthält. auf diese Weise kann schnell überprüft werden, ob bestimmte Sonderfälle oder Ausreißer der Daten vorkommen und im nächsten Schritt der Bereinigung des Datensatzes eliminiert werden sollen. Im ersten Fall wird überprüft, ob ein Jahrhundert entweder nicht angegeben ist und leer ist, oder ob der Wert mit dem Jahrhundert null angegeben ist.  In diesem Fall konnte  zur Datierung der Manuskripte keine zuverlässige Zeitangabe geschätzt werden.\n"
   ]
  },
  {
   "cell_type": "code",
   "execution_count": 66,
   "metadata": {
    "collapsed": false
   },
   "outputs": [
    {
     "data": {
      "text/html": [
       "<div>\n",
       "<table border=\"1\" class=\"dataframe\">\n",
       "  <thead>\n",
       "    <tr style=\"text-align: right;\">\n",
       "      <th></th>\n",
       "      <th>altID</th>\n",
       "      <th>author</th>\n",
       "      <th>biblio</th>\n",
       "      <th>diaAttr</th>\n",
       "      <th>diaID</th>\n",
       "      <th>diaTyp</th>\n",
       "      <th>diaURL</th>\n",
       "      <th>foliopage</th>\n",
       "      <th>manID</th>\n",
       "      <th>manURL</th>\n",
       "      <th>textID</th>\n",
       "      <th>textURL</th>\n",
       "      <th>year</th>\n",
       "      <th>century</th>\n",
       "    </tr>\n",
       "  </thead>\n",
       "  <tbody>\n",
       "    <tr>\n",
       "      <th>0</th>\n",
       "      <td>Calc265</td>\n",
       "      <td>Calcidius</td>\n",
       "      <td>unbekannt</td>\n",
       "      <td>[{'M10.19': 0, 'M10.32': 0, 'M10.14': 0, 'M10....</td>\n",
       "      <td>MAPD0186</td>\n",
       "      <td>10</td>\n",
       "      <td>Nw_1&amp;pn=17&amp;dw=1858&amp;dh=901&amp;ww=0.3051&amp;wh=0.2919&amp;...</td>\n",
       "      <td>15v</td>\n",
       "      <td>NW(1)</td>\n",
       "      <td>Nw_1&amp;pn=1</td>\n",
       "      <td>NW(1)_A</td>\n",
       "      <td></td>\n",
       "      <td>unbekannt</td>\n",
       "      <td>0</td>\n",
       "    </tr>\n",
       "    <tr>\n",
       "      <th>1</th>\n",
       "      <td>Calc266</td>\n",
       "      <td>Calcidius</td>\n",
       "      <td>unbekannt</td>\n",
       "      <td>[{'M11.20': 1, 'M11.10': 1, 'M11.35': 1, 'M11....</td>\n",
       "      <td>MAPD0187</td>\n",
       "      <td>11</td>\n",
       "      <td>Nw_1&amp;pn=17&amp;dw=1858&amp;dh=901&amp;ww=0.331&amp;wh=0.3245&amp;w...</td>\n",
       "      <td>16r</td>\n",
       "      <td>NW(1)</td>\n",
       "      <td>Nw_1&amp;pn=1</td>\n",
       "      <td>NW(1)_A</td>\n",
       "      <td></td>\n",
       "      <td>unbekannt</td>\n",
       "      <td>0</td>\n",
       "    </tr>\n",
       "    <tr>\n",
       "      <th>2</th>\n",
       "      <td>Calc267</td>\n",
       "      <td>Calcidius</td>\n",
       "      <td>unbekannt</td>\n",
       "      <td>[{'M12.35': 0, 'M12.8': 1, 'M12.22': 0, 'M12.2...</td>\n",
       "      <td>MAPD0188</td>\n",
       "      <td>12</td>\n",
       "      <td>Nw_1&amp;pn=18&amp;dw=1858&amp;dh=901&amp;ww=0.3514&amp;wh=0.3788&amp;...</td>\n",
       "      <td>16v</td>\n",
       "      <td>NW(1)</td>\n",
       "      <td>Nw_1&amp;pn=1</td>\n",
       "      <td>NW(1)_A</td>\n",
       "      <td></td>\n",
       "      <td>unbekannt</td>\n",
       "      <td>0</td>\n",
       "    </tr>\n",
       "    <tr>\n",
       "      <th>3</th>\n",
       "      <td>Calc268</td>\n",
       "      <td>Calcidius</td>\n",
       "      <td>unbekannt</td>\n",
       "      <td>[{'M13.7': 0, 'M13.11': 0, 'M13.20': 0, 'M13.2...</td>\n",
       "      <td>MAPD0189</td>\n",
       "      <td>13</td>\n",
       "      <td>Nw_1&amp;pn=19&amp;dw=1858&amp;dh=901&amp;ww=0.2615&amp;wh=0.2593&amp;...</td>\n",
       "      <td>17v</td>\n",
       "      <td>NW(1)</td>\n",
       "      <td>Nw_1&amp;pn=1</td>\n",
       "      <td>NW(1)_A</td>\n",
       "      <td></td>\n",
       "      <td>unbekannt</td>\n",
       "      <td>0</td>\n",
       "    </tr>\n",
       "    <tr>\n",
       "      <th>4</th>\n",
       "      <td>Calc269</td>\n",
       "      <td>Calcidius</td>\n",
       "      <td>unbekannt</td>\n",
       "      <td>[{'M14.6': 0, 'M14.21': 0, 'M14.4': 1, 'M14.13...</td>\n",
       "      <td>MAPD0190</td>\n",
       "      <td>14</td>\n",
       "      <td>Nw_1&amp;pn=23&amp;dw=1858&amp;dh=901&amp;ww=0.2534&amp;wh=0.2422&amp;...</td>\n",
       "      <td>21v</td>\n",
       "      <td>NW(1)</td>\n",
       "      <td>Nw_1&amp;pn=1</td>\n",
       "      <td>NW(1)_A</td>\n",
       "      <td></td>\n",
       "      <td>unbekannt</td>\n",
       "      <td>0</td>\n",
       "    </tr>\n",
       "    <tr>\n",
       "      <th>5</th>\n",
       "      <td>Calc270</td>\n",
       "      <td>Calcidius</td>\n",
       "      <td>unbekannt</td>\n",
       "      <td>[{'M15.22': 0, 'M15.16': 1, 'M15.21': 0, 'M15....</td>\n",
       "      <td>MAPD0192</td>\n",
       "      <td>15</td>\n",
       "      <td>Nw_1&amp;pn=23&amp;dw=1858&amp;dh=901&amp;ww=0.282&amp;wh=0.3136&amp;w...</td>\n",
       "      <td>22r</td>\n",
       "      <td>NW(1)</td>\n",
       "      <td>Nw_1&amp;pn=1</td>\n",
       "      <td>NW(1)_A</td>\n",
       "      <td></td>\n",
       "      <td>unbekannt</td>\n",
       "      <td>0</td>\n",
       "    </tr>\n",
       "  </tbody>\n",
       "</table>\n",
       "</div>"
      ],
      "text/plain": [
       "     altID     author     biblio  \\\n",
       "0  Calc265  Calcidius  unbekannt   \n",
       "1  Calc266  Calcidius  unbekannt   \n",
       "2  Calc267  Calcidius  unbekannt   \n",
       "3  Calc268  Calcidius  unbekannt   \n",
       "4  Calc269  Calcidius  unbekannt   \n",
       "5  Calc270  Calcidius  unbekannt   \n",
       "\n",
       "                                             diaAttr     diaID diaTyp  \\\n",
       "0  [{'M10.19': 0, 'M10.32': 0, 'M10.14': 0, 'M10....  MAPD0186     10   \n",
       "1  [{'M11.20': 1, 'M11.10': 1, 'M11.35': 1, 'M11....  MAPD0187     11   \n",
       "2  [{'M12.35': 0, 'M12.8': 1, 'M12.22': 0, 'M12.2...  MAPD0188     12   \n",
       "3  [{'M13.7': 0, 'M13.11': 0, 'M13.20': 0, 'M13.2...  MAPD0189     13   \n",
       "4  [{'M14.6': 0, 'M14.21': 0, 'M14.4': 1, 'M14.13...  MAPD0190     14   \n",
       "5  [{'M15.22': 0, 'M15.16': 1, 'M15.21': 0, 'M15....  MAPD0192     15   \n",
       "\n",
       "                                              diaURL foliopage  manID  \\\n",
       "0  Nw_1&pn=17&dw=1858&dh=901&ww=0.3051&wh=0.2919&...       15v  NW(1)   \n",
       "1  Nw_1&pn=17&dw=1858&dh=901&ww=0.331&wh=0.3245&w...       16r  NW(1)   \n",
       "2  Nw_1&pn=18&dw=1858&dh=901&ww=0.3514&wh=0.3788&...       16v  NW(1)   \n",
       "3  Nw_1&pn=19&dw=1858&dh=901&ww=0.2615&wh=0.2593&...       17v  NW(1)   \n",
       "4  Nw_1&pn=23&dw=1858&dh=901&ww=0.2534&wh=0.2422&...       21v  NW(1)   \n",
       "5  Nw_1&pn=23&dw=1858&dh=901&ww=0.282&wh=0.3136&w...       22r  NW(1)   \n",
       "\n",
       "      manURL   textID textURL       year  century  \n",
       "0  Nw_1&pn=1  NW(1)_A          unbekannt        0  \n",
       "1  Nw_1&pn=1  NW(1)_A          unbekannt        0  \n",
       "2  Nw_1&pn=1  NW(1)_A          unbekannt        0  \n",
       "3  Nw_1&pn=1  NW(1)_A          unbekannt        0  \n",
       "4  Nw_1&pn=1  NW(1)_A          unbekannt        0  \n",
       "5  Nw_1&pn=1  NW(1)_A          unbekannt        0  "
      ]
     },
     "execution_count": 66,
     "metadata": {},
     "output_type": "execute_result"
    }
   ],
   "source": [
    "medDia.reducedData(diagrams,[[\"century\",0]])"
   ]
  },
  {
   "cell_type": "markdown",
   "metadata": {},
   "source": [
    "## Cleaning data\n",
    "Leave out \n",
    "   - diagrams without corresponding diatyp\n",
    "   - unclear year"
   ]
  },
  {
   "cell_type": "code",
   "execution_count": 67,
   "metadata": {
    "collapsed": false
   },
   "outputs": [
    {
     "data": {
      "text/plain": [
       "707"
      ]
     },
     "execution_count": 67,
     "metadata": {},
     "output_type": "execute_result"
    }
   ],
   "source": [
    "diagrams=diagrams[diagrams[\"diaTyp\"] != 0.0]\n",
    "len(diagrams)"
   ]
  },
  {
   "cell_type": "code",
   "execution_count": 68,
   "metadata": {
    "collapsed": false
   },
   "outputs": [
    {
     "data": {
      "text/plain": [
       "660"
      ]
     },
     "execution_count": 68,
     "metadata": {},
     "output_type": "execute_result"
    }
   ],
   "source": [
    "diagrams=diagrams[diagrams[\"diaTyp\"] != '']\n",
    "len(diagrams)"
   ]
  },
  {
   "cell_type": "code",
   "execution_count": 69,
   "metadata": {
    "collapsed": false
   },
   "outputs": [
    {
     "data": {
      "text/plain": [
       "654"
      ]
     },
     "execution_count": 69,
     "metadata": {},
     "output_type": "execute_result"
    }
   ],
   "source": [
    "diagrams=diagrams[diagrams[\"century\"] != 0]\n",
    "anzahlDia=len(diagrams)\n",
    "anzahlDia"
   ]
  },
  {
   "cell_type": "code",
   "execution_count": 70,
   "metadata": {
    "collapsed": false
   },
   "outputs": [
    {
     "name": "stdout",
     "output_type": "stream",
     "text": [
      "<class 'pandas.core.frame.DataFrame'>\n",
      "Int64Index: 654 entries, 0 to 720\n",
      "Data columns (total 14 columns):\n",
      "altID        654 non-null object\n",
      "author       654 non-null object\n",
      "biblio       654 non-null object\n",
      "diaAttr      654 non-null object\n",
      "diaID        654 non-null object\n",
      "diaTyp       654 non-null object\n",
      "diaURL       654 non-null object\n",
      "foliopage    654 non-null object\n",
      "manID        654 non-null object\n",
      "manURL       654 non-null object\n",
      "textID       654 non-null object\n",
      "textURL      654 non-null object\n",
      "year         654 non-null object\n",
      "century      654 non-null int64\n",
      "dtypes: int64(1), object(13)\n",
      "memory usage: 76.6+ KB\n"
     ]
    }
   ],
   "source": [
    "diagrams.info()"
   ]
  },
  {
   "cell_type": "markdown",
   "metadata": {},
   "source": [
    "## Mengen: Autoren, years and centuries"
   ]
  },
  {
   "cell_type": "code",
   "execution_count": 71,
   "metadata": {
    "collapsed": false
   },
   "outputs": [
    {
     "data": {
      "text/plain": [
       "{'Calcidius', 'Capella', 'Macrobius', 'Plinius'}"
      ]
     },
     "execution_count": 71,
     "metadata": {},
     "output_type": "execute_result"
    }
   ],
   "source": [
    "setAutoren=set(pd.Series(diagrams[\"author\"]))\n",
    "setAutoren"
   ]
  },
  {
   "cell_type": "code",
   "execution_count": 72,
   "metadata": {
    "collapsed": false
   },
   "outputs": [],
   "source": [
    "years=pd.Series(diagrams['year'])\n",
    "setYears=set(years)\n",
    "# setYears"
   ]
  },
  {
   "cell_type": "code",
   "execution_count": 73,
   "metadata": {
    "collapsed": false
   },
   "outputs": [
    {
     "data": {
      "text/plain": [
       "229"
      ]
     },
     "execution_count": 73,
     "metadata": {},
     "output_type": "execute_result"
    }
   ],
   "source": [
    "setTextID=set(pd.Series(diagrams[\"textID\"]))\n",
    "len(setTextID)"
   ]
  },
  {
   "cell_type": "code",
   "execution_count": 74,
   "metadata": {
    "collapsed": false
   },
   "outputs": [
    {
     "data": {
      "text/plain": [
       "{1.0,\n",
       " 2.0,\n",
       " 3.0,\n",
       " 4.0,\n",
       " 5.0,\n",
       " 6.0,\n",
       " 7.0,\n",
       " 8.0,\n",
       " 9.0,\n",
       " 10.0,\n",
       " 11.0,\n",
       " 12.0,\n",
       " 13.0,\n",
       " 14.0,\n",
       " 15.0,\n",
       " 16.0,\n",
       " 17.0,\n",
       " 18.0,\n",
       " 19.0,\n",
       " 20.0,\n",
       " 21.0,\n",
       " 22.0,\n",
       " 23.0,\n",
       " 24.0,\n",
       " 25.0,\n",
       " 26.0,\n",
       " 27.0,\n",
       " 28.0,\n",
       " 29.0,\n",
       " 30.0,\n",
       " 31.0}"
      ]
     },
     "execution_count": 74,
     "metadata": {},
     "output_type": "execute_result"
    }
   ],
   "source": [
    "setDiaTyp=set(pd.Series(diagrams[\"diaTyp\"]))\n",
    "setDiaTyp"
   ]
  },
  {
   "cell_type": "code",
   "execution_count": 75,
   "metadata": {
    "collapsed": false
   },
   "outputs": [
    {
     "data": {
      "text/plain": [
       "{9, 10, 11, 12, 13, 14, 15}"
      ]
     },
     "execution_count": 75,
     "metadata": {},
     "output_type": "execute_result"
    }
   ],
   "source": [
    "\n",
    "setCent=set(pd.Series(diagrams[\"century\"]))\n",
    "setCent"
   ]
  },
  {
   "cell_type": "markdown",
   "metadata": {
    "variables": {
     "anzahlDia": "654"
    }
   },
   "source": [
    "## Häufigkeit und Verteilung der Diagramme\n",
    "\n",
    "Die Datenbank enthält {{anzahlDia}}  Diagramme eines fest zugeordneten Typs. Insgesamt verteilen sich die Diagramme über die vier verschiedenen Autoren in folgender Häufigkeit. Die Anzahl der Diagramme ist für Calcidius fast doppelt so groß wie für die drei übrigen Autoren."
   ]
  },
  {
   "cell_type": "code",
   "execution_count": 76,
   "metadata": {
    "collapsed": false
   },
   "outputs": [
    {
     "data": {
      "text/plain": [
       "author\n",
       "Calcidius    278\n",
       "Capella      158\n",
       "Macrobius    112\n",
       "Plinius      106\n",
       "dtype: int64"
      ]
     },
     "execution_count": 76,
     "metadata": {},
     "output_type": "execute_result"
    }
   ],
   "source": [
    "diagrams.groupby(\"author\").size()"
   ]
  },
  {
   "cell_type": "code",
   "execution_count": 77,
   "metadata": {
    "collapsed": false
   },
   "outputs": [],
   "source": [
    "manvert=diagrams.groupby(['author',\"manID\"]).size()"
   ]
  },
  {
   "cell_type": "code",
   "execution_count": 78,
   "metadata": {
    "collapsed": false
   },
   "outputs": [
    {
     "data": {
      "text/plain": [
       "5.791666666666667"
      ]
     },
     "execution_count": 78,
     "metadata": {},
     "output_type": "execute_result"
    }
   ],
   "source": [
    "manvert[\"Calcidius\"].mean()"
   ]
  },
  {
   "cell_type": "code",
   "execution_count": 79,
   "metadata": {
    "collapsed": false
   },
   "outputs": [
    {
     "name": "stdout",
     "output_type": "stream",
     "text": [
      "Capella  31mittel=5.096774193548387\n",
      "Calcidius  48mittel=5.791666666666667\n",
      "Macrobius  92mittel=1.2173913043478262\n",
      "Plinius  58mittel=1.8275862068965518\n"
     ]
    }
   ],
   "source": [
    "for i in setAutoren:\n",
    "    print(i + \"  \"+str(len(manvert[i]))+\"mittel=\"+str(manvert[i].mean()))"
   ]
  },
  {
   "cell_type": "code",
   "execution_count": 80,
   "metadata": {
    "collapsed": false
   },
   "outputs": [
    {
     "data": {
      "text/plain": [
       "author     century\n",
       "Calcidius  9           18\n",
       "           10          22\n",
       "           11         106\n",
       "           12          54\n",
       "           13           7\n",
       "           14           7\n",
       "           15          64\n",
       "Capella    9           69\n",
       "           11          25\n",
       "           12          30\n",
       "           15          34\n",
       "Macrobius  9            6\n",
       "           10           5\n",
       "           11          31\n",
       "           12          54\n",
       "           13           9\n",
       "           14           2\n",
       "           15           5\n",
       "Plinius    9           30\n",
       "           10          27\n",
       "           11          22\n",
       "           12          24\n",
       "           13           2\n",
       "           14           1\n",
       "dtype: int64"
      ]
     },
     "execution_count": 80,
     "metadata": {},
     "output_type": "execute_result"
    }
   ],
   "source": [
    "diagrams.groupby([\"author\",\"century\"]).size()"
   ]
  },
  {
   "cell_type": "code",
   "execution_count": 81,
   "metadata": {
    "collapsed": false
   },
   "outputs": [
    {
     "data": {
      "text/plain": [
       "author     century  diaTyp\n",
       "Calcidius  9        10.0       3\n",
       "                    11.0       3\n",
       "                    12.0       3\n",
       "                    13.0       3\n",
       "                    14.0       3\n",
       "                    15.0       3\n",
       "           10       10.0       4\n",
       "                    11.0       4\n",
       "                    12.0       3\n",
       "                    13.0       3\n",
       "                    14.0       4\n",
       "                    15.0       4\n",
       "           11       10.0      17\n",
       "                    11.0      19\n",
       "                    12.0      18\n",
       "                    13.0      15\n",
       "                    14.0      20\n",
       "                    15.0      17\n",
       "           12       10.0       9\n",
       "                    11.0      12\n",
       "                    12.0       9\n",
       "                    13.0       7\n",
       "                    14.0      10\n",
       "                    15.0       7\n",
       "           13       10.0       1\n",
       "                    11.0       2\n",
       "                    13.0       1\n",
       "                    14.0       2\n",
       "                    15.0       1\n",
       "           14       10.0       1\n",
       "                              ..\n",
       "Macrobius  15       16.0       1\n",
       "                    17.0       3\n",
       "Plinius    9        1.0        3\n",
       "                    2.0        4\n",
       "                    3.0        6\n",
       "                    4.0        4\n",
       "                    5.0        2\n",
       "                    6.0        8\n",
       "                    7.0        3\n",
       "           10       1.0        6\n",
       "                    2.0        1\n",
       "                    3.0        7\n",
       "                    4.0        1\n",
       "                    5.0        7\n",
       "                    6.0        1\n",
       "                    7.0        4\n",
       "           11       1.0        8\n",
       "                    2.0        5\n",
       "                    3.0        6\n",
       "                    5.0        1\n",
       "                    7.0        2\n",
       "           12       1.0       10\n",
       "                    2.0        3\n",
       "                    3.0        3\n",
       "                    4.0        1\n",
       "                    5.0        2\n",
       "                    6.0        5\n",
       "           13       1.0        1\n",
       "                    3.0        1\n",
       "           14       2.0        1\n",
       "dtype: int64"
      ]
     },
     "execution_count": 81,
     "metadata": {},
     "output_type": "execute_result"
    }
   ],
   "source": [
    "diagrams.groupby([\"author\",\"century\",\"diaTyp\"]).size()"
   ]
  },
  {
   "cell_type": "code",
   "execution_count": null,
   "metadata": {
    "collapsed": true
   },
   "outputs": [],
   "source": []
  },
  {
   "cell_type": "markdown",
   "metadata": {
    "collapsed": true
   },
   "source": [
    "## Counts"
   ]
  },
  {
   "cell_type": "code",
   "execution_count": 82,
   "metadata": {
    "collapsed": false
   },
   "outputs": [
    {
     "data": {
      "text/plain": [
       "Calcidius    278\n",
       "Capella      158\n",
       "Macrobius    112\n",
       "Plinius      106\n",
       "Name: author, dtype: int64"
      ]
     },
     "execution_count": 82,
     "metadata": {},
     "output_type": "execute_result"
    }
   ],
   "source": [
    "diagrams[\"author\"].value_counts()"
   ]
  },
  {
   "cell_type": "code",
   "execution_count": 83,
   "metadata": {
    "collapsed": false
   },
   "outputs": [
    {
     "data": {
      "text/plain": [
       "14.0    54\n",
       "11.0    52\n",
       "15.0    46\n",
       "8.0     45\n",
       "10.0    44\n",
       "12.0    44\n",
       "13.0    38\n",
       "17.0    32\n",
       "1.0     28\n",
       "3.0     23\n",
       "16.0    18\n",
       "9.0     17\n",
       "2.0     14\n",
       "30.0    14\n",
       "22.0    14\n",
       "6.0     14\n",
       "29.0    13\n",
       "24.0    13\n",
       "27.0    12\n",
       "5.0     12\n",
       "31.0    12\n",
       "26.0    12\n",
       "28.0    11\n",
       "25.0    11\n",
       "23.0    11\n",
       "21.0    10\n",
       "18.0    10\n",
       "7.0      9\n",
       "19.0     8\n",
       "20.0     7\n",
       "4.0      6\n",
       "Name: diaTyp, dtype: int64"
      ]
     },
     "execution_count": 83,
     "metadata": {},
     "output_type": "execute_result"
    }
   ],
   "source": [
    "diagrams[\"diaTyp\"].value_counts()"
   ]
  },
  {
   "cell_type": "code",
   "execution_count": 84,
   "metadata": {
    "collapsed": false
   },
   "outputs": [
    {
     "data": {
      "text/plain": [
       "11    184\n",
       "12    162\n",
       "9     123\n",
       "15    103\n",
       "10     54\n",
       "13     18\n",
       "14     10\n",
       "Name: century, dtype: int64"
      ]
     },
     "execution_count": 84,
     "metadata": {},
     "output_type": "execute_result"
    }
   ],
   "source": [
    "diagrams[\"century\"].value_counts()"
   ]
  }
 ],
 "metadata": {
  "_draft": {
   "nbviewer_url": "https://gist.github.com/de051b61fdda41cb754a80f576a50d00"
  },
  "anaconda-cloud": {},
  "gist": {
   "data": {
    "description": "DiagramsAnalytics.ipynb",
    "public": true
   },
   "id": "de051b61fdda41cb754a80f576a50d00"
  },
  "kernelspec": {
   "display_name": "Python [Root]",
   "language": "python",
   "name": "Python [Root]"
  },
  "language_info": {
   "codemirror_mode": {
    "name": "ipython",
    "version": 3
   },
   "file_extension": ".py",
   "mimetype": "text/x-python",
   "name": "python",
   "nbconvert_exporter": "python",
   "pygments_lexer": "ipython3",
   "version": "3.5.2"
  },
  "latex_envs": {
   "bibliofile": "biblio.bib",
   "cite_by": "apalike",
   "current_citInitial": 1,
   "eqLabelWithNumbers": true,
   "eqNumInitial": 0
  },
  "nav_menu": {},
  "toc": {
   "navigate_menu": true,
   "number_sections": true,
   "sideBar": true,
   "threshold": 6,
   "toc_cell": false,
   "toc_section_display": "block",
   "toc_window_display": false
  }
 },
 "nbformat": 4,
 "nbformat_minor": 0
}
