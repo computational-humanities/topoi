{
 "cells": [
  {
   "cell_type": "code",
   "execution_count": null,
   "metadata": {
    "collapsed": false
   },
   "outputs": [],
   "source": [
    "import os\n",
    "import json\n",
    "import numpy as np\n",
    "import pandas as pd\n",
    "#from pandas.io.json import json_normalize\n",
    "\n",
    "import folium\n",
    "from folium import plugins\n",
    "from folium.map import *\n",
    "\n",
    "# To always find data, relative paths are made absolute.\n",
    "# Since the structure of projects is Project/data Project/program(testing)\n",
    "# this should work on any system.\n",
    "\n",
    "#script_dir = os.path.dirname(__file__)\n",
    "rel_path = 'Auswertung.json'\n",
    "#abs_file_path = os.path.join(script_dir, rel_path)\n",
    "\n",
    "data_file = open(rel_path)\n",
    "\n",
    "data = json.load(data_file)"
   ]
  },
  {
   "cell_type": "code",
   "execution_count": null,
   "metadata": {
    "collapsed": false
   },
   "outputs": [],
   "source": [
    "data[0].keys()"
   ]
  },
  {
   "cell_type": "code",
   "execution_count": null,
   "metadata": {
    "collapsed": false
   },
   "outputs": [],
   "source": [
    "dfFull = pd.DataFrame(data)"
   ]
  },
  {
   "cell_type": "code",
   "execution_count": null,
   "metadata": {
    "collapsed": false
   },
   "outputs": [],
   "source": [
    "df = dfFull[['ObjID','Site','Longitude','Latitude']]\n",
    "df2 = df.replace(['unknown'],[None])\n",
    "df2['Latitude'] = df2['Latitude'].astype(float)\n",
    "df2['Longitude'] = df2['Longitude'].astype(float)\n",
    "df3 = df2.dropna(axis=0).reset_index(drop=True);"
   ]
  },
  {
   "cell_type": "code",
   "execution_count": null,
   "metadata": {
    "collapsed": false
   },
   "outputs": [],
   "source": [
    "sundials_map = folium.Map(location=[df2[\"Latitude\"][2],df2[\"Longitude\"][2]], zoom_start=5)\n",
    "sundials_map.add_tile_layer(name='Stamen Toner', tiles='Stamen Watercolor')\n",
    "\n",
    "marker = FeatureGroup(name='Coordinates')\n",
    "\n",
    "marker_cluster = folium.MarkerCluster().add_to(marker)\n",
    "    \n",
    "for i in range(len(df3)):\n",
    "    folium.Marker([df3['Latitude'][i], df3['Longitude'][i]],popup='Site:' + str(df3[\"Site\"][i]) + ' ObjectID:' + df3[\"ObjID\"][i],icon=folium.Icon(icon='ok')).add_to(marker_cluster)\n",
    "\n",
    "sundials_map.add_children(marker)\n",
    "\n",
    "sundials_map.add_children(folium.map.LayerControl())"
   ]
  },
  {
   "cell_type": "code",
   "execution_count": null,
   "metadata": {
    "collapsed": false
   },
   "outputs": [],
   "source": []
  }
 ],
 "metadata": {
  "kernelspec": {
   "display_name": "Python 3",
   "language": "python",
   "name": "python3"
  },
  "language_info": {
   "codemirror_mode": {
    "name": "ipython",
    "version": 3
   },
   "file_extension": ".py",
   "mimetype": "text/x-python",
   "name": "python",
   "nbconvert_exporter": "python",
   "pygments_lexer": "ipython3",
   "version": "3.5.2"
  },
  "nav_menu": {},
  "toc": {
   "navigate_menu": true,
   "number_sections": true,
   "sideBar": true,
   "threshold": 6,
   "toc_cell": false,
   "toc_section_display": "block",
   "toc_window_display": false
  }
 },
 "nbformat": 4,
 "nbformat_minor": 0
}
