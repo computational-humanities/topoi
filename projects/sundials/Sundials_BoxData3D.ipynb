{
 "cells": [
  {
   "cell_type": "markdown",
   "metadata": {},
   "source": [
    "# Reconstructing 3D wireframes from Hesse normal form data"
   ]
  },
  {
   "cell_type": "markdown",
   "metadata": {},
   "source": [
    "## Import Json file and load relevant libraries."
   ]
  },
  {
   "cell_type": "code",
   "execution_count": null,
   "metadata": {
    "collapsed": false
   },
   "outputs": [],
   "source": [
    "#import os\n",
    "import json\n",
    "import numpy as np\n",
    "import pandas as pd\n",
    "from pandas.io.json import json_normalize\n",
    "\n",
    "rel_path = 'BoxData_All_SDs.json'\n",
    "\n",
    "data_file = open(rel_path)\n",
    "\n",
    "data = json.load(data_file)"
   ]
  },
  {
   "cell_type": "markdown",
   "metadata": {},
   "source": [
    "## Normalization\n",
    "\n",
    "First, normalize data and choose needed columns. Then, replace empty Values with None and convert column names. Last, values should all be numeric. "
   ]
  },
  {
   "cell_type": "code",
   "execution_count": null,
   "metadata": {
    "collapsed": false
   },
   "outputs": [],
   "source": [
    "#Normalize data\n",
    "df = json_normalize(data)\n",
    "\n",
    "#Choose columns\n",
    "cols = [col for col in df.columns if 'Fitted' in col]\n",
    "df2 = df[cols]\n",
    "\n",
    "#Replace empty with None\n",
    "df3 = df2.replace(['empty'],[None])\n",
    "\n",
    "#Convert column names (too long\n",
    "df3.columns = df3.columns.str.replace('Fitted Planes.Plane','')\n",
    "\n",
    "#Convert from string to numeric values\n",
    "df4 = df3.convert_objects(convert_numeric=True)"
   ]
  },
  {
   "cell_type": "code",
   "execution_count": null,
   "metadata": {
    "collapsed": false
   },
   "outputs": [],
   "source": [
    "df.head(3)"
   ]
  },
  {
   "cell_type": "code",
   "execution_count": null,
   "metadata": {
    "collapsed": false
   },
   "outputs": [],
   "source": [
    "df4.head(3)"
   ]
  },
  {
   "cell_type": "code",
   "execution_count": null,
   "metadata": {
    "collapsed": false
   },
   "outputs": [],
   "source": [
    "len(data)\n",
    "for x in range(len(data)):\n",
    "    print('{0}:  {1}'.format(x,data[x]['ObjID']))"
   ]
  },
  {
   "cell_type": "code",
   "execution_count": null,
   "metadata": {
    "collapsed": false
   },
   "outputs": [],
   "source": [
    "data[18]"
   ]
  },
  {
   "cell_type": "markdown",
   "metadata": {},
   "source": [
    "## Construct dictornary keys for every Hesse normal form \n",
    "\n",
    "Data is distance (1), normal vector (3), orientation (1), thus every five elements belong to one normal form. The key name is choosen from the dataframe, by splitting the string and taking only the first element."
   ]
  },
  {
   "cell_type": "code",
   "execution_count": null,
   "metadata": {
    "collapsed": false
   },
   "outputs": [],
   "source": [
    "def varDictI(k):\n",
    "    varDict = {}\n",
    "    #len(df3.loc[0])\n",
    "    for i in [0,5,10,15,20,25,30]:\n",
    "        varDict['{0}{1}'.format(df4.loc[k].keys()[i].split('.')[0],0)] = [df4.loc[k][i],df4.loc[k][i+1],df4.loc[k][i+2],df4.loc[k][i+3],df4.loc[k][i+4]]\n",
    "    return varDict"
   ]
  },
  {
   "cell_type": "markdown",
   "metadata": {},
   "source": [
    "Create two lists. One, which contains all indexes where one or more entry of the dict is None and another where all entries are numbers.  "
   ]
  },
  {
   "cell_type": "code",
   "execution_count": null,
   "metadata": {
    "collapsed": false
   },
   "outputs": [],
   "source": [
    "#List with None values\n",
    "iList = []\n",
    "for i in range(len(df4)):\n",
    "    if np.isnan([item for sublist in varDictI(i).values() for item in sublist]).any():\n",
    "        iList.append(i)\n",
    "\n",
    "# List withour None values    \n",
    "iposList = []\n",
    "for i in range(len(df4)):\n",
    "    if not np.isnan([item for sublist in varDictI(i).values() for item in sublist]).any():\n",
    "        iposList.append(i)"
   ]
  },
  {
   "cell_type": "markdown",
   "metadata": {
    "collapsed": false
   },
   "source": [
    "## Calculating corner points and plotting\n",
    "\n",
    "The points of one corner can be calculated by the three intersecting planes, e.g. top, back, and east side. \n",
    "The Hesse normal forms of these sides constitute a system of equations for coordinates x,y,z which should have a unique solution. \n",
    "This system can be solved by the numpy package\n",
    "```python\n",
    "    a = np.array([[a0,a1],[a2,a3]])\n",
    "    b = np.array([b1,b2])\n",
    "    x = np.linalg.solve(a,b)\n",
    "```  \n",
    "where a is the 3x3 matrix of normal vectors, and b is the vector of distances. \n",
    "\n",
    "The calculated points are plotted with matplotlib as a scatter plot. Connecting lines are plotted by calculating the coordinates x,y,z of the lines connecting two corners. \n",
    "\n",
    "To plot, the function idealSundial takes the index as input. If the chosen index is not in the positive list, a Value Error is raised. "
   ]
  },
  {
   "cell_type": "markdown",
   "metadata": {
    "collapsed": false
   },
   "source": [
    "*Under development* Calculation of intersection points of three planes give wrong results compared with json data."
   ]
  },
  {
   "cell_type": "code",
   "execution_count": null,
   "metadata": {
    "collapsed": false
   },
   "outputs": [],
   "source": [
    "import numpy as np\n",
    "import matplotlib.pyplot as plt\n",
    "from matplotlib import cm\n",
    "from mpl_toolkits.mplot3d import Axes3D\n",
    "\n",
    "%matplotlib notebook\n",
    "\n",
    "x=18\n",
    "dataframe=df4\n",
    "check = {}\n",
    "checkList = []\n",
    "for key in data[x]['Intersection Points'].keys():\n",
    "    subList = []\n",
    "    for key2 in data[x]['Intersection Points'][key].keys():\n",
    "        subList.append(data[x]['Intersection Points'][key][key2])\n",
    "    checkList.append(subList)\n",
    "    #print(checkList)\n",
    "    check['{0}'.format(key[23:])] = subList\n",
    "    \n",
    "#def idealSundial(dataframe, x=iposList[0]):\n",
    "if x in iList:\n",
    "    raise ValueError('Coordinate list for i = %s contains nan Values.' % x)\n",
    "\n",
    "varDict = {}\n",
    "#len(df3.loc[0])\n",
    "for i in [0,5,10,15,20,25,30]:\n",
    "    varDict['{0}{1}'.format(dataframe.loc[x].keys()[i].split('.')[0],0)] = [dataframe.loc[x][i],dataframe.loc[x][i+1],dataframe.loc[x][i+2],dataframe.loc[x][i+3],dataframe.loc[x][i+4]]\n",
    "\n",
    "nBa = varDictI(x)['Back0']\n",
    "nBo = varDictI(x)['Bottom0']\n",
    "nTo = varDictI(x)['Top0']\n",
    "nE  = varDictI(x)['East0']\n",
    "nW  = varDictI(x)['West0']\n",
    "nFL = varDictI(x)['FrontLP0']\n",
    "nFU = varDictI(x)['FrontUP0']\n",
    "\n",
    "# Solve system of equations for every corner point\n",
    "XList = []\n",
    "for x in [[nFL,nBo,nW],[nFU,nTo,nW],[nFU,nTo,nE],[nFL,nBo,nE],\n",
    "          [nBa,nBo,nW],[nBa,nTo,nW],[nBa,nTo,nE],[nBa,nBo,nE],[nFU,nFL,nW],[nFU,nFL,nE]]:\n",
    "    a = np.array([[x[0][1],x[0][2],x[0][3]],\n",
    "                 [x[1][1],x[1][2],x[1][3]],\n",
    "                 [x[2][1],x[2][2],x[2][3]]])\n",
    "    b = np.array([x[0][0]*x[0][4],x[1][0]*x[1][4],x[2][0]*x[2][4]])\n",
    "    x = np.linalg.solve(a,b)\n",
    "    XList.append(x)\n",
    "\n",
    "\n",
    "# Create the figure\n",
    "#fig2 = plt.figure()\n",
    "fig2 = plt.figure(figsize=plt.figaspect(0.5))\n",
    "fig2.suptitle('A tale of 2 subplots')\n",
    "\n",
    "# Add an axes\n",
    "ax2 = fig2.add_subplot(1,2,1,projection='3d')\n",
    "\n",
    "# Add points to plot\n",
    "for x in XList:\n",
    "    ax2.scatter(x[0],x[1],x[2])\n",
    "\n",
    "# Add connecting lines\n",
    "#for a, b in [[XList[0],XList[3]],[XList[0],XList[4]],[XList[0],XList[8]],\n",
    "#             [XList[1],XList[2]],[XList[1],XList[5]],[XList[1],XList[8]],\n",
    "#             [XList[2],XList[6]],[XList[2],XList[9]],\n",
    "#             [XList[3],XList[9]],[XList[3],XList[7]],\n",
    "#             [XList[4],XList[5]],[XList[4],XList[7]],\n",
    "#             [XList[5],XList[6]],\n",
    "#            [XList[6],XList[7]],[XList[8],XList[9]]]:\n",
    "#    x = np.linspace(a[0], b[0], 100)\n",
    "#    y = np.linspace(a[1], b[1], 100)\n",
    "#    z = np.linspace(a[2], b[2], 100)\n",
    "#    ax2.plot(x, y, z)\n",
    "\n",
    "ax3 = fig2.add_subplot(1,2,2,projection='3d')\n",
    "\n",
    "arr = []\n",
    "for key in check.keys():\n",
    "    ls = [float(x) for x in check[key]]\n",
    "    arr.append(ls)\n",
    "\n",
    "for y in arr:\n",
    "    ax3.scatter(y[0],y[1],y[2],color='red')\n",
    "\n",
    "#limit plotting range\n",
    "#ax2.set_xlim3d(-200, 200)\n",
    "#ax2.set_ylim3d(-200, 200)\n",
    "#ax2.set_zlim3d(-200, 200)\n",
    "ax2.set_xlabel('X axis')\n",
    "ax2.set_ylabel('Y axis')\n",
    "ax2.set_zlabel('Z axis')\n",
    "#return plt.show()\n"
   ]
  },
  {
   "cell_type": "code",
   "execution_count": null,
   "metadata": {
    "collapsed": false
   },
   "outputs": [],
   "source": [
    "# Solve system of equations for every corner point\n",
    "XList = []\n",
    "for x in [[nW,nBo,nFL]]:\n",
    "    print(x[0])\n",
    "    a = np.array([[x[0][1],x[0][2],x[0][3]],\n",
    "                 [x[1][1],x[1][2],x[1][3]],\n",
    "                 [x[2][1],x[2][2],x[2][3]]])\n",
    "    b = np.array([x[0][0]*x[0][4],x[1][0]*x[1][4],x[2][0]*x[2][4]])\n",
    "    x = np.linalg.solve(a,b)\n",
    "x"
   ]
  },
  {
   "cell_type": "code",
   "execution_count": null,
   "metadata": {
    "collapsed": false
   },
   "outputs": [],
   "source": [
    "idealSundial(df4,45)"
   ]
  },
  {
   "cell_type": "code",
   "execution_count": null,
   "metadata": {
    "collapsed": false
   },
   "outputs": [],
   "source": [
    "from __future__ import print_function\n",
    "from ipywidgets import interact, interactive, fixed\n",
    "import ipywidgets as widgets\n",
    "\n",
    "# Raises index error...\n",
    "#interact(idealSundial,x=iposList,dataframe=fixed(df4))"
   ]
  },
  {
   "cell_type": "code",
   "execution_count": null,
   "metadata": {
    "collapsed": false
   },
   "outputs": [],
   "source": [
    "from mpl_toolkits.mplot3d import axes3d\n",
    "import matplotlib.pyplot as plt\n",
    "import numpy as np\n",
    "\n",
    "fig = plt.figure()\n",
    "ax = fig.gca(projection='3d')\n",
    "\n",
    "for pl in [nE,nW,nBo,nTo,nBa,nFL,nFU]:\n",
    "    x,y,z = (0,0,0)\n",
    "    u,v,w = (pl[0]*pl[1]*pl[4],pl[0]*pl[2]*pl[4],pl[0]*pl[3]*pl[4])\n",
    "    ax.quiver(x,y,z,u,v,w,pivot='tail')\n",
    "\n",
    "ax.set_xlim3d(-2, 2)\n",
    "ax.set_ylim3d(-2, 2)\n",
    "ax.set_zlim3d(-2, 2)\n",
    "plt.show()"
   ]
  },
  {
   "cell_type": "markdown",
   "metadata": {},
   "source": [
    "## Alternative approach \n",
    "\n",
    "Alternatively, the package sympy allows to calculate intersections of planes, defined by Hesse normal forms. These intersections are lines in 3D, which again have intersections with other lines, giving rise to the 3D coordinates of the corners. \n",
    "\n",
    "However, this approach seems not robust and there should be an error in the definition of the planes."
   ]
  },
  {
   "cell_type": "code",
   "execution_count": null,
   "metadata": {
    "collapsed": false,
    "scrolled": false
   },
   "outputs": [],
   "source": [
    "import numpy as np\n",
    "import matplotlib.pyplot as plt\n",
    "from matplotlib import cm\n",
    "from mpl_toolkits.mplot3d import Axes3D\n",
    "from sympy import Point, Point3D, Line, Line3D, Plane\n",
    "\n",
    "\n",
    "%matplotlib notebook\n",
    "\n",
    "X = np.linspace(-200, 200, 100)            \n",
    "Y = np.linspace(-200, 200, 100)\n",
    "xx, yy = np.meshgrid(X,Y)\n",
    "\n",
    "#Define sets of Hesse normal form data for each site. \n",
    "i=0\n",
    "\n",
    "if i in iList:\n",
    "    raise ValueError('Coordinate list for i = %s contains nan Values.' % i)\n",
    "\n",
    "nBa = varDictI(i)['Back0']\n",
    "nBo = varDictI(i)['Bottom0']\n",
    "nTo = varDictI(i)['Top0']\n",
    "nE  = varDictI(i)['East0']\n",
    "nW  = varDictI(i)['West0']\n",
    "nFL = varDictI(i)['FrontLP0']\n",
    "nFU = varDictI(i)['FrontUP0']\n",
    "\n",
    "    \n",
    "# Find all z coordinates, that fullfill Hesse normal form\n",
    "zBa =  (-nBa[1]  * xx - nBa[2]  * yy - nBa[0]/100) * 1. / nBa[3]\n",
    "zBo =  (-nBo[1]  * xx - nBo[2]  * yy - nBo[0]/100) * 1. / nBo[3]\n",
    "zTo  = (-nTo[1]  * xx - nTo[2]  * yy - nTo[0]/100) * 1. / nTo[3]\n",
    "zE  =  (- nE[1]  * xx -  nE[2]  * yy -  nE[0]/100) * 1. / nE[3]\n",
    "zW  =  (- nW[1]  * xx -  nW[2]  * yy -  nW[0]/100) * 1. / nW[3]\n",
    "\n",
    "#Test norm?! \n",
    "\n",
    "#Define planes in sympy using given Hesse normal form\n",
    "ba = Plane(Point3D(nBa[0], 0, 0), normal_vector=(nBa[1], nBa[2], nBa[3]))\n",
    "to = Plane(Point3D(nTo[0], 0, 0), normal_vector=(nTo[1], nTo[2], nTo[3]))\n",
    "bo = Plane(Point3D(nBo[0], 0, 0), normal_vector=(nBo[1], nBo[2], nBo[3]))\n",
    "we = Plane(Point3D(nW[0], 0, 0), normal_vector=(nW[1], nW[2], nW[3]))\n",
    "ea = Plane(Point3D(nE[0], 0, 0), normal_vector=(nE[1], nE[2], nE[3]))\n",
    "flp = Plane(Point3D(nFL[0],0, 0), normal_vector=(nFL[1], nFL[2], nFL[3]))\n",
    "fup = Plane(Point3D(nFU[0],0, 0), normal_vector=(nFU[1], nFU[2], nFU[3]))\n",
    "\n",
    "#Calculate intersections of three planes, gives points of corners in 3D\n",
    "x1 = flp.intersection(bo)[0].intersection(we)[0]\n",
    "x2 = fup.intersection(to)[0].intersection(we)[0]\n",
    "x3 = fup.intersection(to)[0].intersection(ea)[0]\n",
    "x4 = flp.intersection(bo)[0].intersection(ea)[0]\n",
    "x5 = ba.intersection(to)[0].intersection(we)[0]\n",
    "x6 = ba.intersection(to)[0].intersection(ea)[0]\n",
    "x7 = ba.intersection(bo)[0].intersection(ea)[0]\n",
    "x8 = ba.intersection(bo)[0].intersection(we)[0]\n",
    "x9 = flp.intersection(fup)[0].intersection(we)[0]\n",
    "x10 = flp.intersection(fup)[0].intersection(ea)[0]\n",
    "\n",
    "# Create the figure\n",
    "fig = plt.figure()\n",
    "\n",
    "# Add an axes\n",
    "ax = fig.add_subplot(111,projection='3d')\n",
    "\n",
    "# plot the surface\n",
    "#ax.plot_surface(xx, yy, zBa,alpha=0.2)\n",
    "#ax.plot_surface(xx, yy, zBo,alpha=0.2)\n",
    "#ax.plot_surface(xx, yy, zTo,alpha=0.2)\n",
    "#ax.plot_surface(xx, yy, zE,cmap=cm.BuPu,alpha=0.2)\n",
    "#ax.plot_surface(xx, yy, zW,cmap=cm.BuPu,alpha=0.2)\n",
    "\n",
    "#Points are given as tuples of sympy objects, thus .args[i]\n",
    "ax.scatter(x1.args[0], x1.args[1], x1.args[2],  color='red')\n",
    "ax.scatter(x2.args[0], x2.args[1], x2.args[2],  color='red')\n",
    "ax.scatter(x3.args[0], x3.args[1], x3.args[2],  color='red')\n",
    "ax.scatter(x4.args[0], x4.args[1], x4.args[2],  color='red')\n",
    "ax.scatter(x5.args[0], x5.args[1], x5.args[2],  color='red')\n",
    "ax.scatter(x6.args[0], x6.args[1], x6.args[2],  color='red')\n",
    "ax.scatter(x7.args[0], x7.args[1], x7.args[2],  color='red')\n",
    "ax.scatter(x8.args[0], x8.args[1], x8.args[2],  color='red')\n",
    "ax.scatter(x9.args[0], x9.args[1], x9.args[2],  color='red')\n",
    "ax.scatter(x10.args[0], x10.args[1], x10.args[2],  color='red')\n",
    "\n",
    "\n",
    "#Linspace not working with sympy objects, convert to float\n",
    "x = np.linspace(float(x1.args[0]), float(x4.args[0]), 10)\n",
    "y = np.linspace(float(x1.args[1]), float(x4.args[1]), 10)\n",
    "z = np.linspace(float(x1.args[2]), float(x4.args[2]), 10)\n",
    "ax.plot(x, y, z)\n",
    "    \n",
    "ax.set_xlim3d(90, 130)\n",
    "ax.set_ylim3d(-5, 5)\n",
    "ax.set_zlim3d(-5, 5)\n",
    "\n",
    "plt.show()"
   ]
  },
  {
   "cell_type": "code",
   "execution_count": null,
   "metadata": {
    "collapsed": false
   },
   "outputs": [],
   "source": []
  }
 ],
 "metadata": {
  "kernelspec": {
   "display_name": "Python 3",
   "language": "python",
   "name": "python3"
  },
  "language_info": {
   "codemirror_mode": {
    "name": "ipython",
    "version": 3
   },
   "file_extension": ".py",
   "mimetype": "text/x-python",
   "name": "python",
   "nbconvert_exporter": "python",
   "pygments_lexer": "ipython3",
   "version": "3.5.2"
  },
  "nav_menu": {},
  "toc": {
   "navigate_menu": true,
   "number_sections": true,
   "sideBar": true,
   "threshold": 6,
   "toc_cell": false,
   "toc_section_display": "block",
   "toc_window_display": false
  }
 },
 "nbformat": 4,
 "nbformat_minor": 0
}
