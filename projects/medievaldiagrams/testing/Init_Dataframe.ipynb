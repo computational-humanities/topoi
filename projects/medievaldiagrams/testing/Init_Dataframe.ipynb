{
 "cells": [
  {
   "cell_type": "markdown",
   "metadata": {},
   "source": [
    "## Basic assembly of dataframe\n",
    "\n",
    "Imports all helper functions and creates a full dataframe \"df\" with all information concerning manuscripts contained in the JSON file.\n",
    "In addition a new column is added, which contains a transformed numerical date, which gives the century with which a manuscript is dated. "
   ]
  },
  {
   "cell_type": "code",
   "execution_count": null,
   "metadata": {
    "collapsed": false
   },
   "outputs": [],
   "source": [
    "# <help>"
   ]
  },
  {
   "cell_type": "code",
   "execution_count": null,
   "metadata": {
    "collapsed": false
   },
   "outputs": [],
   "source": [
    "# <api>\n",
    "from medDiaJson import *\n",
    "from roman_date import *\n",
    "\n",
    "print('Creating dataframe with all Medieval Diagram Information... Stay tuned!')\n",
    "df = medDiaCon(237)\n",
    "print('Creation finished. Variable is stored as \"df\"')\n",
    "df['date_trf'] = df['date'].apply(lambda row: from_roman(row)*100)"
   ]
  }
 ],
 "metadata": {
  "kernelspec": {
   "display_name": "Python 3",
   "language": "python",
   "name": "python3"
  },
  "language_info": {
   "codemirror_mode": {
    "name": "ipython",
    "version": 3
   },
   "file_extension": ".py",
   "mimetype": "text/x-python",
   "name": "python",
   "nbconvert_exporter": "python",
   "pygments_lexer": "ipython3",
   "version": "3.5.2"
  },
  "nav_menu": {},
  "toc": {
   "navigate_menu": true,
   "number_sections": true,
   "sideBar": true,
   "threshold": 6,
   "toc_cell": false,
   "toc_section_display": "block",
   "toc_window_display": false
  }
 },
 "nbformat": 4,
 "nbformat_minor": 0
}
