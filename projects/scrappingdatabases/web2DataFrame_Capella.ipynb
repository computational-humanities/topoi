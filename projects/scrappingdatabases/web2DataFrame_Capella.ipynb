{
 "cells": [
  {
   "cell_type": "markdown",
   "metadata": {},
   "source": [
    "# Reading data from external databases\n",
    "\n",
    "To import external data into a pandas dataframe, we use beautifulsoup4. The source is the JORDANUS database of medieval scientific documents, maintained by http://jordanus.badw.de."
   ]
  },
  {
   "cell_type": "code",
   "execution_count": null,
   "metadata": {
    "collapsed": false
   },
   "outputs": [],
   "source": [
    "import json\n",
    "import sys\n",
    "import urllib\n",
    "from bs4 import BeautifulSoup\n",
    "import re\n",
    "import requests\n",
    "\n",
    "import pandas as pd\n",
    "\n",
    "url = 'http://jordanus.badw.de/cgi-bin/lrz_jord-search.pl?sprache=en&datenbank=ptolemaeus&ausgabe=dhstext&ausdateiformat=txt&listpos=0&listen=keine&listlet=keiner&fn=t52a56.f&fi=Martianus+Capella'\n",
    "    \n",
    "r  = requests.get(url)\n",
    "\n",
    "data = r.text\n",
    "\n",
    "soup = BeautifulSoup(data)"
   ]
  },
  {
   "cell_type": "markdown",
   "metadata": {},
   "source": [
    "Since the data is organized in a html table, we have to search for the table environments and the included columns and rows. Each column is translated in a key:value pair of a dictionary. "
   ]
  },
  {
   "cell_type": "code",
   "execution_count": null,
   "metadata": {
    "collapsed": false
   },
   "outputs": [],
   "source": [
    "data = []\n",
    "tables = soup.find_all('table')\n",
    "\n",
    "for table in tables:\n",
    "    item = {}\n",
    "    table_body = table.find_all('tr')\n",
    "    for row in table_body:\n",
    "        cols = row.find_all('td')\n",
    "        cols = [ele.text.strip() for ele in cols]\n",
    "        if cols:\n",
    "            item[cols[0]] = cols[1]\n",
    "    data.append(item) "
   ]
  },
  {
   "cell_type": "markdown",
   "metadata": {},
   "source": [
    "The dictionary is read as a dataframe. "
   ]
  },
  {
   "cell_type": "code",
   "execution_count": null,
   "metadata": {
    "collapsed": false
   },
   "outputs": [],
   "source": [
    "df = pd.DataFrame(data)\n",
    "df.keys()"
   ]
  },
  {
   "cell_type": "markdown",
   "metadata": {},
   "source": [
    "To reduce the needed columns, the keys are given as a list to the dataframe. "
   ]
  },
  {
   "cell_type": "code",
   "execution_count": null,
   "metadata": {
    "collapsed": false
   },
   "outputs": [],
   "source": [
    "df[['Author standard','Short title','Short title st.','Library','Language','Folio no.','City','Country','Century']].dropna(how='all').reset_index(drop=True)"
   ]
  },
  {
   "cell_type": "code",
   "execution_count": null,
   "metadata": {
    "collapsed": false
   },
   "outputs": [],
   "source": []
  }
 ],
 "metadata": {
  "kernelspec": {
   "display_name": "Python 3",
   "language": "python",
   "name": "python3"
  },
  "language_info": {
   "codemirror_mode": {
    "name": "ipython",
    "version": 3
   },
   "file_extension": ".py",
   "mimetype": "text/x-python",
   "name": "python",
   "nbconvert_exporter": "python",
   "pygments_lexer": "ipython3",
   "version": "3.5.2"
  },
  "nav_menu": {},
  "toc": {
   "navigate_menu": true,
   "number_sections": true,
   "sideBar": true,
   "threshold": 6,
   "toc_cell": false,
   "toc_section_display": "block",
   "toc_window_display": false
  }
 },
 "nbformat": 4,
 "nbformat_minor": 0
}
