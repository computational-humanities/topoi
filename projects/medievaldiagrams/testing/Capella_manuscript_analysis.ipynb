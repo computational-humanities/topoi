{
 "cells": [
  {
   "cell_type": "markdown",
   "metadata": {},
   "source": [
    "# Capella manuscript analysis"
   ]
  },
  {
   "cell_type": "code",
   "execution_count": 1,
   "metadata": {
    "collapsed": false
   },
   "outputs": [],
   "source": [
    "%load_ext autoreload"
   ]
  },
  {
   "cell_type": "markdown",
   "metadata": {},
   "source": [
    "Load modules with helper functions."
   ]
  },
  {
   "cell_type": "code",
   "execution_count": 2,
   "metadata": {
    "collapsed": false
   },
   "outputs": [
    {
     "ename": "ImportError",
     "evalue": "No module named 'medDiaJson'",
     "output_type": "error",
     "traceback": [
      "\u001b[0;31m---------------------------------------------------------------------------\u001b[0m",
      "\u001b[0;31mImportError\u001b[0m                               Traceback (most recent call last)",
      "\u001b[0;32m<ipython-input-2-65a6423299ca>\u001b[0m in \u001b[0;36m<module>\u001b[0;34m()\u001b[0m\n\u001b[1;32m      3\u001b[0m \u001b[0mget_ipython\u001b[0m\u001b[0;34m(\u001b[0m\u001b[0;34m)\u001b[0m\u001b[0;34m.\u001b[0m\u001b[0mmagic\u001b[0m\u001b[0;34m(\u001b[0m\u001b[0;34m'autoreload 2'\u001b[0m\u001b[0;34m)\u001b[0m\u001b[0;34m\u001b[0m\u001b[0m\n\u001b[1;32m      4\u001b[0m \u001b[0;34m\u001b[0m\u001b[0m\n\u001b[0;32m----> 5\u001b[0;31m \u001b[0;32mimport\u001b[0m \u001b[0mbokeh\u001b[0m\u001b[0;34m\u001b[0m\u001b[0m\n\u001b[0m\u001b[1;32m      6\u001b[0m \u001b[0;32mfrom\u001b[0m \u001b[0mbokeh\u001b[0m\u001b[0;34m.\u001b[0m\u001b[0mcharts\u001b[0m \u001b[0;32mimport\u001b[0m \u001b[0mBar\u001b[0m\u001b[0;34m,\u001b[0m \u001b[0moutput_notebook\u001b[0m\u001b[0;34m,\u001b[0m \u001b[0mshow\u001b[0m\u001b[0;34m\u001b[0m\u001b[0m\n\u001b[1;32m      7\u001b[0m \u001b[0;32mfrom\u001b[0m \u001b[0mbokeh\u001b[0m\u001b[0;34m.\u001b[0m\u001b[0mlayouts\u001b[0m \u001b[0;32mimport\u001b[0m \u001b[0mrow\u001b[0m\u001b[0;34m\u001b[0m\u001b[0m\n",
      "\u001b[0;32m/Volumes/extBlau/Dropbox/python/topoi/source/bokeh.py\u001b[0m in \u001b[0;36m<module>\u001b[0;34m()\u001b[0m\n\u001b[1;32m      1\u001b[0m \u001b[0;32mimport\u001b[0m \u001b[0mnumpy\u001b[0m \u001b[0;32mas\u001b[0m \u001b[0mnp\u001b[0m\u001b[0;34m\u001b[0m\u001b[0m\n\u001b[1;32m      2\u001b[0m \u001b[0;34m\u001b[0m\u001b[0m\n\u001b[0;32m----> 3\u001b[0;31m \u001b[0;32mfrom\u001b[0m \u001b[0mmedDiaJson\u001b[0m \u001b[0;32mimport\u001b[0m \u001b[0;34m*\u001b[0m\u001b[0;34m\u001b[0m\u001b[0m\n\u001b[0m\u001b[1;32m      4\u001b[0m \u001b[0;32mfrom\u001b[0m \u001b[0mroman_date\u001b[0m \u001b[0;32mimport\u001b[0m \u001b[0;34m*\u001b[0m\u001b[0;34m\u001b[0m\u001b[0m\n\u001b[1;32m      5\u001b[0m \u001b[0;32mfrom\u001b[0m \u001b[0mbokeh\u001b[0m\u001b[0;34m.\u001b[0m\u001b[0mcharts\u001b[0m \u001b[0;32mimport\u001b[0m \u001b[0mBar\u001b[0m\u001b[0;34m,\u001b[0m \u001b[0moutput_notebook\u001b[0m\u001b[0;34m,\u001b[0m \u001b[0mshow\u001b[0m\u001b[0;34m\u001b[0m\u001b[0m\n",
      "\u001b[0;31mImportError\u001b[0m: No module named 'medDiaJson'"
     ]
    }
   ],
   "source": [
    "%rehashx\n",
    "%matplotlib inline\n",
    "%autoreload 2\n",
    "\n",
    "import bokeh\n",
    "from bokeh.charts import Bar, output_notebook, show\n",
    "from bokeh.layouts import row\n",
    "\n",
    "import matplotlib.pyplot as plt\n",
    "\n",
    "from medDiaJson import *\n",
    "from roman_date import *"
   ]
  },
  {
   "cell_type": "code",
   "execution_count": null,
   "metadata": {
    "collapsed": false
   },
   "outputs": [],
   "source": [
    "output_notebook()"
   ]
  },
  {
   "cell_type": "markdown",
   "metadata": {},
   "source": [
    "## Build dataframe\n",
    "\n",
    "First, build full dataframe for all manuscripts of the JSON file. Loading of JSON file is done in module. "
   ]
  },
  {
   "cell_type": "code",
   "execution_count": null,
   "metadata": {
    "collapsed": true
   },
   "outputs": [],
   "source": [
    "df = medDiaCon(237)"
   ]
  },
  {
   "cell_type": "markdown",
   "metadata": {},
   "source": [
    "Convert date entries from roman numerals to arabic numerals. Only the first roman numeral is checked for. \n",
    "All additional information is neglected by this approach."
   ]
  },
  {
   "cell_type": "code",
   "execution_count": null,
   "metadata": {
    "collapsed": true
   },
   "outputs": [],
   "source": [
    "df['date'] = df['date'].apply(lambda row: from_roman(row)*100)"
   ]
  },
  {
   "cell_type": "markdown",
   "metadata": {},
   "source": [
    "Give all available diagram types for Capella."
   ]
  },
  {
   "cell_type": "code",
   "execution_count": null,
   "metadata": {
    "collapsed": false
   },
   "outputs": [],
   "source": [
    "authorKey(df,'Capella','diaTyp')"
   ]
  },
  {
   "cell_type": "markdown",
   "metadata": {},
   "source": [
    "Give all available dates."
   ]
  },
  {
   "cell_type": "code",
   "execution_count": null,
   "metadata": {
    "collapsed": false
   },
   "outputs": [],
   "source": [
    "authorKey(df,'Capella','date')"
   ]
  },
  {
   "cell_type": "markdown",
   "metadata": {},
   "source": [
    "\n",
    "# Checks for missing data\n",
    "\n",
    "Check for missing diagram types: Use override=True to disable data typ checking. \n",
    "\n",
    "First, check for empty diagram typ string. "
   ]
  },
  {
   "cell_type": "code",
   "execution_count": null,
   "metadata": {
    "collapsed": false
   },
   "outputs": [],
   "source": [
    "reducedData(df,[['author','Capella'],['diaTyp','']])"
   ]
  },
  {
   "cell_type": "markdown",
   "metadata": {},
   "source": [
    "Then, check for 0.0 float entries. "
   ]
  },
  {
   "cell_type": "code",
   "execution_count": null,
   "metadata": {
    "collapsed": false
   },
   "outputs": [],
   "source": [
    "reducedData(df,[['author','Capella'],['diaTyp', 0.0]])"
   ]
  },
  {
   "cell_type": "markdown",
   "metadata": {},
   "source": [
    "Thus, diagrams without attributes are either marked by 0.0 or an empty string. \n",
    "\n",
    "However, filtering for attribute names like M18.1 ... will neglect M0 entries anyway."
   ]
  },
  {
   "cell_type": "markdown",
   "metadata": {},
   "source": [
    "# Links to in Topoi-Database"
   ]
  },
  {
   "cell_type": "markdown",
   "metadata": {},
   "source": [
    "To show the image for a given digramm ID, the id2image looks up the correct URL in the JSON file and displays the digilib image inside an iframe. All digilib tools should work as expected."
   ]
  },
  {
   "cell_type": "code",
   "execution_count": null,
   "metadata": {
    "collapsed": false
   },
   "outputs": [],
   "source": [
    "id2image(df,'MAPD0420')"
   ]
  },
  {
   "cell_type": "markdown",
   "metadata": {},
   "source": [
    "Alternatively, using altId2image opens a new tab to edition.topoi"
   ]
  },
  {
   "cell_type": "code",
   "execution_count": null,
   "metadata": {
    "collapsed": false
   },
   "outputs": [],
   "source": [
    "altId2image(df,'MAPD0420')"
   ]
  },
  {
   "cell_type": "code",
   "execution_count": null,
   "metadata": {
    "collapsed": false
   },
   "outputs": [],
   "source": [
    "manID2image(df,'Z(3)8')"
   ]
  },
  {
   "cell_type": "markdown",
   "metadata": {},
   "source": [
    "To include the descriptions of diagram types the following links to the digilib tool. \n",
    "For smaller screens, one can use the webbrowser package to open a new tab. "
   ]
  },
  {
   "cell_type": "code",
   "execution_count": null,
   "metadata": {
    "collapsed": false
   },
   "outputs": [],
   "source": [
    "import webbrowser\n",
    "webbrowser.open('http://www.ancient-astronomy.org/webapplications/domenico/SliderDigilib.html')"
   ]
  },
  {
   "cell_type": "markdown",
   "metadata": {},
   "source": [
    "For larger screens one can display the content inline."
   ]
  },
  {
   "cell_type": "code",
   "execution_count": null,
   "metadata": {
    "collapsed": false
   },
   "outputs": [],
   "source": [
    "from IPython.display import HTML\n",
    "HTML('<iframe src=http://www.ancient-astronomy.org/webapplications/domenico/SliderDigilib.html + width=100% height=450></iframe>')"
   ]
  },
  {
   "cell_type": "markdown",
   "metadata": {},
   "source": [
    "Can be useful to check validity of attributes etc."
   ]
  },
  {
   "cell_type": "markdown",
   "metadata": {},
   "source": [
    "To obtain the description of a diagram type use the following. Requieres more work for pretty printing..."
   ]
  },
  {
   "cell_type": "code",
   "execution_count": null,
   "metadata": {
    "collapsed": false
   },
   "outputs": [],
   "source": [
    "diaTypeDescr(df,1)"
   ]
  },
  {
   "cell_type": "code",
   "execution_count": null,
   "metadata": {
    "collapsed": false
   },
   "outputs": [],
   "source": [
    "imageList = []\n",
    "listRows = []\n",
    "listIDRows = []\n",
    "\n",
    "url_start = 'http://repository.edition-topoi.org/MAPD/ReposMAPD/'\n",
    "\n",
    "reddf = reducedData(df,[['author','Capella'],['textID',listofTextIDs[1]]])\n",
    "\n",
    "for diaID in reddf.diaID:\n",
    "    url = url_start + diaID\n",
    "    r  = requests.get(url)\n",
    "    data = r.text\n",
    "    soup = BeautifulSoup(data,'lxml')\n",
    "    res = re.findall('([-\\w]+\\.(?:jpg))', str(soup))\n",
    "    if res:\n",
    "        imageList.append(url + '/' + res[0])"
   ]
  },
  {
   "cell_type": "code",
   "execution_count": null,
   "metadata": {
    "collapsed": false
   },
   "outputs": [],
   "source": [
    "listofTextIDs = uniqueValues(reducedData(df,[['author','Capella']]),'textID')"
   ]
  },
  {
   "cell_type": "code",
   "execution_count": null,
   "metadata": {
    "collapsed": false
   },
   "outputs": [],
   "source": [
    "textId2imagegrid(df,'Capella',listofTextIDs[1])"
   ]
  },
  {
   "cell_type": "markdown",
   "metadata": {},
   "source": [
    "# Plotting diagram attributes and types"
   ]
  },
  {
   "cell_type": "markdown",
   "metadata": {},
   "source": [
    "Next, replace missing diagram attributes which are encoded by '?'. I removed the diagrams without typ, i.e. 0.0 and ''  from the list of diagram types."
   ]
  },
  {
   "cell_type": "code",
   "execution_count": null,
   "metadata": {
    "collapsed": false
   },
   "outputs": [],
   "source": [
    "dftempList = []\n",
    "typList = [x for x in authorKey(df,'Capella','diaTyp') if x not in ('',np.float64(0))]\n",
    "for typ in typList:\n",
    "    dftemp = reducedData(df,[['author','Capella'],['diaTyp',typ]])\n",
    "    dftempList.append(dftemp)\n",
    "dfCapella = pd.concat(dftempList).reset_index(drop=True).replace(['?'],[None])"
   ]
  },
  {
   "cell_type": "markdown",
   "metadata": {},
   "source": [
    "Now we can count the diagram typs per year. The bokeh plot should be sorted by date."
   ]
  },
  {
   "cell_type": "code",
   "execution_count": null,
   "metadata": {
    "collapsed": false
   },
   "outputs": [],
   "source": [
    "counttempList = []\n",
    "\n",
    "typList = [x for x in authorKey(df,'Capella','diaTyp') if x not in ('',np.float64(0))]\n",
    "\n",
    "for year in [1200, 900, 1500, 1100, 1000]: \n",
    "    for typ in typList:\n",
    "        cnt = dfCapella[(dfCapella['diaTyp']==typ) & (dfCapella['date']==year)].diaTyp.count()\n",
    "        counttempList.append((typ,year,cnt))\n",
    "dfCapellaCount = pd.DataFrame(counttempList)\n",
    "dfCapellaCount.columns = ['diaTyp','date','count']\n",
    "dfCapellaCount.sort_values(by='date',inplace=True)"
   ]
  },
  {
   "cell_type": "code",
   "execution_count": null,
   "metadata": {
    "collapsed": false
   },
   "outputs": [],
   "source": [
    "p0 = Bar(dfCapellaCount,label='diaTyp',values='count',group='date')\n",
    "\n",
    "show(p0)"
   ]
  },
  {
   "cell_type": "markdown",
   "metadata": {},
   "source": [
    "It seems there are no entries for date 1000. check by "
   ]
  },
  {
   "cell_type": "code",
   "execution_count": null,
   "metadata": {
    "collapsed": false
   },
   "outputs": [],
   "source": [
    "dfCapella1000 = reducedData(df,[['author','Capella'],['date',np.int64(1000)]])\n",
    "dfCapella1000"
   ]
  },
  {
   "cell_type": "markdown",
   "metadata": {},
   "source": [
    "## Interactive selction of plot features\n",
    "\n",
    "Using jupyter widget interact allows to define selectors for plotting."
   ]
  },
  {
   "cell_type": "markdown",
   "metadata": {},
   "source": [
    "### Number of attributes per diagram typ grouped by date"
   ]
  },
  {
   "cell_type": "code",
   "execution_count": null,
   "metadata": {
    "collapsed": false
   },
   "outputs": [],
   "source": [
    "from ipywidgets import interact\n",
    "\n",
    "from bokeh.io import push_notebook\n",
    "\n",
    "def attrPlot(typ=18):\n",
    "    dfbokeh = diaAttrPlot(df,'Capella',np.float64(typ))\n",
    "    p1 = Bar(dfbokeh,values='attribute',group='date')\n",
    "    show(p1)"
   ]
  },
  {
   "cell_type": "code",
   "execution_count": null,
   "metadata": {
    "collapsed": false
   },
   "outputs": [],
   "source": [
    "typList = [x for x in authorKey(df,'Capella','diaTyp') if x not in ('', 0)]\n",
    "interact(attrPlot,typ=typList)"
   ]
  },
  {
   "cell_type": "markdown",
   "metadata": {},
   "source": [
    "### Number of diagrams per date for each diagram typ"
   ]
  },
  {
   "cell_type": "code",
   "execution_count": null,
   "metadata": {
    "collapsed": false
   },
   "outputs": [],
   "source": [
    "from ipywidgets import interact\n",
    "\n",
    "from bokeh.io import push_notebook\n",
    "\n",
    "def diagIdUpdate(ide):\n",
    "    dfp2 = dfCapellaCount[dfCapellaCount.diaTyp==ide]\n",
    "    p2 = Bar(dfp2,label='diaTyp',values='count',group='date')\n",
    "    show(p2)"
   ]
  },
  {
   "cell_type": "code",
   "execution_count": null,
   "metadata": {
    "collapsed": false
   },
   "outputs": [],
   "source": [
    "ideList= list()\n",
    "interact(diagIdUpdate,ide = (18,31))"
   ]
  },
  {
   "cell_type": "markdown",
   "metadata": {},
   "source": [
    "## Occurance of diagram typs in each manuscript\n",
    "\n",
    "First create list of DataFrames with requiered information.\n",
    "Diagram typs range from 18 to 31 for the author Capella. \n",
    "Thus, a DataFrame with this range is created. \n",
    "\n",
    "Then, a dictionary is created which encodes the occurance of a diagram typ in the manuscript and applied to the column 'Count'. \n",
    "Finally, columns with the information of origin and date are added. "
   ]
  },
  {
   "cell_type": "code",
   "execution_count": null,
   "metadata": {
    "collapsed": false
   },
   "outputs": [],
   "source": [
    "biblioList = []\n",
    "\n",
    "for biblio in [x for x in authorKey(df,'Capella','biblio')]:\n",
    "    # Create reduced dataframe\n",
    "    resTemp = reducedData(df,[['author','Capella'],['biblio',biblio]])\n",
    "    # Drop all columns appart from date, biblio and diaTyp\n",
    "    temp = resTemp.drop([x for x in resTemp.columns if x not in ('date','biblio','diaTyp')],axis=1)\n",
    "    # create mapping for diagram types which are present in this dataframe diaTyp : 1\n",
    "    d1 = {int(x):1 for x in list(temp['diaTyp'].values) if x not in ['']}\n",
    "    # and for those not present diaTyp : 0\n",
    "    s1 = set(x for x in temp['diaTyp'].values if x not in [''])\n",
    "    s2 = set(range(18,32))\n",
    "    d2 = {int(x):0 for x in list(s1 ^ s2)}\n",
    "    # combine the two dicts\n",
    "    d0 = d1.copy()\n",
    "    d0.update(d2)\n",
    "    #Works in python 3.5\n",
    "    #d0 = {**d1, **d2}\n",
    "    # Create new dataframe with all possible diagram types for Capella\n",
    "    dfTEMP = pd.DataFrame(list(zip(list(range(18,32)),[0]*14)),index=range(14),columns=['diaTyp','Count'])\n",
    "    # apply the mapping\n",
    "    dfTEMP['Count'] = dfTEMP['diaTyp'].map(d0)\n",
    "    # copy information for biblio and date\n",
    "    dfTEMP['biblio'] = biblio\n",
    "    dfTEMP['date'] = temp['date'][0]\n",
    "    res = dfTEMP.sort_values(by='diaTyp',inplace=True)\n",
    "    # append to list of dataframes\n",
    "    biblioList.append(dfTEMP)"
   ]
  },
  {
   "cell_type": "markdown",
   "metadata": {},
   "source": [
    "To give interact a list of origin names, we need a function, which operates on this names. \n",
    "For this purpose we can use list comprehension with string comparision. See line data = ..."
   ]
  },
  {
   "cell_type": "code",
   "execution_count": null,
   "metadata": {
    "collapsed": true
   },
   "outputs": [],
   "source": [
    "from ipywidgets import interact\n",
    "\n",
    "from bokeh.io import push_notebook, gridplot\n",
    "from bokeh.plotting import figure\n",
    "from bokeh.charts import Bar\n",
    "from bokeh.models import FixedTicker, Legend\n",
    "from bokeh.palettes import viridis\n",
    "\n",
    "def biblioDiaTyp(biblio):\n",
    "    # Select DataFrame from list by matching strings. \n",
    "    data = [biblioList[s] for s in range(len(biblioList)) if biblioList[s]['biblio'][0] in biblio][0]\n",
    "    # Set title of plot for better info\n",
    "    titleS = 'Origin: ' + data['biblio'][0] + '; Date: ' + str(data['date'][0]) + ' CE'\n",
    "    # use palette=viridis(14) to get different color for every diagram typ bar\n",
    "    b1 = Bar(data,title=titleS,label='biblio',\n",
    "             values='Count',group='diaTyp',bar_width=1,ylabel='Diagrams',palette=viridis(14))\n",
    "    b1.xaxis.major_label_orientation = \"horizontal\"\n",
    "    b1.xaxis.axis_label=''\n",
    "    b1.legend.location = \"right_center\"\n",
    "    b1.legend.background_fill_alpha=0.5\n",
    "    show(b1)"
   ]
  },
  {
   "cell_type": "code",
   "execution_count": null,
   "metadata": {
    "collapsed": false
   },
   "outputs": [],
   "source": [
    "biblioKeys = sorted([x for x in authorKey(df,'Capella','biblio')])"
   ]
  },
  {
   "cell_type": "code",
   "execution_count": null,
   "metadata": {
    "collapsed": false
   },
   "outputs": [],
   "source": [
    "interact(biblioDiaTyp,biblio=biblioKeys)"
   ]
  },
  {
   "cell_type": "markdown",
   "metadata": {},
   "source": [
    "### Compare all manuscripts with same date\n",
    "\n",
    "Takes some seconds to build all plots. Plots are sorted by number of occuring diagram types. Manuscripts with most diagram types come first. "
   ]
  },
  {
   "cell_type": "code",
   "execution_count": null,
   "metadata": {
    "collapsed": false
   },
   "outputs": [],
   "source": [
    "def plotDateGrid(date):\n",
    "    # Assert given date is available. \n",
    "    assert date in authorKey(df,'Capella','date'), 'No entries for this date.' \n",
    "    # Create list of fitting dataframes\n",
    "    tempList = [biblioList[s] for s in range(len(biblioList)) if biblioList[s]['date'][0] in [date]]\n",
    "    # sort by occuring diagrams\n",
    "    dfDATE = sorted(tempList,key=lambda tempList: tempList['Count'].sum(),reverse=True)\n",
    "    plotListDATE = []  \n",
    "    for x in range(len(dfDATE)):\n",
    "        titleS = dfDATE[x]['biblio'][0] + '; ' + str(dfDATE[x]['date'][0]) + ' CE'\n",
    "        b0 = Bar(dfDATE[x],title=titleS,label='biblio',values='Count',group='diaTyp',\n",
    "             bar_width=1,ylabel='Diagrams',palette=viridis(14),width=250,height=250,\n",
    "                legend=False)\n",
    "        b0.xaxis.major_label_orientation = \"horizontal\"\n",
    "        b0.xaxis.axis_label=''\n",
    "        plotListDATE.append(b0)\n",
    "    plotGrid = gridplot(plotListDATE,ncols=3)\n",
    "    show(plotGrid)"
   ]
  },
  {
   "cell_type": "code",
   "execution_count": null,
   "metadata": {
    "collapsed": false
   },
   "outputs": [],
   "source": [
    "plotDateGrid(900)"
   ]
  },
  {
   "cell_type": "markdown",
   "metadata": {
    "collapsed": true
   },
   "source": [
    "Next step is to compare diagram attributes by biblio index and diagram type."
   ]
  }
 ],
 "metadata": {
  "anaconda-cloud": {},
  "kernelspec": {
   "display_name": "Python [Root]",
   "language": "python",
   "name": "Python [Root]"
  },
  "language_info": {
   "codemirror_mode": {
    "name": "ipython",
    "version": 3
   },
   "file_extension": ".py",
   "mimetype": "text/x-python",
   "name": "python",
   "nbconvert_exporter": "python",
   "pygments_lexer": "ipython3",
   "version": "3.5.2"
  },
  "latex_envs": {
   "bibliofile": "biblio.bib",
   "cite_by": "apalike",
   "current_citInitial": 1,
   "eqLabelWithNumbers": true,
   "eqNumInitial": 0
  },
  "nav_menu": {},
  "toc": {
   "navigate_menu": true,
   "number_sections": true,
   "sideBar": true,
   "threshold": 6,
   "toc_cell": false,
   "toc_section_display": "block",
   "toc_window_display": true
  }
 },
 "nbformat": 4,
 "nbformat_minor": 0
}
