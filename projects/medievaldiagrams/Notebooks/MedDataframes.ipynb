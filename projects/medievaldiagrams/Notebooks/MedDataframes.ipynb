{
 "cells": [
  {
   "cell_type": "markdown",
   "metadata": {},
   "source": [
    "# Import der Medieval Diagramm Datenbank\n",
    "\n",
    "Als Datenbank wird eine vereinfachte unter Liste aller Diagramme genutzt.  Die Datenbank *diaattr.json* enthält als Forschungsdatenobjekt die Beschreibung der Diagramme mit Attributen, die die Charakteristiken  der Manuskripte, der heutigen Halter Bibliotheken sowie der Lage der Abbildung auf dem Manuskript beschreibt.\n",
    "\n"
   ]
  },
  {
   "cell_type": "code",
   "execution_count": 126,
   "metadata": {
    "collapsed": false
   },
   "outputs": [],
   "source": [
    "import pandas as pd\n",
    "import medDiaJson as medDia\n",
    "import roman_date as roda"
   ]
  },
  {
   "cell_type": "code",
   "execution_count": 127,
   "metadata": {
    "collapsed": false
   },
   "outputs": [
    {
     "data": {
      "text/html": [
       "<div>\n",
       "<table border=\"1\" class=\"dataframe\">\n",
       "  <thead>\n",
       "    <tr style=\"text-align: right;\">\n",
       "      <th></th>\n",
       "      <th>altID</th>\n",
       "      <th>author</th>\n",
       "      <th>biblio</th>\n",
       "      <th>diaAttr</th>\n",
       "      <th>diaID</th>\n",
       "      <th>diaTyp</th>\n",
       "      <th>diaURL</th>\n",
       "      <th>foliopage</th>\n",
       "      <th>manID</th>\n",
       "      <th>manURL</th>\n",
       "      <th>textID</th>\n",
       "      <th>textURL</th>\n",
       "      <th>year</th>\n",
       "    </tr>\n",
       "  </thead>\n",
       "  <tbody>\n",
       "    <tr>\n",
       "      <th>0</th>\n",
       "      <td>Plin4</td>\n",
       "      <td>Plinius</td>\n",
       "      <td>Vaticano BAV, Ross. 247</td>\n",
       "      <td>[{'M2.23': 0, 'M2.18': 1, 'M2.10': 1, 'M2.17':...</td>\n",
       "      <td>MAPD0668</td>\n",
       "      <td>2</td>\n",
       "      <td>Dl_1&amp;pn=396&amp;dw=1858&amp;dh=901&amp;ww=0.8926&amp;wh=0.6552...</td>\n",
       "      <td>200v</td>\n",
       "      <td>DL(1)</td>\n",
       "      <td>Dl_1&amp;pn=1</td>\n",
       "      <td>DL(1)_A</td>\n",
       "      <td></td>\n",
       "      <td>IX</td>\n",
       "    </tr>\n",
       "  </tbody>\n",
       "</table>\n",
       "</div>"
      ],
      "text/plain": [
       "   altID   author                   biblio  \\\n",
       "0  Plin4  Plinius  Vaticano BAV, Ross. 247   \n",
       "\n",
       "                                             diaAttr     diaID diaTyp  \\\n",
       "0  [{'M2.23': 0, 'M2.18': 1, 'M2.10': 1, 'M2.17':...  MAPD0668      2   \n",
       "\n",
       "                                              diaURL foliopage  manID  \\\n",
       "0  Dl_1&pn=396&dw=1858&dh=901&ww=0.8926&wh=0.6552...      200v  DL(1)   \n",
       "\n",
       "      manURL   textID textURL year  \n",
       "0  Dl_1&pn=1  DL(1)_A           IX  "
      ]
     },
     "execution_count": 127,
     "metadata": {},
     "output_type": "execute_result"
    }
   ],
   "source": [
    "url = 'https://raw.githubusercontent.com/grasshoff/ComputationalHistoryScience/master/diaattr.json'\n",
    "diagrams = pd.read_json(url)\n",
    "diagrams.head(1)"
   ]
  },
  {
   "cell_type": "markdown",
   "metadata": {},
   "source": [
    "# Dataframes"
   ]
  },
  {
   "cell_type": "markdown",
   "metadata": {},
   "source": [
    "## Extensions: centuries"
   ]
  },
  {
   "cell_type": "code",
   "execution_count": 128,
   "metadata": {
    "collapsed": false
   },
   "outputs": [
    {
     "data": {
      "text/plain": [
       "721"
      ]
     },
     "execution_count": 128,
     "metadata": {},
     "output_type": "execute_result"
    }
   ],
   "source": [
    "diagrams['century']=diagrams['year'].apply(lambda r: roda.from_roman(r))\n",
    "len(diagrams)"
   ]
  },
  {
   "cell_type": "code",
   "execution_count": 129,
   "metadata": {
    "collapsed": false
   },
   "outputs": [
    {
     "data": {
      "text/html": [
       "<div>\n",
       "<table border=\"1\" class=\"dataframe\">\n",
       "  <thead>\n",
       "    <tr style=\"text-align: right;\">\n",
       "      <th></th>\n",
       "      <th>altID</th>\n",
       "      <th>author</th>\n",
       "      <th>biblio</th>\n",
       "      <th>diaAttr</th>\n",
       "      <th>diaID</th>\n",
       "      <th>diaTyp</th>\n",
       "      <th>diaURL</th>\n",
       "      <th>foliopage</th>\n",
       "      <th>manID</th>\n",
       "      <th>manURL</th>\n",
       "      <th>textID</th>\n",
       "      <th>textURL</th>\n",
       "      <th>year</th>\n",
       "      <th>century</th>\n",
       "    </tr>\n",
       "  </thead>\n",
       "  <tbody>\n",
       "    <tr>\n",
       "      <th>0</th>\n",
       "      <td>Plin4</td>\n",
       "      <td>Plinius</td>\n",
       "      <td>Vaticano BAV, Ross. 247</td>\n",
       "      <td>[{'M2.23': 0, 'M2.18': 1, 'M2.10': 1, 'M2.17':...</td>\n",
       "      <td>MAPD0668</td>\n",
       "      <td>2</td>\n",
       "      <td>Dl_1&amp;pn=396&amp;dw=1858&amp;dh=901&amp;ww=0.8926&amp;wh=0.6552...</td>\n",
       "      <td>200v</td>\n",
       "      <td>DL(1)</td>\n",
       "      <td>Dl_1&amp;pn=1</td>\n",
       "      <td>DL(1)_A</td>\n",
       "      <td></td>\n",
       "      <td>IX</td>\n",
       "      <td>9</td>\n",
       "    </tr>\n",
       "  </tbody>\n",
       "</table>\n",
       "</div>"
      ],
      "text/plain": [
       "   altID   author                   biblio  \\\n",
       "0  Plin4  Plinius  Vaticano BAV, Ross. 247   \n",
       "\n",
       "                                             diaAttr     diaID diaTyp  \\\n",
       "0  [{'M2.23': 0, 'M2.18': 1, 'M2.10': 1, 'M2.17':...  MAPD0668      2   \n",
       "\n",
       "                                              diaURL foliopage  manID  \\\n",
       "0  Dl_1&pn=396&dw=1858&dh=901&ww=0.8926&wh=0.6552...      200v  DL(1)   \n",
       "\n",
       "      manURL   textID textURL year  century  \n",
       "0  Dl_1&pn=1  DL(1)_A           IX        9  "
      ]
     },
     "execution_count": 129,
     "metadata": {},
     "output_type": "execute_result"
    }
   ],
   "source": [
    "diagrams.head(1)"
   ]
  },
  {
   "cell_type": "markdown",
   "metadata": {},
   "source": [
    "## Selections\n",
    "\n",
    "reducedData(dataframe, keyValueList,debug=False): reduziert den gesamten Dataframe auf die Zeilen und Spalten, für die keyValueList = True ist, zB gibt reducedData(df,[['author','Capella'],['diaTyp', 20.0]]) einen Dataframe der Capella Diagramme vom Typ 20 aus.\n",
    "\n"
   ]
  },
  {
   "cell_type": "code",
   "execution_count": 130,
   "metadata": {
    "collapsed": false
   },
   "outputs": [
    {
     "data": {
      "text/html": [
       "<div>\n",
       "<table border=\"1\" class=\"dataframe\">\n",
       "  <thead>\n",
       "    <tr style=\"text-align: right;\">\n",
       "      <th></th>\n",
       "      <th>altID</th>\n",
       "      <th>author</th>\n",
       "      <th>biblio</th>\n",
       "      <th>diaAttr</th>\n",
       "      <th>diaID</th>\n",
       "      <th>diaTyp</th>\n",
       "      <th>diaURL</th>\n",
       "      <th>foliopage</th>\n",
       "      <th>manID</th>\n",
       "      <th>manURL</th>\n",
       "      <th>textID</th>\n",
       "      <th>textURL</th>\n",
       "      <th>year</th>\n",
       "      <th>century</th>\n",
       "    </tr>\n",
       "  </thead>\n",
       "  <tbody>\n",
       "    <tr>\n",
       "      <th>0</th>\n",
       "      <td>Calc265</td>\n",
       "      <td>Calcidius</td>\n",
       "      <td>unbekannt</td>\n",
       "      <td>[{'M10.17': 0, 'M10.31': 0, 'M10.20': 0, 'M10....</td>\n",
       "      <td>MAPD0186</td>\n",
       "      <td>10</td>\n",
       "      <td>Nw_1&amp;pn=17&amp;dw=1858&amp;dh=901&amp;ww=0.3051&amp;wh=0.2919&amp;...</td>\n",
       "      <td>15v</td>\n",
       "      <td>NW(1)</td>\n",
       "      <td>Nw_1&amp;pn=1</td>\n",
       "      <td>NW(1)_A</td>\n",
       "      <td></td>\n",
       "      <td>unbekannt</td>\n",
       "      <td>0</td>\n",
       "    </tr>\n",
       "    <tr>\n",
       "      <th>1</th>\n",
       "      <td>Calc266</td>\n",
       "      <td>Calcidius</td>\n",
       "      <td>unbekannt</td>\n",
       "      <td>[{'M11.44': 0, 'M11.46': 0, 'M11.39': 0, 'M11....</td>\n",
       "      <td>MAPD0187</td>\n",
       "      <td>11</td>\n",
       "      <td>Nw_1&amp;pn=17&amp;dw=1858&amp;dh=901&amp;ww=0.331&amp;wh=0.3245&amp;w...</td>\n",
       "      <td>16r</td>\n",
       "      <td>NW(1)</td>\n",
       "      <td>Nw_1&amp;pn=1</td>\n",
       "      <td>NW(1)_A</td>\n",
       "      <td></td>\n",
       "      <td>unbekannt</td>\n",
       "      <td>0</td>\n",
       "    </tr>\n",
       "    <tr>\n",
       "      <th>2</th>\n",
       "      <td>Calc267</td>\n",
       "      <td>Calcidius</td>\n",
       "      <td>unbekannt</td>\n",
       "      <td>[{'M12.6': 1, 'M12.9': 1, 'M12.29': 0, 'M12.16...</td>\n",
       "      <td>MAPD0188</td>\n",
       "      <td>12</td>\n",
       "      <td>Nw_1&amp;pn=18&amp;dw=1858&amp;dh=901&amp;ww=0.3514&amp;wh=0.3788&amp;...</td>\n",
       "      <td>16v</td>\n",
       "      <td>NW(1)</td>\n",
       "      <td>Nw_1&amp;pn=1</td>\n",
       "      <td>NW(1)_A</td>\n",
       "      <td></td>\n",
       "      <td>unbekannt</td>\n",
       "      <td>0</td>\n",
       "    </tr>\n",
       "    <tr>\n",
       "      <th>3</th>\n",
       "      <td>Calc268</td>\n",
       "      <td>Calcidius</td>\n",
       "      <td>unbekannt</td>\n",
       "      <td>[{'M13.2': 1, 'M13.4': 0, 'M13.20': 0, 'M13.8'...</td>\n",
       "      <td>MAPD0189</td>\n",
       "      <td>13</td>\n",
       "      <td>Nw_1&amp;pn=19&amp;dw=1858&amp;dh=901&amp;ww=0.2615&amp;wh=0.2593&amp;...</td>\n",
       "      <td>17v</td>\n",
       "      <td>NW(1)</td>\n",
       "      <td>Nw_1&amp;pn=1</td>\n",
       "      <td>NW(1)_A</td>\n",
       "      <td></td>\n",
       "      <td>unbekannt</td>\n",
       "      <td>0</td>\n",
       "    </tr>\n",
       "    <tr>\n",
       "      <th>4</th>\n",
       "      <td>Calc269</td>\n",
       "      <td>Calcidius</td>\n",
       "      <td>unbekannt</td>\n",
       "      <td>[{'M14.28': 0, 'M14.17': 0, 'M14.21': 0, 'M14....</td>\n",
       "      <td>MAPD0190</td>\n",
       "      <td>14</td>\n",
       "      <td>Nw_1&amp;pn=23&amp;dw=1858&amp;dh=901&amp;ww=0.2534&amp;wh=0.2422&amp;...</td>\n",
       "      <td>21v</td>\n",
       "      <td>NW(1)</td>\n",
       "      <td>Nw_1&amp;pn=1</td>\n",
       "      <td>NW(1)_A</td>\n",
       "      <td></td>\n",
       "      <td>unbekannt</td>\n",
       "      <td>0</td>\n",
       "    </tr>\n",
       "    <tr>\n",
       "      <th>5</th>\n",
       "      <td>Calc270</td>\n",
       "      <td>Calcidius</td>\n",
       "      <td>unbekannt</td>\n",
       "      <td>[{'M15.16': 1, 'M15.2': 1, 'M15.20': 0, 'M15.5...</td>\n",
       "      <td>MAPD0192</td>\n",
       "      <td>15</td>\n",
       "      <td>Nw_1&amp;pn=23&amp;dw=1858&amp;dh=901&amp;ww=0.282&amp;wh=0.3136&amp;w...</td>\n",
       "      <td>22r</td>\n",
       "      <td>NW(1)</td>\n",
       "      <td>Nw_1&amp;pn=1</td>\n",
       "      <td>NW(1)_A</td>\n",
       "      <td></td>\n",
       "      <td>unbekannt</td>\n",
       "      <td>0</td>\n",
       "    </tr>\n",
       "  </tbody>\n",
       "</table>\n",
       "</div>"
      ],
      "text/plain": [
       "     altID     author     biblio  \\\n",
       "0  Calc265  Calcidius  unbekannt   \n",
       "1  Calc266  Calcidius  unbekannt   \n",
       "2  Calc267  Calcidius  unbekannt   \n",
       "3  Calc268  Calcidius  unbekannt   \n",
       "4  Calc269  Calcidius  unbekannt   \n",
       "5  Calc270  Calcidius  unbekannt   \n",
       "\n",
       "                                             diaAttr     diaID diaTyp  \\\n",
       "0  [{'M10.17': 0, 'M10.31': 0, 'M10.20': 0, 'M10....  MAPD0186     10   \n",
       "1  [{'M11.44': 0, 'M11.46': 0, 'M11.39': 0, 'M11....  MAPD0187     11   \n",
       "2  [{'M12.6': 1, 'M12.9': 1, 'M12.29': 0, 'M12.16...  MAPD0188     12   \n",
       "3  [{'M13.2': 1, 'M13.4': 0, 'M13.20': 0, 'M13.8'...  MAPD0189     13   \n",
       "4  [{'M14.28': 0, 'M14.17': 0, 'M14.21': 0, 'M14....  MAPD0190     14   \n",
       "5  [{'M15.16': 1, 'M15.2': 1, 'M15.20': 0, 'M15.5...  MAPD0192     15   \n",
       "\n",
       "                                              diaURL foliopage  manID  \\\n",
       "0  Nw_1&pn=17&dw=1858&dh=901&ww=0.3051&wh=0.2919&...       15v  NW(1)   \n",
       "1  Nw_1&pn=17&dw=1858&dh=901&ww=0.331&wh=0.3245&w...       16r  NW(1)   \n",
       "2  Nw_1&pn=18&dw=1858&dh=901&ww=0.3514&wh=0.3788&...       16v  NW(1)   \n",
       "3  Nw_1&pn=19&dw=1858&dh=901&ww=0.2615&wh=0.2593&...       17v  NW(1)   \n",
       "4  Nw_1&pn=23&dw=1858&dh=901&ww=0.2534&wh=0.2422&...       21v  NW(1)   \n",
       "5  Nw_1&pn=23&dw=1858&dh=901&ww=0.282&wh=0.3136&w...       22r  NW(1)   \n",
       "\n",
       "      manURL   textID textURL       year  century  \n",
       "0  Nw_1&pn=1  NW(1)_A          unbekannt        0  \n",
       "1  Nw_1&pn=1  NW(1)_A          unbekannt        0  \n",
       "2  Nw_1&pn=1  NW(1)_A          unbekannt        0  \n",
       "3  Nw_1&pn=1  NW(1)_A          unbekannt        0  \n",
       "4  Nw_1&pn=1  NW(1)_A          unbekannt        0  \n",
       "5  Nw_1&pn=1  NW(1)_A          unbekannt        0  "
      ]
     },
     "execution_count": 130,
     "metadata": {},
     "output_type": "execute_result"
    }
   ],
   "source": [
    "medDia.reducedData(diagrams,[[\"century\",0]])"
   ]
  },
  {
   "cell_type": "markdown",
   "metadata": {},
   "source": [
    "## Cleaning data\n",
    "Leave out \n",
    "   - diagrams without corresponding diatyp\n",
    "   - unclear year"
   ]
  },
  {
   "cell_type": "code",
   "execution_count": 131,
   "metadata": {
    "collapsed": false
   },
   "outputs": [
    {
     "data": {
      "text/plain": [
       "707"
      ]
     },
     "execution_count": 131,
     "metadata": {},
     "output_type": "execute_result"
    }
   ],
   "source": [
    "diagrams2=diagrams[diagrams[\"diaTyp\"] != 0.0]\n",
    "len(diagrams2)"
   ]
  },
  {
   "cell_type": "code",
   "execution_count": 132,
   "metadata": {
    "collapsed": false
   },
   "outputs": [
    {
     "data": {
      "text/plain": [
       "660"
      ]
     },
     "execution_count": 132,
     "metadata": {},
     "output_type": "execute_result"
    }
   ],
   "source": [
    "diagrams=diagrams2[diagrams2[\"diaTyp\"] != '']\n",
    "len(diagrams)"
   ]
  },
  {
   "cell_type": "code",
   "execution_count": 133,
   "metadata": {
    "collapsed": false
   },
   "outputs": [
    {
     "data": {
      "text/plain": [
       "654"
      ]
     },
     "execution_count": 133,
     "metadata": {},
     "output_type": "execute_result"
    }
   ],
   "source": [
    "diagrams=diagrams[diagrams[\"century\"] != 0]\n",
    "len(diagrams)"
   ]
  },
  {
   "cell_type": "code",
   "execution_count": 134,
   "metadata": {
    "collapsed": false
   },
   "outputs": [
    {
     "name": "stdout",
     "output_type": "stream",
     "text": [
      "<class 'pandas.core.frame.DataFrame'>\n",
      "Int64Index: 654 entries, 0 to 720\n",
      "Data columns (total 14 columns):\n",
      "altID        654 non-null object\n",
      "author       654 non-null object\n",
      "biblio       654 non-null object\n",
      "diaAttr      654 non-null object\n",
      "diaID        654 non-null object\n",
      "diaTyp       654 non-null object\n",
      "diaURL       654 non-null object\n",
      "foliopage    654 non-null object\n",
      "manID        654 non-null object\n",
      "manURL       654 non-null object\n",
      "textID       654 non-null object\n",
      "textURL      654 non-null object\n",
      "year         654 non-null object\n",
      "century      654 non-null int64\n",
      "dtypes: int64(1), object(13)\n",
      "memory usage: 76.6+ KB\n"
     ]
    }
   ],
   "source": [
    "diagrams.info()"
   ]
  },
  {
   "cell_type": "markdown",
   "metadata": {},
   "source": [
    "## Mengen: Autoren, years and centuries"
   ]
  },
  {
   "cell_type": "code",
   "execution_count": 135,
   "metadata": {
    "collapsed": false
   },
   "outputs": [
    {
     "data": {
      "text/plain": [
       "{'Calcidius', 'Capella', 'Macrobius', 'Plinius'}"
      ]
     },
     "execution_count": 135,
     "metadata": {},
     "output_type": "execute_result"
    }
   ],
   "source": [
    "setAutoren=set(pd.Series(diagrams[\"author\"]))\n",
    "setAutoren"
   ]
  },
  {
   "cell_type": "code",
   "execution_count": 136,
   "metadata": {
    "collapsed": false
   },
   "outputs": [],
   "source": [
    "years=pd.Series(diagrams['year'])\n",
    "setYears=set(years)\n",
    "# setYears"
   ]
  },
  {
   "cell_type": "code",
   "execution_count": 137,
   "metadata": {
    "collapsed": false
   },
   "outputs": [
    {
     "data": {
      "text/plain": [
       "229"
      ]
     },
     "execution_count": 137,
     "metadata": {},
     "output_type": "execute_result"
    }
   ],
   "source": [
    "setTextID=set(pd.Series(diagrams[\"textID\"]))\n",
    "len(setTextID)"
   ]
  },
  {
   "cell_type": "code",
   "execution_count": 138,
   "metadata": {
    "collapsed": false
   },
   "outputs": [
    {
     "data": {
      "text/plain": [
       "{1.0,\n",
       " 2.0,\n",
       " 3.0,\n",
       " 4.0,\n",
       " 5.0,\n",
       " 6.0,\n",
       " 7.0,\n",
       " 8.0,\n",
       " 9.0,\n",
       " 10.0,\n",
       " 11.0,\n",
       " 12.0,\n",
       " 13.0,\n",
       " 14.0,\n",
       " 15.0,\n",
       " 16.0,\n",
       " 17.0,\n",
       " 18.0,\n",
       " 19.0,\n",
       " 20.0,\n",
       " 21.0,\n",
       " 22.0,\n",
       " 23.0,\n",
       " 24.0,\n",
       " 25.0,\n",
       " 26.0,\n",
       " 27.0,\n",
       " 28.0,\n",
       " 29.0,\n",
       " 30.0,\n",
       " 31.0}"
      ]
     },
     "execution_count": 138,
     "metadata": {},
     "output_type": "execute_result"
    }
   ],
   "source": [
    "setDiaTyp=set(pd.Series(diagrams[\"diaTyp\"]))\n",
    "setDiaTyp"
   ]
  },
  {
   "cell_type": "code",
   "execution_count": 139,
   "metadata": {
    "collapsed": false
   },
   "outputs": [
    {
     "data": {
      "text/plain": [
       "{9, 10, 11, 12, 13, 14, 15}"
      ]
     },
     "execution_count": 139,
     "metadata": {},
     "output_type": "execute_result"
    }
   ],
   "source": [
    "\n",
    "setCent=set(pd.Series(diagrams[\"century\"]))\n",
    "setCent"
   ]
  },
  {
   "cell_type": "markdown",
   "metadata": {},
   "source": [
    "## Groupedby Partitionen"
   ]
  },
  {
   "cell_type": "code",
   "execution_count": 140,
   "metadata": {
    "collapsed": false
   },
   "outputs": [],
   "source": [
    "gdAuthor=diagrams.groupby('author').groups\n",
    "gdDiaTyp=diagrams.groupby('diaTyp').groups\n",
    "gdTextID=diagrams.groupby('textID').groups"
   ]
  },
  {
   "cell_type": "code",
   "execution_count": 141,
   "metadata": {
    "collapsed": false
   },
   "outputs": [
    {
     "name": "stdout",
     "output_type": "stream",
     "text": [
      "Capella = 158\n",
      "Calcidius = 278\n",
      "Plinius = 106\n",
      "Macrobius = 112\n"
     ]
    }
   ],
   "source": [
    "for a in setAutoren:\n",
    "    print(a + \" =\",len(gdAuthor[a]))"
   ]
  },
  {
   "cell_type": "markdown",
   "metadata": {
    "collapsed": true
   },
   "source": [
    "## Counts"
   ]
  },
  {
   "cell_type": "code",
   "execution_count": 142,
   "metadata": {
    "collapsed": false
   },
   "outputs": [
    {
     "data": {
      "text/plain": [
       "Calcidius    278\n",
       "Capella      158\n",
       "Macrobius    112\n",
       "Plinius      106\n",
       "Name: author, dtype: int64"
      ]
     },
     "execution_count": 142,
     "metadata": {},
     "output_type": "execute_result"
    }
   ],
   "source": [
    "diagrams[\"author\"].value_counts()"
   ]
  },
  {
   "cell_type": "code",
   "execution_count": 147,
   "metadata": {
    "collapsed": false
   },
   "outputs": [
    {
     "data": {
      "text/plain": [
       "14.0    54\n",
       "11.0    52\n",
       "15.0    46\n",
       "8.0     45\n",
       "10.0    44\n",
       "12.0    44\n",
       "13.0    38\n",
       "17.0    32\n",
       "1.0     28\n",
       "3.0     23\n",
       "16.0    18\n",
       "9.0     17\n",
       "2.0     14\n",
       "30.0    14\n",
       "22.0    14\n",
       "6.0     14\n",
       "29.0    13\n",
       "24.0    13\n",
       "27.0    12\n",
       "5.0     12\n",
       "31.0    12\n",
       "26.0    12\n",
       "28.0    11\n",
       "25.0    11\n",
       "23.0    11\n",
       "21.0    10\n",
       "18.0    10\n",
       "7.0      9\n",
       "19.0     8\n",
       "20.0     7\n",
       "4.0      6\n",
       "Name: diaTyp, dtype: int64"
      ]
     },
     "execution_count": 147,
     "metadata": {},
     "output_type": "execute_result"
    }
   ],
   "source": [
    "diagrams[\"diaTyp\"].value_counts()"
   ]
  },
  {
   "cell_type": "code",
   "execution_count": 144,
   "metadata": {
    "collapsed": false
   },
   "outputs": [
    {
     "data": {
      "text/plain": [
       "11    184\n",
       "12    162\n",
       "9     123\n",
       "15    103\n",
       "10     54\n",
       "13     18\n",
       "14     10\n",
       "Name: century, dtype: int64"
      ]
     },
     "execution_count": 144,
     "metadata": {},
     "output_type": "execute_result"
    }
   ],
   "source": [
    "diagrams[\"century\"].value_counts()"
   ]
  }
 ],
 "metadata": {
  "anaconda-cloud": {},
  "gist": {
   "data": {
    "description": "DiagramsAnalytics.ipynb",
    "public": false
   },
   "id": ""
  },
  "kernelspec": {
   "display_name": "Python [Root]",
   "language": "python",
   "name": "Python [Root]"
  },
  "language_info": {
   "codemirror_mode": {
    "name": "ipython",
    "version": 3
   },
   "file_extension": ".py",
   "mimetype": "text/x-python",
   "name": "python",
   "nbconvert_exporter": "python",
   "pygments_lexer": "ipython3",
   "version": "3.5.2"
  },
  "latex_envs": {
   "bibliofile": "biblio.bib",
   "cite_by": "apalike",
   "current_citInitial": 1,
   "eqLabelWithNumbers": true,
   "eqNumInitial": 0
  },
  "nav_menu": {},
  "toc": {
   "navigate_menu": true,
   "number_sections": true,
   "sideBar": true,
   "threshold": 6,
   "toc_cell": false,
   "toc_section_display": "block",
   "toc_window_display": true
  }
 },
 "nbformat": 4,
 "nbformat_minor": 0
}
