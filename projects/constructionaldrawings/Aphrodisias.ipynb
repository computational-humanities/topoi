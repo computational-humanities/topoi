{
 "cells": [
  {
   "cell_type": "markdown",
   "metadata": {},
   "source": [
    "wenn untere Ansicht nicht geht, kann man hier schauen <br>\n",
    "http://nbviewer.jupyter.org/github/computational-humanities/topoi/blob/dev_gordon/projects/constructionaldrawings/Aphrodisias.ipynb"
   ]
  },
  {
   "cell_type": "markdown",
   "metadata": {},
   "source": [
    "# Citable Loader\n",
    "Funktion um Bilder über die DOI zu laden"
   ]
  },
  {
   "cell_type": "code",
   "execution_count": null,
   "metadata": {
    "collapsed": false
   },
   "outputs": [],
   "source": [
    "from PIL import Image as PilImage\n",
    "from IPython.display import Image \n",
    "from pprint import pprint\n",
    "import requests, urllib, json, ijson\n",
    "from StringIO import StringIO \n",
    "\n",
    "def LoadImage( str ):\n",
    "   url=\"http://dx.doi.org/api/handles/\"+str\n",
    "   response = urllib.urlopen(url)\n",
    "   datas = json.loads(response.read())\n",
    "   f1=datas.values()[0][1]['data']['value']\n",
    "   f1=f1.replace(\"collection\",\"CitableHandler\")\n",
    "   response = requests.get(f1+'?getDigitalFormat') \n",
    "   img = PilImage.open(StringIO(response.content))\n",
    "   #Download image \n",
    "   tempVar=f1+'?getDigitalFormat'\n",
    "   res=urllib.urlretrieve(f1+'?getDigitalFormat', \"temp.jpg\")\n",
    "   #Open image\n",
    "   #img.show()\n",
    "   return Image(filename='temp.jpg')"
   ]
  },
  {
   "cell_type": "markdown",
   "metadata": {},
   "source": [
    "# Aufruf der Webseite\n",
    "Abfrage einer DOI um ein Bild zu laden"
   ]
  },
  {
   "cell_type": "code",
   "execution_count": null,
   "metadata": {
    "collapsed": false,
    "scrolled": false
   },
   "outputs": [],
   "source": [
    "from IPython.display import HTML\n",
    "HTML('<iframe src=http://repository.edition-topoi.org/collection/ACDC/object/Aphrodisias + width=100% height=450></iframe>')"
   ]
  },
  {
   "cell_type": "markdown",
   "metadata": {},
   "source": [
    "# Laden des Bildes \n",
    "Übergabe der DOI an den Citable Handler (Bild wird als temp.jpg lokal gespeichert)\n",
    "Anzeige des Bildes über die Python Image Funktion"
   ]
  },
  {
   "cell_type": "code",
   "execution_count": null,
   "metadata": {
    "collapsed": false
   },
   "outputs": [],
   "source": [
    "LoadImage(\"10.17171/2-1-1-0\")"
   ]
  }
 ],
 "metadata": {
  "kernelspec": {
   "display_name": "Python 2",
   "language": "python",
   "name": "python2"
  },
  "language_info": {
   "codemirror_mode": {
    "name": "ipython",
    "version": 2
   },
   "file_extension": ".py",
   "mimetype": "text/x-python",
   "name": "python",
   "nbconvert_exporter": "python",
   "pygments_lexer": "ipython2",
   "version": "2.7.12"
  }
 },
 "nbformat": 4,
 "nbformat_minor": 1
}
