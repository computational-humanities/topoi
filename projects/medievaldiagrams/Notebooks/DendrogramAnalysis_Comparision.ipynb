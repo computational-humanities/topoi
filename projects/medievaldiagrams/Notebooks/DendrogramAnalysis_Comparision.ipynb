{
 "cells": [
  {
   "cell_type": "markdown",
   "metadata": {},
   "source": [
    "# Hierarchical clustering and dendrogram generation\n",
    "\n",
    "Folliwng the tutorial: \n",
    "https://joernhees.de/blog/2015/08/26/scipy-hierarchical-clustering-and-dendrogram-tutorial/"
   ]
  },
  {
   "cell_type": "markdown",
   "metadata": {},
   "source": [
    "The value to replace invalid entries, like ?, nan, no attributes or '' is choosen as 0.5. This will influence the dendrogram. On the other hand, choosing 0 or 1 as replacement value is even more questionable. Another choice would be to delete the corresponding row and column."
   ]
  },
  {
   "cell_type": "code",
   "execution_count": 3,
   "metadata": {
    "collapsed": true
   },
   "outputs": [],
   "source": [
    "from matplotlib import pyplot as plt\n",
    "from scipy.cluster.hierarchy import dendrogram, linkage\n",
    "from scipy.cluster.hierarchy import cophenet\n",
    "from scipy.spatial.distance import pdist\n",
    "\n",
    "import numpy as np"
   ]
  },
  {
   "cell_type": "code",
   "execution_count": 4,
   "metadata": {
    "collapsed": true
   },
   "outputs": [],
   "source": [
    "%matplotlib inline\n",
    "np.set_printoptions(precision=5, suppress=True)"
   ]
  },
  {
   "cell_type": "code",
   "execution_count": 5,
   "metadata": {
    "collapsed": true
   },
   "outputs": [],
   "source": [
    "from medDiaJson import *\n",
    "from roman_date import from_roman"
   ]
  },
  {
   "cell_type": "code",
   "execution_count": 6,
   "metadata": {
    "collapsed": true
   },
   "outputs": [],
   "source": [
    "url = 'https://raw.githubusercontent.com/grasshoff/ComputationalHistoryScience/master/diaattr.json'\n",
    "diagrams = pd.read_json(url)"
   ]
  },
  {
   "cell_type": "code",
   "execution_count": 7,
   "metadata": {
    "collapsed": false
   },
   "outputs": [],
   "source": [
    "texts = list(set(diagrams.textID))\n",
    "diatypes = list(set(diagrams.diaTyp))"
   ]
  },
  {
   "cell_type": "markdown",
   "metadata": {},
   "source": [
    "# Dendrogram analysis"
   ]
  },
  {
   "cell_type": "code",
   "execution_count": 8,
   "metadata": {
    "collapsed": false
   },
   "outputs": [],
   "source": [
    "# Um alle Diagramme eines Textes zu vergleichen\n",
    "#Mtyp=reducedData(diagrams,[[\"textID\",texts[1]]])\n",
    "\n",
    "# Um alle Diagramme gleichen Types zu vergleichen:\n",
    "Mtyp=reducedData(diagrams,[[\"diaTyp\",diatypes[2]]])\n",
    "\n",
    "\n",
    "merkmaleV=Mtyp[[\"diaID\",\"diaAttr\"]].reset_index(drop=True)\n",
    "merkmaleV\n",
    "\n",
    "frames=[]\n",
    "for i in merkmaleV[\"diaAttr\"]:\n",
    "    j=pd.DataFrame(i)\n",
    "    frames.append(j)\n",
    "    \n",
    "MerkmaleDia=pd.concat(frames,ignore_index=True)"
   ]
  },
  {
   "cell_type": "code",
   "execution_count": 10,
   "metadata": {
    "collapsed": false
   },
   "outputs": [],
   "source": [
    "rplBy = 0.5\n",
    "\n",
    "vlList = list(pd.unique(MerkmaleDia.values.ravel()))\n",
    "if '?' in vlList:\n",
    "    MerkmaleDia.replace(['?'],[rplBy],inplace=True)\n",
    "#if np.isnan(vlList).any():\n",
    "#    MerkmaleDia.replace([np.float64(None)],[rplBy],inplace=True)\n",
    "if 'no attributes' in vlList:\n",
    "    MerkmaleDia.replace(['no attributes'],[rplBy],inplace=True)\n",
    "if '' in vlList:\n",
    "    MerkmaleDia.replace([''],[rplBy],inplace=True)"
   ]
  },
  {
   "cell_type": "code",
   "execution_count": 11,
   "metadata": {
    "collapsed": false
   },
   "outputs": [
    {
     "data": {
      "text/html": [
       "<div>\n",
       "<table border=\"1\" class=\"dataframe\">\n",
       "  <thead>\n",
       "    <tr style=\"text-align: right;\">\n",
       "      <th></th>\n",
       "      <th>M2.1</th>\n",
       "      <th>M2.10</th>\n",
       "      <th>M2.11</th>\n",
       "      <th>M2.12</th>\n",
       "      <th>M2.13</th>\n",
       "      <th>M2.14</th>\n",
       "      <th>M2.15</th>\n",
       "      <th>M2.16</th>\n",
       "      <th>M2.17</th>\n",
       "      <th>M2.18</th>\n",
       "      <th>...</th>\n",
       "      <th>M2.21</th>\n",
       "      <th>M2.22</th>\n",
       "      <th>M2.23</th>\n",
       "      <th>M2.3</th>\n",
       "      <th>M2.4</th>\n",
       "      <th>M2.5</th>\n",
       "      <th>M2.6</th>\n",
       "      <th>M2.7</th>\n",
       "      <th>M2.8</th>\n",
       "      <th>M2.9</th>\n",
       "    </tr>\n",
       "  </thead>\n",
       "  <tbody>\n",
       "    <tr>\n",
       "      <th>0</th>\n",
       "      <td>1</td>\n",
       "      <td>1</td>\n",
       "      <td>0.0</td>\n",
       "      <td>0</td>\n",
       "      <td>1</td>\n",
       "      <td>1.0</td>\n",
       "      <td>0</td>\n",
       "      <td>1.0</td>\n",
       "      <td>1</td>\n",
       "      <td>1</td>\n",
       "      <td>...</td>\n",
       "      <td>1</td>\n",
       "      <td>0</td>\n",
       "      <td>0.0</td>\n",
       "      <td>1</td>\n",
       "      <td>0</td>\n",
       "      <td>0</td>\n",
       "      <td>1.0</td>\n",
       "      <td>1</td>\n",
       "      <td>1</td>\n",
       "      <td>0</td>\n",
       "    </tr>\n",
       "    <tr>\n",
       "      <th>1</th>\n",
       "      <td>1</td>\n",
       "      <td>1</td>\n",
       "      <td>1.0</td>\n",
       "      <td>0</td>\n",
       "      <td>0</td>\n",
       "      <td>0.0</td>\n",
       "      <td>0</td>\n",
       "      <td>1.0</td>\n",
       "      <td>1</td>\n",
       "      <td>1</td>\n",
       "      <td>...</td>\n",
       "      <td>1</td>\n",
       "      <td>0</td>\n",
       "      <td>0.0</td>\n",
       "      <td>1</td>\n",
       "      <td>1</td>\n",
       "      <td>1</td>\n",
       "      <td>1.0</td>\n",
       "      <td>0</td>\n",
       "      <td>1</td>\n",
       "      <td>0</td>\n",
       "    </tr>\n",
       "    <tr>\n",
       "      <th>2</th>\n",
       "      <td>1</td>\n",
       "      <td>1</td>\n",
       "      <td>1.0</td>\n",
       "      <td>0</td>\n",
       "      <td>1</td>\n",
       "      <td>0.5</td>\n",
       "      <td>0</td>\n",
       "      <td>1.0</td>\n",
       "      <td>1</td>\n",
       "      <td>1</td>\n",
       "      <td>...</td>\n",
       "      <td>1</td>\n",
       "      <td>0</td>\n",
       "      <td>0.0</td>\n",
       "      <td>1</td>\n",
       "      <td>0</td>\n",
       "      <td>0</td>\n",
       "      <td>1.0</td>\n",
       "      <td>0</td>\n",
       "      <td>1</td>\n",
       "      <td>0</td>\n",
       "    </tr>\n",
       "    <tr>\n",
       "      <th>3</th>\n",
       "      <td>1</td>\n",
       "      <td>1</td>\n",
       "      <td>1.0</td>\n",
       "      <td>1</td>\n",
       "      <td>1</td>\n",
       "      <td>1.0</td>\n",
       "      <td>0</td>\n",
       "      <td>0.5</td>\n",
       "      <td>1</td>\n",
       "      <td>1</td>\n",
       "      <td>...</td>\n",
       "      <td>1</td>\n",
       "      <td>0</td>\n",
       "      <td>0.0</td>\n",
       "      <td>1</td>\n",
       "      <td>0</td>\n",
       "      <td>0</td>\n",
       "      <td>1.0</td>\n",
       "      <td>1</td>\n",
       "      <td>1</td>\n",
       "      <td>0</td>\n",
       "    </tr>\n",
       "    <tr>\n",
       "      <th>4</th>\n",
       "      <td>1</td>\n",
       "      <td>1</td>\n",
       "      <td>0.0</td>\n",
       "      <td>0</td>\n",
       "      <td>0</td>\n",
       "      <td>1.0</td>\n",
       "      <td>0</td>\n",
       "      <td>0.0</td>\n",
       "      <td>0</td>\n",
       "      <td>0</td>\n",
       "      <td>...</td>\n",
       "      <td>1</td>\n",
       "      <td>0</td>\n",
       "      <td>0.0</td>\n",
       "      <td>0</td>\n",
       "      <td>0</td>\n",
       "      <td>0</td>\n",
       "      <td>1.0</td>\n",
       "      <td>0</td>\n",
       "      <td>0</td>\n",
       "      <td>0</td>\n",
       "    </tr>\n",
       "    <tr>\n",
       "      <th>5</th>\n",
       "      <td>0</td>\n",
       "      <td>0</td>\n",
       "      <td>1.0</td>\n",
       "      <td>1</td>\n",
       "      <td>0</td>\n",
       "      <td>0.0</td>\n",
       "      <td>0</td>\n",
       "      <td>0.0</td>\n",
       "      <td>0</td>\n",
       "      <td>0</td>\n",
       "      <td>...</td>\n",
       "      <td>1</td>\n",
       "      <td>0</td>\n",
       "      <td>0.0</td>\n",
       "      <td>0</td>\n",
       "      <td>0</td>\n",
       "      <td>0</td>\n",
       "      <td>0.0</td>\n",
       "      <td>0</td>\n",
       "      <td>0</td>\n",
       "      <td>1</td>\n",
       "    </tr>\n",
       "    <tr>\n",
       "      <th>6</th>\n",
       "      <td>0</td>\n",
       "      <td>0</td>\n",
       "      <td>1.0</td>\n",
       "      <td>1</td>\n",
       "      <td>0</td>\n",
       "      <td>0.0</td>\n",
       "      <td>0</td>\n",
       "      <td>0.0</td>\n",
       "      <td>0</td>\n",
       "      <td>0</td>\n",
       "      <td>...</td>\n",
       "      <td>1</td>\n",
       "      <td>1</td>\n",
       "      <td>1.0</td>\n",
       "      <td>0</td>\n",
       "      <td>1</td>\n",
       "      <td>0</td>\n",
       "      <td>1.0</td>\n",
       "      <td>0</td>\n",
       "      <td>0</td>\n",
       "      <td>0</td>\n",
       "    </tr>\n",
       "    <tr>\n",
       "      <th>7</th>\n",
       "      <td>0</td>\n",
       "      <td>0</td>\n",
       "      <td>1.0</td>\n",
       "      <td>0</td>\n",
       "      <td>0</td>\n",
       "      <td>0.0</td>\n",
       "      <td>0</td>\n",
       "      <td>0.0</td>\n",
       "      <td>0</td>\n",
       "      <td>0</td>\n",
       "      <td>...</td>\n",
       "      <td>1</td>\n",
       "      <td>1</td>\n",
       "      <td>1.0</td>\n",
       "      <td>0</td>\n",
       "      <td>0</td>\n",
       "      <td>1</td>\n",
       "      <td>0.0</td>\n",
       "      <td>0</td>\n",
       "      <td>0</td>\n",
       "      <td>0</td>\n",
       "    </tr>\n",
       "    <tr>\n",
       "      <th>8</th>\n",
       "      <td>0</td>\n",
       "      <td>0</td>\n",
       "      <td>1.0</td>\n",
       "      <td>1</td>\n",
       "      <td>0</td>\n",
       "      <td>1.0</td>\n",
       "      <td>1</td>\n",
       "      <td>1.0</td>\n",
       "      <td>1</td>\n",
       "      <td>1</td>\n",
       "      <td>...</td>\n",
       "      <td>1</td>\n",
       "      <td>0</td>\n",
       "      <td>0.0</td>\n",
       "      <td>0</td>\n",
       "      <td>0</td>\n",
       "      <td>1</td>\n",
       "      <td>0.0</td>\n",
       "      <td>0</td>\n",
       "      <td>1</td>\n",
       "      <td>1</td>\n",
       "    </tr>\n",
       "    <tr>\n",
       "      <th>9</th>\n",
       "      <td>0</td>\n",
       "      <td>1</td>\n",
       "      <td>0.5</td>\n",
       "      <td>1</td>\n",
       "      <td>0</td>\n",
       "      <td>1.0</td>\n",
       "      <td>0</td>\n",
       "      <td>1.0</td>\n",
       "      <td>0</td>\n",
       "      <td>0</td>\n",
       "      <td>...</td>\n",
       "      <td>0</td>\n",
       "      <td>0</td>\n",
       "      <td>0.0</td>\n",
       "      <td>1</td>\n",
       "      <td>1</td>\n",
       "      <td>1</td>\n",
       "      <td>1.0</td>\n",
       "      <td>1</td>\n",
       "      <td>1</td>\n",
       "      <td>1</td>\n",
       "    </tr>\n",
       "    <tr>\n",
       "      <th>10</th>\n",
       "      <td>1</td>\n",
       "      <td>1</td>\n",
       "      <td>1.0</td>\n",
       "      <td>0</td>\n",
       "      <td>0</td>\n",
       "      <td>0.0</td>\n",
       "      <td>0</td>\n",
       "      <td>1.0</td>\n",
       "      <td>1</td>\n",
       "      <td>1</td>\n",
       "      <td>...</td>\n",
       "      <td>1</td>\n",
       "      <td>0</td>\n",
       "      <td>0.0</td>\n",
       "      <td>1</td>\n",
       "      <td>1</td>\n",
       "      <td>1</td>\n",
       "      <td>1.0</td>\n",
       "      <td>1</td>\n",
       "      <td>1</td>\n",
       "      <td>0</td>\n",
       "    </tr>\n",
       "    <tr>\n",
       "      <th>11</th>\n",
       "      <td>1</td>\n",
       "      <td>1</td>\n",
       "      <td>1.0</td>\n",
       "      <td>0</td>\n",
       "      <td>0</td>\n",
       "      <td>1.0</td>\n",
       "      <td>1</td>\n",
       "      <td>1.0</td>\n",
       "      <td>1</td>\n",
       "      <td>1</td>\n",
       "      <td>...</td>\n",
       "      <td>1</td>\n",
       "      <td>0</td>\n",
       "      <td>0.0</td>\n",
       "      <td>0</td>\n",
       "      <td>1</td>\n",
       "      <td>0</td>\n",
       "      <td>1.0</td>\n",
       "      <td>0</td>\n",
       "      <td>1</td>\n",
       "      <td>0</td>\n",
       "    </tr>\n",
       "    <tr>\n",
       "      <th>12</th>\n",
       "      <td>0</td>\n",
       "      <td>0</td>\n",
       "      <td>0.0</td>\n",
       "      <td>0</td>\n",
       "      <td>0</td>\n",
       "      <td>0.0</td>\n",
       "      <td>0</td>\n",
       "      <td>0.0</td>\n",
       "      <td>0</td>\n",
       "      <td>0</td>\n",
       "      <td>...</td>\n",
       "      <td>0</td>\n",
       "      <td>1</td>\n",
       "      <td>0.0</td>\n",
       "      <td>0</td>\n",
       "      <td>1</td>\n",
       "      <td>1</td>\n",
       "      <td>0.0</td>\n",
       "      <td>0</td>\n",
       "      <td>1</td>\n",
       "      <td>1</td>\n",
       "    </tr>\n",
       "    <tr>\n",
       "      <th>13</th>\n",
       "      <td>0</td>\n",
       "      <td>0</td>\n",
       "      <td>0.0</td>\n",
       "      <td>0</td>\n",
       "      <td>0</td>\n",
       "      <td>0.0</td>\n",
       "      <td>0</td>\n",
       "      <td>0.0</td>\n",
       "      <td>0</td>\n",
       "      <td>0</td>\n",
       "      <td>...</td>\n",
       "      <td>0</td>\n",
       "      <td>1</td>\n",
       "      <td>0.5</td>\n",
       "      <td>0</td>\n",
       "      <td>0</td>\n",
       "      <td>1</td>\n",
       "      <td>0.5</td>\n",
       "      <td>0</td>\n",
       "      <td>0</td>\n",
       "      <td>1</td>\n",
       "    </tr>\n",
       "  </tbody>\n",
       "</table>\n",
       "<p>14 rows × 23 columns</p>\n",
       "</div>"
      ],
      "text/plain": [
       "    M2.1  M2.10  M2.11  M2.12  M2.13  M2.14  M2.15  M2.16  M2.17  M2.18  ...   \\\n",
       "0      1      1    0.0      0      1    1.0      0    1.0      1      1  ...    \n",
       "1      1      1    1.0      0      0    0.0      0    1.0      1      1  ...    \n",
       "2      1      1    1.0      0      1    0.5      0    1.0      1      1  ...    \n",
       "3      1      1    1.0      1      1    1.0      0    0.5      1      1  ...    \n",
       "4      1      1    0.0      0      0    1.0      0    0.0      0      0  ...    \n",
       "5      0      0    1.0      1      0    0.0      0    0.0      0      0  ...    \n",
       "6      0      0    1.0      1      0    0.0      0    0.0      0      0  ...    \n",
       "7      0      0    1.0      0      0    0.0      0    0.0      0      0  ...    \n",
       "8      0      0    1.0      1      0    1.0      1    1.0      1      1  ...    \n",
       "9      0      1    0.5      1      0    1.0      0    1.0      0      0  ...    \n",
       "10     1      1    1.0      0      0    0.0      0    1.0      1      1  ...    \n",
       "11     1      1    1.0      0      0    1.0      1    1.0      1      1  ...    \n",
       "12     0      0    0.0      0      0    0.0      0    0.0      0      0  ...    \n",
       "13     0      0    0.0      0      0    0.0      0    0.0      0      0  ...    \n",
       "\n",
       "    M2.21  M2.22  M2.23  M2.3  M2.4  M2.5  M2.6  M2.7  M2.8  M2.9  \n",
       "0       1      0    0.0     1     0     0   1.0     1     1     0  \n",
       "1       1      0    0.0     1     1     1   1.0     0     1     0  \n",
       "2       1      0    0.0     1     0     0   1.0     0     1     0  \n",
       "3       1      0    0.0     1     0     0   1.0     1     1     0  \n",
       "4       1      0    0.0     0     0     0   1.0     0     0     0  \n",
       "5       1      0    0.0     0     0     0   0.0     0     0     1  \n",
       "6       1      1    1.0     0     1     0   1.0     0     0     0  \n",
       "7       1      1    1.0     0     0     1   0.0     0     0     0  \n",
       "8       1      0    0.0     0     0     1   0.0     0     1     1  \n",
       "9       0      0    0.0     1     1     1   1.0     1     1     1  \n",
       "10      1      0    0.0     1     1     1   1.0     1     1     0  \n",
       "11      1      0    0.0     0     1     0   1.0     0     1     0  \n",
       "12      0      1    0.0     0     1     1   0.0     0     1     1  \n",
       "13      0      1    0.5     0     0     1   0.5     0     0     1  \n",
       "\n",
       "[14 rows x 23 columns]"
      ]
     },
     "execution_count": 11,
     "metadata": {},
     "output_type": "execute_result"
    }
   ],
   "source": [
    "MerkmaleDia"
   ]
  },
  {
   "cell_type": "code",
   "execution_count": 12,
   "metadata": {
    "collapsed": false
   },
   "outputs": [
    {
     "name": "stdout",
     "output_type": "stream",
     "text": [
      "(14, 23)\n"
     ]
    },
    {
     "data": {
      "text/plain": [
       "array([ 0. ,  0.5,  1. ])"
      ]
     },
     "execution_count": 12,
     "metadata": {},
     "output_type": "execute_result"
    }
   ],
   "source": [
    "X = MerkmaleDia.values\n",
    "print(X.shape)\n",
    "np.unique(X)"
   ]
  },
  {
   "cell_type": "markdown",
   "metadata": {},
   "source": [
    "Possible methods: single, complete, average, weighted,centroid,median,ward\n",
    "\n",
    "Metric for ward,centroid and median needs to be euclidean\n",
    "\n",
    "Possible metrics include: euclidean, minkowski, cityblock, seuclidean, sqeuclidean, cosine, correlation, hamming,jaccard,chebyshev\n",
    "\n",
    "for full list check run  pdist?"
   ]
  },
  {
   "cell_type": "code",
   "execution_count": 13,
   "metadata": {
    "collapsed": false
   },
   "outputs": [
    {
     "data": {
      "image/png": "[encoded data removed]",
      "text/plain": [
       "<matplotlib.figure.Figure at 0x7feb29fbfe48>"
      ]
     },
     "metadata": {},
     "output_type": "display_data"
    }
   ],
   "source": [
    "Z = linkage(X, method='ward')\n",
    "\n",
    "plt.figure()\n",
    "plt.title('Hierarchical Clustering Dendrogram')\n",
    "plt.xlabel('sample index')\n",
    "plt.ylabel('distance')\n",
    "dendrogram(\n",
    "    Z,\n",
    "    leaf_rotation=90.,\n",
    "    leaf_font_size=12.\n",
    ")\n",
    "plt.show()"
   ]
  },
  {
   "cell_type": "markdown",
   "metadata": {},
   "source": [
    "## Weighted Euclidean distance\n",
    "\n",
    "To introduce a non-symmetric weigth on the distance metric, one can multiply the inverse of the L2-norm of vector x :  \n",
    "$dist(x,y) = \\frac{1}{|x|^2}\\sum\\left(x-y\\right)^2$ This implies that $dist(x,y) \\neq dist(y,x)$ and for $|x| > |y|$, $dist(x,y)> dist(y,x)$."
   ]
  },
  {
   "cell_type": "code",
   "execution_count": 25,
   "metadata": {
    "collapsed": true
   },
   "outputs": [],
   "source": [
    "def weightedeuclidean(u,v):\n",
    "    dist = np.sqrt(1/(np.sqrt((np.sum(u**2))))*((u-v)**2).sum())\n",
    "    return dist"
   ]
  },
  {
   "cell_type": "code",
   "execution_count": 26,
   "metadata": {
    "collapsed": false
   },
   "outputs": [
    {
     "name": "stdout",
     "output_type": "stream",
     "text": [
      "Norm of xvec is: 1.73205080757\n",
      "Norm of yvec is: 1.41421356237\n"
     ]
    }
   ],
   "source": [
    "xvec = np.array([1,1,1,0])\n",
    "yvec = np.array([1,1,0,0])\n",
    "zvec = np.array([1,1,0,1])\n",
    "\n",
    "print('Norm of xvec is:', np.linalg.norm(xvec))\n",
    "\n",
    "print('Norm of yvec is:', np.linalg.norm(yvec))"
   ]
  },
  {
   "cell_type": "code",
   "execution_count": 27,
   "metadata": {
    "collapsed": false
   },
   "outputs": [
    {
     "data": {
      "text/plain": [
       "False"
      ]
     },
     "execution_count": 27,
     "metadata": {},
     "output_type": "execute_result"
    }
   ],
   "source": [
    "weightedeuclidean(xvec,yvec) == weightedeuclidean(yvec,xvec)"
   ]
  },
  {
   "cell_type": "code",
   "execution_count": 28,
   "metadata": {
    "collapsed": false
   },
   "outputs": [
    {
     "data": {
      "text/plain": [
       "True"
      ]
     },
     "execution_count": 28,
     "metadata": {},
     "output_type": "execute_result"
    }
   ],
   "source": [
    "weightedeuclidean(xvec,yvec) < weightedeuclidean(yvec,xvec)"
   ]
  },
  {
   "cell_type": "code",
   "execution_count": 18,
   "metadata": {
    "collapsed": false
   },
   "outputs": [
    {
     "data": {
      "image/png": "[encoded data removed]",
      "text/plain": [
       "<matplotlib.figure.Figure at 0x7feb29f29e10>"
      ]
     },
     "metadata": {},
     "output_type": "display_data"
    }
   ],
   "source": [
    "#X = MerkmaleDia.values\n",
    "Y = pdist(X, lambda u, v: weightedeuclidean(u,v))#np.sqrt(1/(np.sqrt((np.sum(u))**2))*((u-v)**2).sum()))\n",
    "#Y = pdist(X,'wminkowski',p=2,w=[1]*len(X))\n",
    "Z = linkage(Y)#,method='single')\n",
    "#Z = linkage(X, method='single',metric='cosine')#,metric=metric)\n",
    "\n",
    "plt.figure()#figsize=(25, 10))\n",
    "plt.title('Hierarchical Clustering Dendrogram')\n",
    "plt.xlabel('sample index or (cluster size)')\n",
    "plt.ylabel('distance')\n",
    "dendrogram(\n",
    "    Z,\n",
    "    leaf_rotation=90.,\n",
    "    leaf_font_size=12.\n",
    ")\n",
    "plt.show()"
   ]
  },
  {
   "cell_type": "markdown",
   "metadata": {},
   "source": [
    "### Critic:\n",
    "\n",
    "This approach preferes diagrams with the most attributes. It is not taking care of the individual inheritance of each diagram attribute. "
   ]
  },
  {
   "cell_type": "markdown",
   "metadata": {},
   "source": [
    "To demontrate this, consider zvec = [1,1,0,1] and xvec  = [1,1,1,0], with $dist(x,z)=dist(z,x)$. But  "
   ]
  },
  {
   "cell_type": "code",
   "execution_count": 19,
   "metadata": {
    "collapsed": false
   },
   "outputs": [
    {
     "data": {
      "text/plain": [
       "True"
      ]
     },
     "execution_count": 19,
     "metadata": {},
     "output_type": "execute_result"
    }
   ],
   "source": [
    "weightedeuclidean(xvec,zvec) == weightedeuclidean(zvec,xvec)"
   ]
  },
  {
   "cell_type": "code",
   "execution_count": 29,
   "metadata": {
    "collapsed": false
   },
   "outputs": [
    {
     "data": {
      "text/plain": [
       "1.0"
      ]
     },
     "execution_count": 29,
     "metadata": {},
     "output_type": "execute_result"
    }
   ],
   "source": [
    "weightedattributes(np.array([0,1,0,1]),np.array([1,1,0,1])) "
   ]
  },
  {
   "cell_type": "code",
   "execution_count": 30,
   "metadata": {
    "collapsed": false
   },
   "outputs": [
    {
     "data": {
      "text/plain": [
       "1.5811388300841898"
      ]
     },
     "execution_count": 30,
     "metadata": {},
     "output_type": "execute_result"
    }
   ],
   "source": [
    "weightedattributes(np.array([0,1,0,1]),np.array([1,1,1,0])) "
   ]
  },
  {
   "cell_type": "markdown",
   "metadata": {},
   "source": [
    "## Including individual attribute weight\n",
    "\n"
   ]
  },
  {
   "cell_type": "code",
   "execution_count": 31,
   "metadata": {
    "collapsed": false
   },
   "outputs": [
    {
     "name": "stdout",
     "output_type": "stream",
     "text": [
      "Norm of xvec is: 1.73205080757\n",
      "Norm of yvec is: 1.41421356237\n"
     ]
    }
   ],
   "source": [
    "def weightedattributes(u,v):\n",
    "    dist = np.sqrt((1/(u+1)*(u-v)**2).sum())\n",
    "    return dist\n",
    "\n",
    "xvec = np.array([1,1,1,0])\n",
    "\n",
    "yvec = np.array([1,1,0,0])\n",
    "\n",
    "zvec = np.array([0,0,1,1])\n",
    "\n",
    "print('Norm of xvec is:', np.linalg.norm(xvec))\n",
    "\n",
    "print('Norm of yvec is:', np.linalg.norm(yvec))"
   ]
  },
  {
   "cell_type": "code",
   "execution_count": 32,
   "metadata": {
    "collapsed": false
   },
   "outputs": [
    {
     "data": {
      "text/plain": [
       "False"
      ]
     },
     "execution_count": 32,
     "metadata": {},
     "output_type": "execute_result"
    }
   ],
   "source": [
    "weightedattributes(xvec,yvec) == weightedattributes(yvec,xvec)"
   ]
  },
  {
   "cell_type": "code",
   "execution_count": 33,
   "metadata": {
    "collapsed": false
   },
   "outputs": [
    {
     "data": {
      "text/plain": [
       "True"
      ]
     },
     "execution_count": 33,
     "metadata": {},
     "output_type": "execute_result"
    }
   ],
   "source": [
    "weightedattributes(xvec,yvec) < weightedattributes(yvec,xvec)"
   ]
  },
  {
   "cell_type": "markdown",
   "metadata": {},
   "source": [
    "The change from xvec to yvec is a single 1->0 transition (an attribute is not copied correctly)"
   ]
  },
  {
   "cell_type": "code",
   "execution_count": 34,
   "metadata": {
    "collapsed": false
   },
   "outputs": [
    {
     "data": {
      "text/plain": [
       "0.70710678118654757"
      ]
     },
     "execution_count": 34,
     "metadata": {},
     "output_type": "execute_result"
    }
   ],
   "source": [
    "weightedattributes(np.array([1,1,1]),np.array([1,0,1]))"
   ]
  },
  {
   "cell_type": "code",
   "execution_count": 59,
   "metadata": {
    "collapsed": false
   },
   "outputs": [
    {
     "data": {
      "text/plain": [
       "0.5"
      ]
     },
     "execution_count": 59,
     "metadata": {},
     "output_type": "execute_result"
    }
   ],
   "source": [
    "u = np.array([1,1,1,1])\n",
    "v = np.array([1,1,1,0])\n",
    "\n",
    "d = np.sqrt((1/(2*(u+1))*(u-v)**2).sum())\n",
    "d"
   ]
  },
  {
   "cell_type": "markdown",
   "metadata": {},
   "source": [
    "However, the same change reversed from 0->1 has a higher weigth (it is more unlikely to invent a diagram attribute)"
   ]
  },
  {
   "cell_type": "code",
   "execution_count": 43,
   "metadata": {
    "collapsed": false
   },
   "outputs": [
    {
     "data": {
      "text/plain": [
       "1.0"
      ]
     },
     "execution_count": 43,
     "metadata": {},
     "output_type": "execute_result"
    }
   ],
   "source": [
    "weightedattributes(np.array([1,0,1]),np.array([1,1,1]))"
   ]
  },
  {
   "cell_type": "markdown",
   "metadata": {},
   "source": [
    "The change from xvec to zvec requieres three switches, 1->0,1->0 and 0-> (two attributes are lost, one new is added) and has a heigher weight"
   ]
  },
  {
   "cell_type": "code",
   "execution_count": 44,
   "metadata": {
    "collapsed": false
   },
   "outputs": [
    {
     "data": {
      "text/plain": [
       "1.4142135623730951"
      ]
     },
     "execution_count": 44,
     "metadata": {},
     "output_type": "execute_result"
    }
   ],
   "source": [
    "weightedattributes(xvec,zvec)"
   ]
  },
  {
   "cell_type": "code",
   "execution_count": 45,
   "metadata": {
    "collapsed": false
   },
   "outputs": [
    {
     "data": {
      "image/png": "[encoded data removed]",
      "text/plain": [
       "<matplotlib.figure.Figure at 0x7feb29fb23c8>"
      ]
     },
     "metadata": {},
     "output_type": "display_data"
    }
   ],
   "source": [
    "#X = MerkmaleDia.values\n",
    "Y = pdist(X, lambda u, v: weightedattributes(u,v))#np.sqrt(1/(np.sqrt((np.sum(u))**2))*((u-v)**2).sum()))\n",
    "#Y = pdist(X,'wminkowski',p=2,w=[1]*len(X))\n",
    "Z = linkage(Y)#,method='single')\n",
    "#Z = linkage(X, method='single',metric='cosine')#,metric=metric)\n",
    "\n",
    "plt.figure()#figsize=(25, 10))\n",
    "plt.title('Hierarchical Clustering Dendrogram')\n",
    "plt.xlabel('sample index or (cluster size)')\n",
    "plt.ylabel('distance')\n",
    "dendrogram(\n",
    "    Z,\n",
    "    leaf_rotation=90.,\n",
    "    leaf_font_size=12.\n",
    ")\n",
    "plt.show()"
   ]
  },
  {
   "cell_type": "markdown",
   "metadata": {},
   "source": [
    "# Comparing distance measures\n",
    "\n",
    "To compare the three different measures of distance between diagram attributes, we plot them next to each other. \n"
   ]
  },
  {
   "cell_type": "code",
   "execution_count": 68,
   "metadata": {
    "collapsed": true
   },
   "outputs": [],
   "source": [
    "%matplotlib notebook\n"
   ]
  },
  {
   "cell_type": "code",
   "execution_count": 79,
   "metadata": {
    "collapsed": false
   },
   "outputs": [
    {
     "data": {
      "application/javascript": [
       "/* Put everything inside the global mpl namespace */\n",
       "window.mpl = {};\n",
       "\n",
       "mpl.get_websocket_type = function() {\n",
       "    if (typeof(WebSocket) !== 'undefined') {\n",
       "        return WebSocket;\n",
       "    } else if (typeof(MozWebSocket) !== 'undefined') {\n",
       "        return MozWebSocket;\n",
       "    } else {\n",
       "        alert('Your browser does not have WebSocket support.' +\n",
       "              'Please try Chrome, Safari or Firefox ≥ 6. ' +\n",
       "              'Firefox 4 and 5 are also supported but you ' +\n",
       "              'have to enable WebSockets in about:config.');\n",
       "    };\n",
       "}\n",
       "\n",
       "mpl.figure = function(figure_id, websocket, ondownload, parent_element) {\n",
       "    this.id = figure_id;\n",
       "\n",
       "    this.ws = websocket;\n",
       "\n",
       "    this.supports_binary = (this.ws.binaryType != undefined);\n",
       "\n",
       "    if (!this.supports_binary) {\n",
       "        var warnings = document.getElementById(\"mpl-warnings\");\n",
       "        if (warnings) {\n",
       "            warnings.style.display = 'block';\n",
       "            warnings.textContent = (\n",
       "                \"This browser does not support binary websocket messages. \" +\n",
       "                    \"Performance may be slow.\");\n",
       "        }\n",
       "    }\n",
       "\n",
       "    this.imageObj = new Image();\n",
       "\n",
       "    this.context = undefined;\n",
       "    this.message = undefined;\n",
       "    this.canvas = undefined;\n",
       "    this.rubberband_canvas = undefined;\n",
       "    this.rubberband_context = undefined;\n",
       "    this.format_dropdown = undefined;\n",
       "\n",
       "    this.image_mode = 'full';\n",
       "\n",
       "    this.root = $('<div/>');\n",
       "    this._root_extra_style(this.root)\n",
       "    this.root.attr('style', 'display: inline-block');\n",
       "\n",
       "    $(parent_element).append(this.root);\n",
       "\n",
       "    this._init_header(this);\n",
       "    this._init_canvas(this);\n",
       "    this._init_toolbar(this);\n",
       "\n",
       "    var fig = this;\n",
       "\n",
       "    this.waiting = false;\n",
       "\n",
       "    this.ws.onopen =  function () {\n",
       "            fig.send_message(\"supports_binary\", {value: fig.supports_binary});\n",
       "            fig.send_message(\"send_image_mode\", {});\n",
       "            fig.send_message(\"refresh\", {});\n",
       "        }\n",
       "\n",
       "    this.imageObj.onload = function() {\n",
       "            if (fig.image_mode == 'full') {\n",
       "                // Full images could contain transparency (where diff images\n",
       "                // almost always do), so we need to clear the canvas so that\n",
       "                // there is no ghosting.\n",
       "                fig.context.clearRect(0, 0, fig.canvas.width, fig.canvas.height);\n",
       "            }\n",
       "            fig.context.drawImage(fig.imageObj, 0, 0);\n",
       "        };\n",
       "\n",
       "    this.imageObj.onunload = function() {\n",
       "        this.ws.close();\n",
       "    }\n",
       "\n",
       "    this.ws.onmessage = this._make_on_message_function(this);\n",
       "\n",
       "    this.ondownload = ondownload;\n",
       "}\n",
       "\n",
       "mpl.figure.prototype._init_header = function() {\n",
       "    var titlebar = $(\n",
       "        '<div class=\"ui-dialog-titlebar ui-widget-header ui-corner-all ' +\n",
       "        'ui-helper-clearfix\"/>');\n",
       "    var titletext = $(\n",
       "        '<div class=\"ui-dialog-title\" style=\"width: 100%; ' +\n",
       "        'text-align: center; padding: 3px;\"/>');\n",
       "    titlebar.append(titletext)\n",
       "    this.root.append(titlebar);\n",
       "    this.header = titletext[0];\n",
       "}\n",
       "\n",
       "\n",
       "\n",
       "mpl.figure.prototype._canvas_extra_style = function(canvas_div) {\n",
       "\n",
       "}\n",
       "\n",
       "\n",
       "mpl.figure.prototype._root_extra_style = function(canvas_div) {\n",
       "\n",
       "}\n",
       "\n",
       "mpl.figure.prototype._init_canvas = function() {\n",
       "    var fig = this;\n",
       "\n",
       "    var canvas_div = $('<div/>');\n",
       "\n",
       "    canvas_div.attr('style', 'position: relative; clear: both; outline: 0');\n",
       "\n",
       "    function canvas_keyboard_event(event) {\n",
       "        return fig.key_event(event, event['data']);\n",
       "    }\n",
       "\n",
       "    canvas_div.keydown('key_press', canvas_keyboard_event);\n",
       "    canvas_div.keyup('key_release', canvas_keyboard_event);\n",
       "    this.canvas_div = canvas_div\n",
       "    this._canvas_extra_style(canvas_div)\n",
       "    this.root.append(canvas_div);\n",
       "\n",
       "    var canvas = $('<canvas/>');\n",
       "    canvas.addClass('mpl-canvas');\n",
       "    canvas.attr('style', \"left: 0; top: 0; z-index: 0; outline: 0\")\n",
       "\n",
       "    this.canvas = canvas[0];\n",
       "    this.context = canvas[0].getContext(\"2d\");\n",
       "\n",
       "    var rubberband = $('<canvas/>');\n",
       "    rubberband.attr('style', \"position: absolute; left: 0; top: 0; z-index: 1;\")\n",
       "\n",
       "    var pass_mouse_events = true;\n",
       "\n",
       "    canvas_div.resizable({\n",
       "        start: function(event, ui) {\n",
       "            pass_mouse_events = false;\n",
       "        },\n",
       "        resize: function(event, ui) {\n",
       "            fig.request_resize(ui.size.width, ui.size.height);\n",
       "        },\n",
       "        stop: function(event, ui) {\n",
       "            pass_mouse_events = true;\n",
       "            fig.request_resize(ui.size.width, ui.size.height);\n",
       "        },\n",
       "    });\n",
       "\n",
       "    function mouse_event_fn(event) {\n",
       "        if (pass_mouse_events)\n",
       "            return fig.mouse_event(event, event['data']);\n",
       "    }\n",
       "\n",
       "    rubberband.mousedown('button_press', mouse_event_fn);\n",
       "    rubberband.mouseup('button_release', mouse_event_fn);\n",
       "    // Throttle sequential mouse events to 1 every 20ms.\n",
       "    rubberband.mousemove('motion_notify', mouse_event_fn);\n",
       "\n",
       "    rubberband.mouseenter('figure_enter', mouse_event_fn);\n",
       "    rubberband.mouseleave('figure_leave', mouse_event_fn);\n",
       "\n",
       "    canvas_div.on(\"wheel\", function (event) {\n",
       "        event = event.originalEvent;\n",
       "        event['data'] = 'scroll'\n",
       "        if (event.deltaY < 0) {\n",
       "            event.step = 1;\n",
       "        } else {\n",
       "            event.step = -1;\n",
       "        }\n",
       "        mouse_event_fn(event);\n",
       "    });\n",
       "\n",
       "    canvas_div.append(canvas);\n",
       "    canvas_div.append(rubberband);\n",
       "\n",
       "    this.rubberband = rubberband;\n",
       "    this.rubberband_canvas = rubberband[0];\n",
       "    this.rubberband_context = rubberband[0].getContext(\"2d\");\n",
       "    this.rubberband_context.strokeStyle = \"#000000\";\n",
       "\n",
       "    this._resize_canvas = function(width, height) {\n",
       "        // Keep the size of the canvas, canvas container, and rubber band\n",
       "        // canvas in synch.\n",
       "        canvas_div.css('width', width)\n",
       "        canvas_div.css('height', height)\n",
       "\n",
       "        canvas.attr('width', width);\n",
       "        canvas.attr('height', height);\n",
       "\n",
       "        rubberband.attr('width', width);\n",
       "        rubberband.attr('height', height);\n",
       "    }\n",
       "\n",
       "    // Set the figure to an initial 600x600px, this will subsequently be updated\n",
       "    // upon first draw.\n",
       "    this._resize_canvas(600, 600);\n",
       "\n",
       "    // Disable right mouse context menu.\n",
       "    $(this.rubberband_canvas).bind(\"contextmenu\",function(e){\n",
       "        return false;\n",
       "    });\n",
       "\n",
       "    function set_focus () {\n",
       "        canvas.focus();\n",
       "        canvas_div.focus();\n",
       "    }\n",
       "\n",
       "    window.setTimeout(set_focus, 100);\n",
       "}\n",
       "\n",
       "mpl.figure.prototype._init_toolbar = function() {\n",
       "    var fig = this;\n",
       "\n",
       "    var nav_element = $('<div/>')\n",
       "    nav_element.attr('style', 'width: 100%');\n",
       "    this.root.append(nav_element);\n",
       "\n",
       "    // Define a callback function for later on.\n",
       "    function toolbar_event(event) {\n",
       "        return fig.toolbar_button_onclick(event['data']);\n",
       "    }\n",
       "    function toolbar_mouse_event(event) {\n",
       "        return fig.toolbar_button_onmouseover(event['data']);\n",
       "    }\n",
       "\n",
       "    for(var toolbar_ind in mpl.toolbar_items) {\n",
       "        var name = mpl.toolbar_items[toolbar_ind][0];\n",
       "        var tooltip = mpl.toolbar_items[toolbar_ind][1];\n",
       "        var image = mpl.toolbar_items[toolbar_ind][2];\n",
       "        var method_name = mpl.toolbar_items[toolbar_ind][3];\n",
       "\n",
       "        if (!name) {\n",
       "            // put a spacer in here.\n",
       "            continue;\n",
       "        }\n",
       "        var button = $('<button/>');\n",
       "        button.addClass('ui-button ui-widget ui-state-default ui-corner-all ' +\n",
       "                        'ui-button-icon-only');\n",
       "        button.attr('role', 'button');\n",
       "        button.attr('aria-disabled', 'false');\n",
       "        button.click(method_name, toolbar_event);\n",
       "        button.mouseover(tooltip, toolbar_mouse_event);\n",
       "\n",
       "        var icon_img = $('<span/>');\n",
       "        icon_img.addClass('ui-button-icon-primary ui-icon');\n",
       "        icon_img.addClass(image);\n",
       "        icon_img.addClass('ui-corner-all');\n",
       "\n",
       "        var tooltip_span = $('<span/>');\n",
       "        tooltip_span.addClass('ui-button-text');\n",
       "        tooltip_span.html(tooltip);\n",
       "\n",
       "        button.append(icon_img);\n",
       "        button.append(tooltip_span);\n",
       "\n",
       "        nav_element.append(button);\n",
       "    }\n",
       "\n",
       "    var fmt_picker_span = $('<span/>');\n",
       "\n",
       "    var fmt_picker = $('<select/>');\n",
       "    fmt_picker.addClass('mpl-toolbar-option ui-widget ui-widget-content');\n",
       "    fmt_picker_span.append(fmt_picker);\n",
       "    nav_element.append(fmt_picker_span);\n",
       "    this.format_dropdown = fmt_picker[0];\n",
       "\n",
       "    for (var ind in mpl.extensions) {\n",
       "        var fmt = mpl.extensions[ind];\n",
       "        var option = $(\n",
       "            '<option/>', {selected: fmt === mpl.default_extension}).html(fmt);\n",
       "        fmt_picker.append(option)\n",
       "    }\n",
       "\n",
       "    // Add hover states to the ui-buttons\n",
       "    $( \".ui-button\" ).hover(\n",
       "        function() { $(this).addClass(\"ui-state-hover\");},\n",
       "        function() { $(this).removeClass(\"ui-state-hover\");}\n",
       "    );\n",
       "\n",
       "    var status_bar = $('<span class=\"mpl-message\"/>');\n",
       "    nav_element.append(status_bar);\n",
       "    this.message = status_bar[0];\n",
       "}\n",
       "\n",
       "mpl.figure.prototype.request_resize = function(x_pixels, y_pixels) {\n",
       "    // Request matplotlib to resize the figure. Matplotlib will then trigger a resize in the client,\n",
       "    // which will in turn request a refresh of the image.\n",
       "    this.send_message('resize', {'width': x_pixels, 'height': y_pixels});\n",
       "}\n",
       "\n",
       "mpl.figure.prototype.send_message = function(type, properties) {\n",
       "    properties['type'] = type;\n",
       "    properties['figure_id'] = this.id;\n",
       "    this.ws.send(JSON.stringify(properties));\n",
       "}\n",
       "\n",
       "mpl.figure.prototype.send_draw_message = function() {\n",
       "    if (!this.waiting) {\n",
       "        this.waiting = true;\n",
       "        this.ws.send(JSON.stringify({type: \"draw\", figure_id: this.id}));\n",
       "    }\n",
       "}\n",
       "\n",
       "\n",
       "mpl.figure.prototype.handle_save = function(fig, msg) {\n",
       "    var format_dropdown = fig.format_dropdown;\n",
       "    var format = format_dropdown.options[format_dropdown.selectedIndex].value;\n",
       "    fig.ondownload(fig, format);\n",
       "}\n",
       "\n",
       "\n",
       "mpl.figure.prototype.handle_resize = function(fig, msg) {\n",
       "    var size = msg['size'];\n",
       "    if (size[0] != fig.canvas.width || size[1] != fig.canvas.height) {\n",
       "        fig._resize_canvas(size[0], size[1]);\n",
       "        fig.send_message(\"refresh\", {});\n",
       "    };\n",
       "}\n",
       "\n",
       "mpl.figure.prototype.handle_rubberband = function(fig, msg) {\n",
       "    var x0 = msg['x0'];\n",
       "    var y0 = fig.canvas.height - msg['y0'];\n",
       "    var x1 = msg['x1'];\n",
       "    var y1 = fig.canvas.height - msg['y1'];\n",
       "    x0 = Math.floor(x0) + 0.5;\n",
       "    y0 = Math.floor(y0) + 0.5;\n",
       "    x1 = Math.floor(x1) + 0.5;\n",
       "    y1 = Math.floor(y1) + 0.5;\n",
       "    var min_x = Math.min(x0, x1);\n",
       "    var min_y = Math.min(y0, y1);\n",
       "    var width = Math.abs(x1 - x0);\n",
       "    var height = Math.abs(y1 - y0);\n",
       "\n",
       "    fig.rubberband_context.clearRect(\n",
       "        0, 0, fig.canvas.width, fig.canvas.height);\n",
       "\n",
       "    fig.rubberband_context.strokeRect(min_x, min_y, width, height);\n",
       "}\n",
       "\n",
       "mpl.figure.prototype.handle_figure_label = function(fig, msg) {\n",
       "    // Updates the figure title.\n",
       "    fig.header.textContent = msg['label'];\n",
       "}\n",
       "\n",
       "mpl.figure.prototype.handle_cursor = function(fig, msg) {\n",
       "    var cursor = msg['cursor'];\n",
       "    switch(cursor)\n",
       "    {\n",
       "    case 0:\n",
       "        cursor = 'pointer';\n",
       "        break;\n",
       "    case 1:\n",
       "        cursor = 'default';\n",
       "        break;\n",
       "    case 2:\n",
       "        cursor = 'crosshair';\n",
       "        break;\n",
       "    case 3:\n",
       "        cursor = 'move';\n",
       "        break;\n",
       "    }\n",
       "    fig.rubberband_canvas.style.cursor = cursor;\n",
       "}\n",
       "\n",
       "mpl.figure.prototype.handle_message = function(fig, msg) {\n",
       "    fig.message.textContent = msg['message'];\n",
       "}\n",
       "\n",
       "mpl.figure.prototype.handle_draw = function(fig, msg) {\n",
       "    // Request the server to send over a new figure.\n",
       "    fig.send_draw_message();\n",
       "}\n",
       "\n",
       "mpl.figure.prototype.handle_image_mode = function(fig, msg) {\n",
       "    fig.image_mode = msg['mode'];\n",
       "}\n",
       "\n",
       "mpl.figure.prototype.updated_canvas_event = function() {\n",
       "    // Called whenever the canvas gets updated.\n",
       "    this.send_message(\"ack\", {});\n",
       "}\n",
       "\n",
       "// A function to construct a web socket function for onmessage handling.\n",
       "// Called in the figure constructor.\n",
       "mpl.figure.prototype._make_on_message_function = function(fig) {\n",
       "    return function socket_on_message(evt) {\n",
       "        if (evt.data instanceof Blob) {\n",
       "            /* FIXME: We get \"Resource interpreted as Image but\n",
       "             * transferred with MIME type text/plain:\" errors on\n",
       "             * Chrome.  But how to set the MIME type?  It doesn't seem\n",
       "             * to be part of the websocket stream */\n",
       "            evt.data.type = \"image/png\";\n",
       "\n",
       "            /* Free the memory for the previous frames */\n",
       "            if (fig.imageObj.src) {\n",
       "                (window.URL || window.webkitURL).revokeObjectURL(\n",
       "                    fig.imageObj.src);\n",
       "            }\n",
       "\n",
       "            fig.imageObj.src = (window.URL || window.webkitURL).createObjectURL(\n",
       "                evt.data);\n",
       "            fig.updated_canvas_event();\n",
       "            fig.waiting = false;\n",
       "            return;\n",
       "        }\n",
       "        else if (typeof evt.data === 'string' && evt.data.slice(0, 21) == \"data:image/png;base64\") {\n",
       "            fig.imageObj.src = evt.data;\n",
       "            fig.updated_canvas_event();\n",
       "            fig.waiting = false;\n",
       "            return;\n",
       "        }\n",
       "\n",
       "        var msg = JSON.parse(evt.data);\n",
       "        var msg_type = msg['type'];\n",
       "\n",
       "        // Call the  \"handle_{type}\" callback, which takes\n",
       "        // the figure and JSON message as its only arguments.\n",
       "        try {\n",
       "            var callback = fig[\"handle_\" + msg_type];\n",
       "        } catch (e) {\n",
       "            console.log(\"No handler for the '\" + msg_type + \"' message type: \", msg);\n",
       "            return;\n",
       "        }\n",
       "\n",
       "        if (callback) {\n",
       "            try {\n",
       "                // console.log(\"Handling '\" + msg_type + \"' message: \", msg);\n",
       "                callback(fig, msg);\n",
       "            } catch (e) {\n",
       "                console.log(\"Exception inside the 'handler_\" + msg_type + \"' callback:\", e, e.stack, msg);\n",
       "            }\n",
       "        }\n",
       "    };\n",
       "}\n",
       "\n",
       "// from http://stackoverflow.com/questions/1114465/getting-mouse-location-in-canvas\n",
       "mpl.findpos = function(e) {\n",
       "    //this section is from http://www.quirksmode.org/js/events_properties.html\n",
       "    var targ;\n",
       "    if (!e)\n",
       "        e = window.event;\n",
       "    if (e.target)\n",
       "        targ = e.target;\n",
       "    else if (e.srcElement)\n",
       "        targ = e.srcElement;\n",
       "    if (targ.nodeType == 3) // defeat Safari bug\n",
       "        targ = targ.parentNode;\n",
       "\n",
       "    // jQuery normalizes the pageX and pageY\n",
       "    // pageX,Y are the mouse positions relative to the document\n",
       "    // offset() returns the position of the element relative to the document\n",
       "    var x = e.pageX - $(targ).offset().left;\n",
       "    var y = e.pageY - $(targ).offset().top;\n",
       "\n",
       "    return {\"x\": x, \"y\": y};\n",
       "};\n",
       "\n",
       "/*\n",
       " * return a copy of an object with only non-object keys\n",
       " * we need this to avoid circular references\n",
       " * http://stackoverflow.com/a/24161582/3208463\n",
       " */\n",
       "function simpleKeys (original) {\n",
       "  return Object.keys(original).reduce(function (obj, key) {\n",
       "    if (typeof original[key] !== 'object')\n",
       "        obj[key] = original[key]\n",
       "    return obj;\n",
       "  }, {});\n",
       "}\n",
       "\n",
       "mpl.figure.prototype.mouse_event = function(event, name) {\n",
       "    var canvas_pos = mpl.findpos(event)\n",
       "\n",
       "    if (name === 'button_press')\n",
       "    {\n",
       "        this.canvas.focus();\n",
       "        this.canvas_div.focus();\n",
       "    }\n",
       "\n",
       "    var x = canvas_pos.x;\n",
       "    var y = canvas_pos.y;\n",
       "\n",
       "    this.send_message(name, {x: x, y: y, button: event.button,\n",
       "                             step: event.step,\n",
       "                             guiEvent: simpleKeys(event)});\n",
       "\n",
       "    /* This prevents the web browser from automatically changing to\n",
       "     * the text insertion cursor when the button is pressed.  We want\n",
       "     * to control all of the cursor setting manually through the\n",
       "     * 'cursor' event from matplotlib */\n",
       "    event.preventDefault();\n",
       "    return false;\n",
       "}\n",
       "\n",
       "mpl.figure.prototype._key_event_extra = function(event, name) {\n",
       "    // Handle any extra behaviour associated with a key event\n",
       "}\n",
       "\n",
       "mpl.figure.prototype.key_event = function(event, name) {\n",
       "\n",
       "    // Prevent repeat events\n",
       "    if (name == 'key_press')\n",
       "    {\n",
       "        if (event.which === this._key)\n",
       "            return;\n",
       "        else\n",
       "            this._key = event.which;\n",
       "    }\n",
       "    if (name == 'key_release')\n",
       "        this._key = null;\n",
       "\n",
       "    var value = '';\n",
       "    if (event.ctrlKey && event.which != 17)\n",
       "        value += \"ctrl+\";\n",
       "    if (event.altKey && event.which != 18)\n",
       "        value += \"alt+\";\n",
       "    if (event.shiftKey && event.which != 16)\n",
       "        value += \"shift+\";\n",
       "\n",
       "    value += 'k';\n",
       "    value += event.which.toString();\n",
       "\n",
       "    this._key_event_extra(event, name);\n",
       "\n",
       "    this.send_message(name, {key: value,\n",
       "                             guiEvent: simpleKeys(event)});\n",
       "    return false;\n",
       "}\n",
       "\n",
       "mpl.figure.prototype.toolbar_button_onclick = function(name) {\n",
       "    if (name == 'download') {\n",
       "        this.handle_save(this, null);\n",
       "    } else {\n",
       "        this.send_message(\"toolbar_button\", {name: name});\n",
       "    }\n",
       "};\n",
       "\n",
       "mpl.figure.prototype.toolbar_button_onmouseover = function(tooltip) {\n",
       "    this.message.textContent = tooltip;\n",
       "};\n",
       "mpl.toolbar_items = [[\"Home\", \"Reset original view\", \"fa fa-home icon-home\", \"home\"], [\"Back\", \"Back to  previous view\", \"fa fa-arrow-left icon-arrow-left\", \"back\"], [\"Forward\", \"Forward to next view\", \"fa fa-arrow-right icon-arrow-right\", \"forward\"], [\"\", \"\", \"\", \"\"], [\"Pan\", \"Pan axes with left mouse, zoom with right\", \"fa fa-arrows icon-move\", \"pan\"], [\"Zoom\", \"Zoom to rectangle\", \"fa fa-square-o icon-check-empty\", \"zoom\"], [\"\", \"\", \"\", \"\"], [\"Download\", \"Download plot\", \"fa fa-floppy-o icon-save\", \"download\"]];\n",
       "\n",
       "mpl.extensions = [\"eps\", \"jpeg\", \"pdf\", \"png\", \"ps\", \"raw\", \"svg\", \"tif\"];\n",
       "\n",
       "mpl.default_extension = \"png\";var comm_websocket_adapter = function(comm) {\n",
       "    // Create a \"websocket\"-like object which calls the given IPython comm\n",
       "    // object with the appropriate methods. Currently this is a non binary\n",
       "    // socket, so there is still some room for performance tuning.\n",
       "    var ws = {};\n",
       "\n",
       "    ws.close = function() {\n",
       "        comm.close()\n",
       "    };\n",
       "    ws.send = function(m) {\n",
       "        //console.log('sending', m);\n",
       "        comm.send(m);\n",
       "    };\n",
       "    // Register the callback with on_msg.\n",
       "    comm.on_msg(function(msg) {\n",
       "        //console.log('receiving', msg['content']['data'], msg);\n",
       "        // Pass the mpl event to the overriden (by mpl) onmessage function.\n",
       "        ws.onmessage(msg['content']['data'])\n",
       "    });\n",
       "    return ws;\n",
       "}\n",
       "\n",
       "mpl.mpl_figure_comm = function(comm, msg) {\n",
       "    // This is the function which gets called when the mpl process\n",
       "    // starts-up an IPython Comm through the \"matplotlib\" channel.\n",
       "\n",
       "    var id = msg.content.data.id;\n",
       "    // Get hold of the div created by the display call when the Comm\n",
       "    // socket was opened in Python.\n",
       "    var element = $(\"#\" + id);\n",
       "    var ws_proxy = comm_websocket_adapter(comm)\n",
       "\n",
       "    function ondownload(figure, format) {\n",
       "        window.open(figure.imageObj.src);\n",
       "    }\n",
       "\n",
       "    var fig = new mpl.figure(id, ws_proxy,\n",
       "                           ondownload,\n",
       "                           element.get(0));\n",
       "\n",
       "    // Call onopen now - mpl needs it, as it is assuming we've passed it a real\n",
       "    // web socket which is closed, not our websocket->open comm proxy.\n",
       "    ws_proxy.onopen();\n",
       "\n",
       "    fig.parent_element = element.get(0);\n",
       "    fig.cell_info = mpl.find_output_cell(\"<div id='\" + id + \"'></div>\");\n",
       "    if (!fig.cell_info) {\n",
       "        console.error(\"Failed to find cell for figure\", id, fig);\n",
       "        return;\n",
       "    }\n",
       "\n",
       "    var output_index = fig.cell_info[2]\n",
       "    var cell = fig.cell_info[0];\n",
       "\n",
       "};\n",
       "\n",
       "mpl.figure.prototype.handle_close = function(fig, msg) {\n",
       "    fig.root.unbind('remove')\n",
       "\n",
       "    // Update the output cell to use the data from the current canvas.\n",
       "    fig.push_to_output();\n",
       "    var dataURL = fig.canvas.toDataURL();\n",
       "    // Re-enable the keyboard manager in IPython - without this line, in FF,\n",
       "    // the notebook keyboard shortcuts fail.\n",
       "    IPython.keyboard_manager.enable()\n",
       "    $(fig.parent_element).html('<img src=\"' + dataURL + '\">');\n",
       "    fig.close_ws(fig, msg);\n",
       "}\n",
       "\n",
       "mpl.figure.prototype.close_ws = function(fig, msg){\n",
       "    fig.send_message('closing', msg);\n",
       "    // fig.ws.close()\n",
       "}\n",
       "\n",
       "mpl.figure.prototype.push_to_output = function(remove_interactive) {\n",
       "    // Turn the data on the canvas into data in the output cell.\n",
       "    var dataURL = this.canvas.toDataURL();\n",
       "    this.cell_info[1]['text/html'] = '<img src=\"' + dataURL + '\">';\n",
       "}\n",
       "\n",
       "mpl.figure.prototype.updated_canvas_event = function() {\n",
       "    // Tell IPython that the notebook contents must change.\n",
       "    IPython.notebook.set_dirty(true);\n",
       "    this.send_message(\"ack\", {});\n",
       "    var fig = this;\n",
       "    // Wait a second, then push the new image to the DOM so\n",
       "    // that it is saved nicely (might be nice to debounce this).\n",
       "    setTimeout(function () { fig.push_to_output() }, 1000);\n",
       "}\n",
       "\n",
       "mpl.figure.prototype._init_toolbar = function() {\n",
       "    var fig = this;\n",
       "\n",
       "    var nav_element = $('<div/>')\n",
       "    nav_element.attr('style', 'width: 100%');\n",
       "    this.root.append(nav_element);\n",
       "\n",
       "    // Define a callback function for later on.\n",
       "    function toolbar_event(event) {\n",
       "        return fig.toolbar_button_onclick(event['data']);\n",
       "    }\n",
       "    function toolbar_mouse_event(event) {\n",
       "        return fig.toolbar_button_onmouseover(event['data']);\n",
       "    }\n",
       "\n",
       "    for(var toolbar_ind in mpl.toolbar_items){\n",
       "        var name = mpl.toolbar_items[toolbar_ind][0];\n",
       "        var tooltip = mpl.toolbar_items[toolbar_ind][1];\n",
       "        var image = mpl.toolbar_items[toolbar_ind][2];\n",
       "        var method_name = mpl.toolbar_items[toolbar_ind][3];\n",
       "\n",
       "        if (!name) { continue; };\n",
       "\n",
       "        var button = $('<button class=\"btn btn-default\" href=\"#\" title=\"' + name + '\"><i class=\"fa ' + image + ' fa-lg\"></i></button>');\n",
       "        button.click(method_name, toolbar_event);\n",
       "        button.mouseover(tooltip, toolbar_mouse_event);\n",
       "        nav_element.append(button);\n",
       "    }\n",
       "\n",
       "    // Add the status bar.\n",
       "    var status_bar = $('<span class=\"mpl-message\" style=\"text-align:right; float: right;\"/>');\n",
       "    nav_element.append(status_bar);\n",
       "    this.message = status_bar[0];\n",
       "\n",
       "    // Add the close button to the window.\n",
       "    var buttongrp = $('<div class=\"btn-group inline pull-right\"></div>');\n",
       "    var button = $('<button class=\"btn btn-mini btn-primary\" href=\"#\" title=\"Stop Interaction\"><i class=\"fa fa-power-off icon-remove icon-large\"></i></button>');\n",
       "    button.click(function (evt) { fig.handle_close(fig, {}); } );\n",
       "    button.mouseover('Stop Interaction', toolbar_mouse_event);\n",
       "    buttongrp.append(button);\n",
       "    var titlebar = this.root.find($('.ui-dialog-titlebar'));\n",
       "    titlebar.prepend(buttongrp);\n",
       "}\n",
       "\n",
       "mpl.figure.prototype._root_extra_style = function(el){\n",
       "    var fig = this\n",
       "    el.on(\"remove\", function(){\n",
       "\tfig.close_ws(fig, {});\n",
       "    });\n",
       "}\n",
       "\n",
       "mpl.figure.prototype._canvas_extra_style = function(el){\n",
       "    // this is important to make the div 'focusable\n",
       "    el.attr('tabindex', 0)\n",
       "    // reach out to IPython and tell the keyboard manager to turn it's self\n",
       "    // off when our div gets focus\n",
       "\n",
       "    // location in version 3\n",
       "    if (IPython.notebook.keyboard_manager) {\n",
       "        IPython.notebook.keyboard_manager.register_events(el);\n",
       "    }\n",
       "    else {\n",
       "        // location in version 2\n",
       "        IPython.keyboard_manager.register_events(el);\n",
       "    }\n",
       "\n",
       "}\n",
       "\n",
       "mpl.figure.prototype._key_event_extra = function(event, name) {\n",
       "    var manager = IPython.notebook.keyboard_manager;\n",
       "    if (!manager)\n",
       "        manager = IPython.keyboard_manager;\n",
       "\n",
       "    // Check for shift+enter\n",
       "    if (event.shiftKey && event.which == 13) {\n",
       "        this.canvas_div.blur();\n",
       "        event.shiftKey = false;\n",
       "        // Send a \"J\" for go to next cell\n",
       "        event.which = 74;\n",
       "        event.keyCode = 74;\n",
       "        manager.command_mode();\n",
       "        manager.handle_keydown(event);\n",
       "    }\n",
       "}\n",
       "\n",
       "mpl.figure.prototype.handle_save = function(fig, msg) {\n",
       "    fig.ondownload(fig, null);\n",
       "}\n",
       "\n",
       "\n",
       "mpl.find_output_cell = function(html_output) {\n",
       "    // Return the cell and output element which can be found *uniquely* in the notebook.\n",
       "    // Note - this is a bit hacky, but it is done because the \"notebook_saving.Notebook\"\n",
       "    // IPython event is triggered only after the cells have been serialised, which for\n",
       "    // our purposes (turning an active figure into a static one), is too late.\n",
       "    var cells = IPython.notebook.get_cells();\n",
       "    var ncells = cells.length;\n",
       "    for (var i=0; i<ncells; i++) {\n",
       "        var cell = cells[i];\n",
       "        if (cell.cell_type === 'code'){\n",
       "            for (var j=0; j<cell.output_area.outputs.length; j++) {\n",
       "                var data = cell.output_area.outputs[j];\n",
       "                if (data.data) {\n",
       "                    // IPython >= 3 moved mimebundle to data attribute of output\n",
       "                    data = data.data;\n",
       "                }\n",
       "                if (data['text/html'] == html_output) {\n",
       "                    return [cell, data, j];\n",
       "                }\n",
       "            }\n",
       "        }\n",
       "    }\n",
       "}\n",
       "\n",
       "// Register the function which deals with the matplotlib target/channel.\n",
       "// The kernel may be null if the page has been refreshed.\n",
       "if (IPython.notebook.kernel != null) {\n",
       "    IPython.notebook.kernel.comm_manager.register_target('matplotlib', mpl.mpl_figure_comm);\n",
       "}\n"
      ],
      "text/plain": [
       "<IPython.core.display.Javascript object>"
      ]
     },
     "metadata": {},
     "output_type": "display_data"
    },
    {
     "data": {
      "text/html": [
       "<img src=\"data:image/png;base64,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\">"
      ],
      "text/plain": [
       "<IPython.core.display.HTML object>"
      ]
     },
     "metadata": {},
     "output_type": "display_data"
    }
   ],
   "source": [
    "from collections import OrderedDict\n",
    "from ipywidgets import interact\n",
    "\n",
    "keyList = [str(x) for x in set(diagrams['diaTyp']) if x not in ['',0.0]]\n",
    "\n",
    "dtyDict = OrderedDict([(str(x),x) for x in keyList])\n",
    "\n",
    "def compareDistance(DiagramType):\n",
    "    fig, axes =  plt.subplots(1, 3, sharex=False, sharey=False)\n",
    "    fig.set_label('Hierarchical Clustering Dendrogram')\n",
    "\n",
    "    Mtyp=reducedData(diagrams,[[\"diaTyp\",float(DiagramType)]])\n",
    "\n",
    "    merkmaleV=Mtyp[[\"diaID\",\"diaAttr\"]].reset_index(drop=True)\n",
    "    merkmaleV\n",
    "\n",
    "    frames=[]\n",
    "    for i in merkmaleV[\"diaAttr\"]:\n",
    "        j=pd.DataFrame(i)\n",
    "        frames.append(j)\n",
    "\n",
    "    MerkmaleDia=pd.concat(frames,ignore_index=True)\n",
    "\n",
    "    rplBy = 0.5\n",
    "\n",
    "    vlList = list(pd.unique(MerkmaleDia.values.ravel()))\n",
    "    if '?' in vlList:\n",
    "        MerkmaleDia.replace(['?'],[rplBy],inplace=True)\n",
    "    #if np.isnan(vlList).any():\n",
    "    #    MerkmaleDia.replace([np.float64(None)],[rplBy],inplace=True)\n",
    "    if 'no attributes' in vlList:\n",
    "        MerkmaleDia.replace(['no attributes'],[rplBy],inplace=True)\n",
    "    if '' in vlList:\n",
    "        MerkmaleDia.replace([''],[rplBy],inplace=True)\n",
    "\n",
    "    X = MerkmaleDia.values\n",
    "\n",
    "    Z0 = linkage(X, method='ward')\n",
    "    axes[0].set_title('Ward distance')\n",
    "\n",
    "    Y1 = pdist(X, lambda u, v: weightedattributes(u,v))\n",
    "    Z1 = linkage(Y1)\n",
    "    axes[1].set_title('Weigth: individual')\n",
    "\n",
    "    Y2 = pdist(X, lambda u, v: weightedeuclidean(u,v))\n",
    "    Z2 = linkage(Y2)\n",
    "    axes[2].set_title('Weight: general')\n",
    "\n",
    "    #axes[0].xlabel('sample index')\n",
    "    #plt.ylabel('distance')\n",
    "\n",
    "    dendrogram(\n",
    "        Z0,\n",
    "        leaf_rotation=90.,\n",
    "        leaf_font_size=12.,\n",
    "        ax=axes[0]\n",
    "    );\n",
    "\n",
    "    dendrogram(\n",
    "        Z1,\n",
    "        leaf_rotation=90.,\n",
    "        leaf_font_size=12.,\n",
    "        ax=axes[1]\n",
    "    );\n",
    "\n",
    "    dendrogram(\n",
    "        Z2,\n",
    "        leaf_rotation=90.,\n",
    "        leaf_font_size=12.,\n",
    "        ax=axes[2]\n",
    "    );\n",
    "\n",
    "interact(compareDistance,DiagramType=dtyDict)"
   ]
  },
  {
   "cell_type": "markdown",
   "metadata": {},
   "source": [
    "# Comparing texts with same type of diagram"
   ]
  },
  {
   "cell_type": "markdown",
   "metadata": {},
   "source": [
    "## Find texts with same diagram types\n",
    "\n",
    "First, create list of diagrams per textID. Then, sort for number of diagrams and list those with,e.g., 5 diagrams. \n"
   ]
  },
  {
   "cell_type": "code",
   "execution_count": 60,
   "metadata": {
    "collapsed": false
   },
   "outputs": [
    {
     "name": "stdout",
     "output_type": "stream",
     "text": [
      "EJ(1)_A [1.0, 3.0, 5.0, 7.0, 7.0]\n",
      "AP(3)_B [1.0, 2.0, 3.0, 5.0, 7.0]\n",
      "FX(3)_A [11.0, 12.0, 13.0, 14.0, 15.0]\n",
      "QY(1)_A [1.0, 3.0, 5.0, 6.0, 7.0]\n",
      "HD(1)_A [10.0, 11.0, 12.0, 14.0, 15.0]\n",
      "LS(1)_A [10.0, 11.0, 12.0, 14.0, 15.0]\n",
      "FL(1)_A [10.0, 12.0, 13.0, 14.0, 14.0]\n",
      "JG(1)_A [10.0, 11.0, 12.0, 14.0, 15.0]\n",
      "AY(1)_C [1.0, 2.0, 3.0, 5.0, 7.0]\n",
      "FX(4)_A [10.0, 12.0, 13.0, 14.0, 15.0]\n"
     ]
    }
   ],
   "source": [
    "textDiaTypList = {}\n",
    "for text in texts: \n",
    "    tmp = (reducedData(diagrams,[['textID',text]])).diaTyp.tolist()\n",
    "    textDiaTypList[text] = tmp\n",
    "\n",
    "#sorted(list(textDiaTypList.values()), key=lambda x: len(x))\n",
    "nbDia = 5;\n",
    "\n",
    "for key, value in textDiaTypList.items():\n",
    "    if len(list(value)) == nbDia:\n",
    "        print(key, sorted(textDiaTypList[key]))"
   ]
  },
  {
   "cell_type": "markdown",
   "metadata": {},
   "source": [
    "Now handpick the text IDs with exactly the same diagram types."
   ]
  },
  {
   "cell_type": "code",
   "execution_count": 61,
   "metadata": {
    "collapsed": true
   },
   "outputs": [],
   "source": [
    "#Diagrams type 2,3,4, and 6\n",
    "dftext1 = reducedData(diagrams,[['textID','MP(2)_A']])\n",
    "dftext2 = reducedData(diagrams,[['textID','DL(1)_A']])\n",
    "dftext3 = reducedData(diagrams,[['textID','LL(1)_A']])\n",
    "\n",
    "dfDiaTyp2346 = pd.concat([dftext1,dftext2,dftext3]).reset_index(drop=True)"
   ]
  },
  {
   "cell_type": "code",
   "execution_count": 62,
   "metadata": {
    "collapsed": true
   },
   "outputs": [],
   "source": [
    "# Diagrams of type 10,11,12,14, and 15\n",
    "dftext4 = reducedData(diagrams,[['textID','JG(1)_A']])\n",
    "dftext5 = reducedData(diagrams,[['textID','LS(1)_A']])\n",
    "dftext6 = reducedData(diagrams,[['textID','HD(1)_A']])\n",
    "\n",
    "dfDiaTyp1011121415 = pd.concat([dftext4,dftext5,dftext6]).reset_index(drop=True)"
   ]
  },
  {
   "cell_type": "markdown",
   "metadata": {},
   "source": [
    "We can now construct the attribute dataframe in the usual manner. Note the comments on replacement of nan and other non-numerical values."
   ]
  },
  {
   "cell_type": "code",
   "execution_count": 63,
   "metadata": {
    "collapsed": false
   },
   "outputs": [
    {
     "name": "stdout",
     "output_type": "stream",
     "text": [
      "Dataframe contains values: [0.0, 1.0, '?']\n",
      "After cleaning, dataframe contains values: [0.0, 1.0, 0.5]\n"
     ]
    }
   ],
   "source": [
    "merkmaleV=dfDiaTyp1011121415[[\"diaID\",\"diaAttr\",'textID']].reset_index(drop=True)\n",
    "\n",
    "frames=[]\n",
    "for i in merkmaleV[\"diaAttr\"]:\n",
    "    j=pd.DataFrame(i).fillna(0.5) # If an attribute is encoded as nan, replace by 0.5 (= not really sure if there or not) \n",
    "    frames.append(j)\n",
    "      \n",
    "MerkmaleDia=pd.concat(frames,ignore_index=True).fillna(0) # Here nan corresponds to zero, since we concatenate dataframes with different diagram types,\n",
    "                                                          #  i.e. a df with typ 10 has for sure no attributes of type 11. \n",
    "\n",
    "rplBy = 0.5 # lastly, if there are still non-numerical values, they correspond to incomplete classification like ?, we set these to 0.5,too\n",
    "\n",
    "vlList = list(pd.unique(MerkmaleDia.values.ravel()))\n",
    "print('Dataframe contains values:', vlList)\n",
    "\n",
    "if '?' in vlList:\n",
    "    MerkmaleDia.replace(['?'],[rplBy],inplace=True)\n",
    "if 'no attributes' in vlList:\n",
    "    MerkmaleDia.replace(['no attributes'],[rplBy],inplace=True)\n",
    "if '' in vlList:\n",
    "    MerkmaleDia.replace([''],[rplBy],inplace=True)\n",
    "\n",
    "vlList2 = list(pd.unique(MerkmaleDia.values.ravel()))\n",
    "print('After cleaning, dataframe contains values:',vlList2)"
   ]
  },
  {
   "cell_type": "code",
   "execution_count": 64,
   "metadata": {
    "collapsed": true
   },
   "outputs": [],
   "source": [
    "# Augmented with marks at crossings of clusters.\n",
    "def augmented_dendrogram(*args, **kwargs):\n",
    "\n",
    "    ddata = dendrogram(*args, **kwargs)\n",
    "\n",
    "    if not kwargs.get('no_plot', False):\n",
    "        for i, d in zip(ddata['icoord'], ddata['dcoord']):\n",
    "            x = 0.5 * sum(i[1:3])\n",
    "            y = d[1]\n",
    "            plt.plot(x, y, 'ro')\n",
    "            plt.annotate(\"%.3g\" % y, (x, y), xytext=(0, -8),\n",
    "                         textcoords='offset points',\n",
    "                         va='top', ha='center')\n",
    "\n",
    "    return ddata"
   ]
  },
  {
   "cell_type": "code",
   "execution_count": 65,
   "metadata": {
    "collapsed": false
   },
   "outputs": [
    {
     "data": {
      "image/png": "[encoded data removed]",
      "text/plain": [
       "<matplotlib.figure.Figure at 0x7feb29e62f60>"
      ]
     },
     "metadata": {},
     "output_type": "display_data"
    }
   ],
   "source": [
    "X = MerkmaleDia.values\n",
    "Y = pdist(X, lambda u, v: weightedattributes(u,v))\n",
    "Z = linkage(Y)\n",
    "#Z = linkage(X, method='ward') # uncomment to see difference with above approach\n",
    "\n",
    "plt.figure()\n",
    "plt.title('Hierarchical Clustering Dendrogram')\n",
    "plt.xlabel('sample index')\n",
    "plt.ylabel('distance')\n",
    "augmented_dendrogram(\n",
    "    Z,\n",
    "    leaf_rotation=90.,\n",
    "    leaf_font_size=12.\n",
    ")\n",
    "plt.show()"
   ]
  },
  {
   "cell_type": "markdown",
   "metadata": {},
   "source": [
    "# Vergleiche alle Merkmale des JSON files\n"
   ]
  },
  {
   "cell_type": "code",
   "execution_count": 137,
   "metadata": {
    "collapsed": false
   },
   "outputs": [
    {
     "data": {
      "image/png": "[encoded data removed]",
      "text/plain": [
       "<matplotlib.figure.Figure at 0x7f8b37039128>"
      ]
     },
     "metadata": {},
     "output_type": "display_data"
    }
   ],
   "source": [
    "merkmaleV=diagrams[[\"diaID\",\"diaAttr\"]].reset_index(drop=True)\n",
    "merkmaleV\n",
    "\n",
    "frames=[]\n",
    "for i in merkmaleV[\"diaAttr\"]:\n",
    "    j=pd.DataFrame(i)\n",
    "    frames.append(j)\n",
    "    \n",
    "MerkmaleDia=pd.concat(frames,ignore_index=True).fillna(0.5)\n",
    "\n",
    "rplBy = 0.5\n",
    "\n",
    "vlList = list(pd.unique(MerkmaleDia.values.ravel()))\n",
    "\n",
    "if '?' in vlList:\n",
    "    MerkmaleDia.replace(['?'],[rplBy],inplace=True)\n",
    "if 'no attributes' in vlList:\n",
    "    MerkmaleDia.replace(['no attributes'],[rplBy],inplace=True)\n",
    "if '' in vlList:\n",
    "    MerkmaleDia.replace([''],[rplBy],inplace=True)\n",
    "\n",
    "            \n",
    "X = MerkmaleDia.values\n",
    "\n",
    "#metric = 'euclidean'\n",
    "#Z = linkage(X, method='ward',metric=metric)\n",
    "#c, coph_dists = cophenet(Z, pdist(X,metric=metric))\n",
    "#print(c)\n",
    "Y = pdist(X, lambda u, v: weightedattributes(u,v))\n",
    "#Y = pdist(X,'wminkowski',p=2,w=[1]*len(X))\n",
    "Z = linkage(Y)\n",
    "plt.figure(figsize=(25, 10))\n",
    "plt.title('Hierarchical Clustering Dendrogram')\n",
    "plt.xlabel('sample index or (cluster size)')\n",
    "plt.ylabel('distance')\n",
    "augmented_dendrogram(\n",
    "    Z,\n",
    "    #truncate_mode='lastp',  # show only the last p merged clusters\n",
    "    #p=60,  # show only the last p merged clusters\n",
    "    leaf_rotation=90.,\n",
    "    leaf_font_size=12.,\n",
    "    #show_contracted=True,\n",
    ")\n",
    "plt.show()"
   ]
  },
  {
   "cell_type": "code",
   "execution_count": null,
   "metadata": {
    "collapsed": true
   },
   "outputs": [],
   "source": []
  }
 ],
 "metadata": {
  "anaconda-cloud": {},
  "kernelspec": {
   "display_name": "Python [Root]",
   "language": "python",
   "name": "Python [Root]"
  },
  "language_info": {
   "codemirror_mode": {
    "name": "ipython",
    "version": 3
   },
   "file_extension": ".py",
   "mimetype": "text/x-python",
   "name": "python",
   "nbconvert_exporter": "python",
   "pygments_lexer": "ipython3",
   "version": "3.5.2"
  },
  "latex_envs": {
   "bibliofile": "biblio.bib",
   "cite_by": "apalike",
   "current_citInitial": 1,
   "eqLabelWithNumbers": true,
   "eqNumInitial": 0
  },
  "nav_menu": {},
  "toc": {
   "navigate_menu": true,
   "number_sections": true,
   "sideBar": true,
   "threshold": 6,
   "toc_cell": false,
   "toc_section_display": "block",
   "toc_window_display": true
  },
  "toc_position": {
   "height": "832px",
   "left": "0px",
   "right": "1708px",
   "top": "107px",
   "width": "212px"
  }
 },
 "nbformat": 4,
 "nbformat_minor": 0
}
