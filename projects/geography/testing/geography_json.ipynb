{
 "cells": [
  {
   "cell_type": "markdown",
   "metadata": {},
   "source": [
    "# Preliminary checks on the json file"
   ]
  },
  {
   "cell_type": "code",
   "execution_count": null,
   "metadata": {
    "collapsed": false
   },
   "outputs": [],
   "source": [
    "filepath = '../data/GeographyOmega.json'"
   ]
  },
  {
   "cell_type": "markdown",
   "metadata": {},
   "source": [
    "test"
   ]
  },
  {
   "cell_type": "markdown",
   "metadata": {},
   "source": [
    "## Check format of json in case of big files "
   ]
  },
  {
   "cell_type": "code",
   "execution_count": null,
   "metadata": {
    "collapsed": false,
    "scrolled": false
   },
   "outputs": [],
   "source": [
    "%%bash\n",
    "## Gives the header of json file\n",
    "\n",
    "head ../data/GeographyOmega.json"
   ]
  },
  {
   "cell_type": "code",
   "execution_count": null,
   "metadata": {
    "collapsed": false
   },
   "outputs": [],
   "source": [
    "%%bash\n",
    "# greps for lines with N spaces at the beginning\n",
    "# Good to get structure of json-file\n",
    "\n",
    "grep -E '^ {8}\"' ../data/GeographyOmega.json\n",
    "#grep -E '^ {24}\"' /home/malte/Dokumente/MPIWG/Geography/GeographyOmega.json\n",
    "#grep -E '^ {32}\"' /home/malte/Dokumente/MPIWG/Geography/GeographyOmega.json"
   ]
  },
  {
   "cell_type": "markdown",
   "metadata": {},
   "source": [
    "## Import json file, access chapters, sections, and tops or tops_table"
   ]
  },
  {
   "cell_type": "code",
   "execution_count": null,
   "metadata": {
    "collapsed": false
   },
   "outputs": [],
   "source": [
    "import json\n",
    "from pprint import pprint\n",
    "\n",
    "with open(filepath) as data_file:    \n",
    "    data = json.load(data_file)\n",
    "\n",
    "pprint(data[0][\"chaps\"][0][\"secs\"][2][\"tops_table\"][1])"
   ]
  },
  {
   "cell_type": "markdown",
   "metadata": {},
   "source": [
    "# Better accessible data with pandas framework"
   ]
  },
  {
   "cell_type": "code",
   "execution_count": null,
   "metadata": {
    "collapsed": false
   },
   "outputs": [],
   "source": [
    "# For data handling use pandas\n",
    "import pandas as pd\n",
    "from pandas.io.json import json_normalize\n",
    "\n",
    "# For mathematical issues use numpy\n",
    "import numpy as np\n",
    "\n",
    "# Provides an interface to leaflet.js for drawing interactive maps\n",
    "import folium\n",
    "from folium import plugins\n",
    "from folium.map import *\n",
    "\n",
    "# Note: The feature group layer control needs the development versin 0.3.0 of folium\n",
    "# Install by cloning into a folder:  \n",
    "#      git clone https://github.com/python-visualization/folium.git\n",
    "# change into the new folder folium and then \n",
    "#      pip3 install -e .\n",
    "# also install new dependency\n",
    "#      pip3 install branca\n",
    "# Requiers a restarting of the jupyter kernel\n",
    "# Check version by\n",
    "#      print(folium.__version__)\n",
    "# Output should be 0.3.0.dev"
   ]
  },
  {
   "cell_type": "code",
   "execution_count": null,
   "metadata": {
    "collapsed": false
   },
   "outputs": [],
   "source": [
    "# Open json file with pandas\n",
    "result = pd.DataFrame()\n",
    "\n",
    "with open(filepath) as data_file:\n",
    "    res = pd.read_json(data_file)\n",
    "    for i in range(len(res[\"chaps\"][0][0][\"secs\"])):\n",
    "        if 'tops' in res[\"chaps\"][0][0][\"secs\"][i]:\n",
    "            res_tmp = json_normalize(res[\"chaps\"][0][0][\"secs\"][i][\"tops\"])\n",
    "            res_tmp['sec'] = i + 1\n",
    "            result = result.append(res_tmp)\n",
    "        else:\n",
    "            res_tmp = json_normalize(res[\"chaps\"][0][0][\"secs\"][i][\"tops_table\"])\n",
    "            res_tmp['sec'] = i + 1\n",
    "            result = result.append(res_tmp)\n",
    "\n",
    "# rebuild dataframe with less information\n",
    "result = result[['sec','loc_name','loc_lat','loc_long','toponym_ge','lat_dec','long_dec']].reset_index(drop=True)\n",
    "\n",
    "# search for empty strings in latitude and longitude and replace with None\n",
    "result = result.replace(r'', np.nan, regex=True)\n",
    "\n",
    "# for dataframe including more information try the following\n",
    "#result[\"loc_lat\"] = result[\"loc_lat\"].replace('',None)\n",
    "#result[\"loc_long\"] = result[\"loc_long\"].replace('',None)\n",
    "\n",
    "# drop all rows where latitude or longitude is None\n",
    "res = result.dropna().reset_index(drop=True)\n",
    "\n",
    "#Comment to see original coordinates\n",
    "#NOTE: Meridian was different for Ptolemy (Ferro-Meridian), choose correction 27° 44′ 00″ = 27.73 dec\n",
    "res['long_dec'] = res['long_dec'].apply(lambda s: s - 27.73)\n",
    "\n",
    "#NOTE2: Seems there is a systematic error in latitude as well?! Substracting mean difference\n",
    "#res['lat_dec'] = res['lat_dec'].apply(lambda s: s)"
   ]
  },
  {
   "cell_type": "markdown",
   "metadata": {},
   "source": [
    "'chaps' is a nested-list, therefore \n",
    "```python\n",
    "res[\"chaps\"][0][j] \n",
    "```\n",
    "gives the (j-1)-th chapter.\n",
    "\n",
    "Every chapter contains\n",
    "```python\n",
    "len(res[\"chaps\"][0][0][\"secs\"])```\n",
    "sections, which can be accessed by their index. \n",
    "\n",
    "Since some sections contain tops and others tops_table, the key has to be switched accordingly by \n",
    "\n",
    "```python\n",
    "if 'tops' in ...```\n",
    "\n",
    "A new column with the section number is added to the dataframe by\n",
    "```python\n",
    "res_tmp['sec'] = i + 1```"
   ]
  },
  {
   "cell_type": "code",
   "execution_count": null,
   "metadata": {
    "collapsed": false
   },
   "outputs": [],
   "source": [
    "#Calculating mean differences of historical and verified coordinates\n",
    "lat_dif = (res['lat_dec']-res['loc_lat']).mean()\n",
    "long_dif = (res['long_dec'] - res['loc_long']) .mean()\n",
    "print('Mean difference in latitude:', lat_dif, ' and longitude:',long_dif)"
   ]
  },
  {
   "cell_type": "code",
   "execution_count": null,
   "metadata": {
    "collapsed": false,
    "scrolled": false
   },
   "outputs": [],
   "source": [
    "#Define globally opacity and weight for lines\n",
    "\n",
    "kw = dict(opacity=0.4, weight=2)\n",
    "kwb = dict(opacity=0.4, weight=3)\n",
    "\n",
    "# draw map centered on given coordinates and zoomed, \n",
    "#possible tiles include Openstreet Map (default), Stamen Terrain, Stamen Toner, Stamen Watercolor among other \n",
    "toponym_map = folium.Map(location=[res[\"loc_lat\"][5],res[\"loc_long\"][5]], zoom_start=8)\n",
    "toponym_map.add_tile_layer(name='Stamen Toner', tiles='Stamen Terrain')\n",
    "\n",
    "# Feature Groups allow in connection with LayerControl to choose, which features should be visible on map\n",
    "\n",
    "# generate clusters for markers, which are close together, FOR VERIFIED COORDINATES\n",
    "marker = FeatureGroup(name='Verified coordinates')\n",
    "marker_cluster = folium.MarkerCluster().add_to(marker)\n",
    "for i in range(len(res)-1):\n",
    "    folium.Marker([res[\"loc_lat\"][i], res[\"loc_long\"][i]], \n",
    "                  popup='Sec:' + str(res[\"sec\"][i]) + ' ' + res[\"toponym_ge\"][i],\n",
    "                  icon=folium.Icon(icon='ok')).add_to(marker_cluster)\n",
    "\n",
    "# generate clusters for markers, which are close together, FOR HISTORICAL COORDINATES\n",
    "markerHist = FeatureGroup(name='Historical coordinates')\n",
    "marker_cluster_hist = folium.MarkerCluster().add_to(markerHist)\n",
    "for i in range(len(res)-1):\n",
    "    folium.Marker([res[\"lat_dec\"][i], res[\"long_dec\"][i]], \n",
    "                  popup='Sec:' + str(res[\"sec\"][i]) + ' ' + res[\"toponym_ge\"][i] + ': Historical',\n",
    "                  icon=folium.Icon(icon='pencil',color='red')).add_to(marker_cluster_hist)\n",
    "\n",
    "#TODO: Find way to redraw map on historical coordinates, maybe by change of tiles?!\n",
    "    \n",
    "# Connect all locations in one section and add feature group for everyone\n",
    "secList = list(set(res['sec'].tolist()))\n",
    "secList.sort()\n",
    "\n",
    "colorDict = dict(zip(secList,('red','green','blue','orange','black')))\n",
    "\n",
    "for i in secList:  \n",
    "    tempLoc =   [(a,b) for a, b in zip(res.loc[res['sec'] == i]['lat_dec'],\\\n",
    "                                       res.loc[res['sec'] == i]['long_dec'])]\n",
    "    tempLocs = [[tempLoc[a],tempLoc[a+1]] for a in range(len(tempLoc)-1)]\n",
    "    result = folium.MultiPolyLine(locations=tempLocs, color=colorDict[i], **kwb)\n",
    "    feature = FeatureGroup(name='Connect places in Sec: '+ str(i))\n",
    "    feature.add_children(result)\n",
    "    toponym_map.add_children(feature)\n",
    "\n",
    "# generate feature group for displacement vectors between verified and historical coordinates\n",
    "for i in secList:\n",
    "    lines = []\n",
    "    veri = list(zip(res.loc[res['sec'] == i]['loc_lat'],res.loc[res['sec'] == i]['loc_long']))         \n",
    "    hist = list(zip(res.loc[res['sec'] == i]['lat_dec'],res.loc[res['sec'] == i]['long_dec']))\n",
    "    tempLocs = [[veri[i],hist[i]] for i in range(len(veri))]\n",
    "    for j in range(len(tempLocs)):\n",
    "        l1 = folium.PolyLine(locations=tempLocs[j], color=colorDict[i], **kw)\n",
    "        lines.append(l1)\n",
    "    displacement_feature = FeatureGroup(name='Difference vectors in Sec: ' + str(i))\n",
    "    for l in lines:\n",
    "        displacement_feature.add_children(l)\n",
    "    toponym_map.add_children(displacement_feature)\n",
    "\n",
    "\n",
    "toponym_map.add_children(marker)\n",
    "toponym_map.add_children(markerHist)\n",
    "\n",
    "toponym_map.add_children(folium.map.LayerControl())\n",
    "\n",
    "# save map as interactive html file\n",
    "toponym_map.save('toponyme.html')\n",
    "#draw map in jupyter\n",
    "toponym_map"
   ]
  },
  {
   "cell_type": "markdown",
   "metadata": {},
   "source": [
    "## Testing bokeh for plotting arrows\n",
    "\n",
    "no maps added yet"
   ]
  },
  {
   "cell_type": "code",
   "execution_count": null,
   "metadata": {
    "collapsed": false
   },
   "outputs": [],
   "source": [
    "import numpy as np\n",
    "from bokeh.plotting import figure, output_file, show\n",
    "from bokeh.io import output_notebook\n",
    "output_notebook()\n",
    "\n",
    "N = len(res)-1\n",
    "lat = np.array([res[\"loc_lat\"][i] for i in range(len(res)-1)])\n",
    "long = np.array([res[\"loc_long\"][i] for i in range(len(res)-1)])\n",
    "\n",
    "latHis = np.array([res[\"lat_dec\"][i] for i in range(len(res)-1)])\n",
    "longHis = np.array([res[\"long_dec\"][i] for i in range(len(res)-1)])\n",
    "\n",
    "radii = 0.03\n",
    "sizes= 10\n",
    "\n",
    "colors = [\"#%02x%02x%02x\" % (r,g,150) for r, g in zip(np.floor(50+2*lat).astype(int),np.floor(30+2*long).astype(int))]\n",
    "\n",
    "p = figure(title=\"Test\", x_axis_label='long', y_axis_label='lat')\n",
    "p.circle(long, lat, radius=radii, fill_color='#FF0000', fill_alpha=0.6, line_color=None)\n",
    "p.triangle(longHis,latHis, size=sizes, fill_color='#000000', fill_alpha=0.6, line_color=None)\n",
    "\n",
    "\n",
    "for i in range(len(res)-1):\n",
    "    p.line(x=[long[i],longHis[i]],y=[lat[i],latHis[i]],line_alpha=0.4)\n",
    "\n",
    "show(p)"
   ]
  },
  {
   "cell_type": "code",
   "execution_count": null,
   "metadata": {
    "collapsed": false
   },
   "outputs": [],
   "source": []
  }
 ],
 "metadata": {
  "kernelspec": {
   "display_name": "Python 3",
   "language": "python",
   "name": "python3"
  },
  "language_info": {
   "codemirror_mode": {
    "name": "ipython",
    "version": 3
   },
   "file_extension": ".py",
   "mimetype": "text/x-python",
   "name": "python",
   "nbconvert_exporter": "python",
   "pygments_lexer": "ipython3",
   "version": "3.5.2"
  },
  "nav_menu": {},
  "toc": {
   "navigate_menu": true,
   "number_sections": true,
   "sideBar": true,
   "threshold": 6,
   "toc_cell": false,
   "toc_section_display": "block",
   "toc_window_display": false
  }
 },
 "nbformat": 4,
 "nbformat_minor": 0
}
