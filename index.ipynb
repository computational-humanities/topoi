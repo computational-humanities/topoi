{
 "cells": [
  {
   "cell_type": "markdown",
   "metadata": {},
   "source": [
    "# Computational Humanities\n",
    "\n",
    "*The Formation and Transformation of Space and Knowledge in Ancient Civilizations*"
   ]
  },
  {
   "cell_type": "markdown",
   "metadata": {},
   "source": [
    "This collection of Jupyter notebooks is being developed at the Topoi cluster of excellence, https://www.topoi.org/, a joined effort of Humboldt University and Free University in Berlin, Germany. To provide some level of interaction, we use the Binder service as an intermediate tool. Each folder represents work on one thematic unit. The scope of notebooks ranges from short examples to full research naratives. "
   ]
  },
  {
   "cell_type": "markdown",
   "metadata": {},
   "source": [
    "## Medieval Diagrams"
   ]
  },
  {
   "cell_type": "markdown",
   "metadata": {},
   "source": [
    "Diagrams related to planetary phaenomena in early Medieval manuscripts are found in texts by Calcidius, Capella, Macrobius and Plinius. The collection covers all known diagrams of those authors. The collection contains facsimiles created from the Eastwood microfilm collection. \n",
    "\n",
    "[The Capella notebook](./projects/medievaldiagrams/testing/Capella_manuscript_analysis.ipynb) gives an overview of possible explorations with the http://www.edition-topoi.org/ repository.\n",
    "\n",
    "In the notebook on [dendrogram analysis](./projects/medievaldiagrams/Notebooks/DendrogramAnalysis_Comparision.ipynb) several different measures of similarity are compared, to establish tools for comparing attributes of diagrams. \n",
    "\n",
    "The notebook on [interactive dendrograms](./projects/medievaldiagrams/Notebooks/DendrogramAnalysis_Interactive.ipynb) showcases the use of interactive widgets for data handling and dendrogram comparision.\n"
   ]
  },
  {
   "cell_type": "markdown",
   "metadata": {},
   "source": [
    "## Ptolemy's Geography"
   ]
  },
  {
   "cell_type": "markdown",
   "metadata": {},
   "source": [
    "## Ancient Sundials"
   ]
  },
  {
   "cell_type": "code",
   "execution_count": null,
   "metadata": {
    "collapsed": false
   },
   "outputs": [],
   "source": []
  }
 ],
 "metadata": {
  "anaconda-cloud": {},
  "kernelspec": {
   "display_name": "Python 3",
   "language": "python",
   "name": "python3"
  },
  "language_info": {
   "codemirror_mode": {
    "name": "ipython",
    "version": 3
   },
   "file_extension": ".py",
   "mimetype": "text/x-python",
   "name": "python",
   "nbconvert_exporter": "python",
   "pygments_lexer": "ipython3",
   "version": "3.5.2"
  },
  "latex_envs": {
   "bibliofile": "biblio.bib",
   "cite_by": "apalike",
   "current_citInitial": 1,
   "eqLabelWithNumbers": true,
   "eqNumInitial": 0
  },
  "nav_menu": {},
  "toc": {
   "navigate_menu": true,
   "number_sections": true,
   "sideBar": true,
   "threshold": 6,
   "toc_cell": false,
   "toc_section_display": "block",
   "toc_window_display": false
  }
 },
 "nbformat": 4,
 "nbformat_minor": 0
}
